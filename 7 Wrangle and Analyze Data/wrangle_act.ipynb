{
 "cells": [
  {
   "cell_type": "code",
   "execution_count": 187,
   "metadata": {},
   "outputs": [],
   "source": [
    "import requests\n",
    "import pandas as pd\n",
    "import numpy as np\n",
    "import tweepy\n",
    "from io import StringIO"
   ]
  },
  {
   "cell_type": "markdown",
   "metadata": {},
   "source": [
    "# 1. Gathering"
   ]
  },
  {
   "cell_type": "markdown",
   "metadata": {},
   "source": [
    "## 1a. Import WeRateDogs Twitter archive as file on hand"
   ]
  },
  {
   "cell_type": "code",
   "execution_count": 188,
   "metadata": {},
   "outputs": [],
   "source": [
    "df_twit = pd.read_csv('twitter-archive-enhanced.csv')"
   ]
  },
  {
   "cell_type": "code",
   "execution_count": 189,
   "metadata": {},
   "outputs": [
    {
     "data": {
      "text/plain": [
       "(2356, 17)"
      ]
     },
     "execution_count": 189,
     "metadata": {},
     "output_type": "execute_result"
    }
   ],
   "source": [
    "df_twit.shape"
   ]
  },
  {
   "cell_type": "code",
   "execution_count": 190,
   "metadata": {},
   "outputs": [
    {
     "data": {
      "text/html": [
       "<div>\n",
       "<style>\n",
       "    .dataframe thead tr:only-child th {\n",
       "        text-align: right;\n",
       "    }\n",
       "\n",
       "    .dataframe thead th {\n",
       "        text-align: left;\n",
       "    }\n",
       "\n",
       "    .dataframe tbody tr th {\n",
       "        vertical-align: top;\n",
       "    }\n",
       "</style>\n",
       "<table border=\"1\" class=\"dataframe\">\n",
       "  <thead>\n",
       "    <tr style=\"text-align: right;\">\n",
       "      <th></th>\n",
       "      <th>tweet_id</th>\n",
       "      <th>in_reply_to_status_id</th>\n",
       "      <th>in_reply_to_user_id</th>\n",
       "      <th>timestamp</th>\n",
       "      <th>source</th>\n",
       "      <th>text</th>\n",
       "      <th>retweeted_status_id</th>\n",
       "      <th>retweeted_status_user_id</th>\n",
       "      <th>retweeted_status_timestamp</th>\n",
       "      <th>expanded_urls</th>\n",
       "      <th>rating_numerator</th>\n",
       "      <th>rating_denominator</th>\n",
       "      <th>name</th>\n",
       "      <th>doggo</th>\n",
       "      <th>floofer</th>\n",
       "      <th>pupper</th>\n",
       "      <th>puppo</th>\n",
       "    </tr>\n",
       "  </thead>\n",
       "  <tbody>\n",
       "    <tr>\n",
       "      <th>0</th>\n",
       "      <td>892420643555336193</td>\n",
       "      <td>NaN</td>\n",
       "      <td>NaN</td>\n",
       "      <td>2017-08-01 16:23:56 +0000</td>\n",
       "      <td>&lt;a href=\"http://twitter.com/download/iphone\" r...</td>\n",
       "      <td>This is Phineas. He's a mystical boy. Only eve...</td>\n",
       "      <td>NaN</td>\n",
       "      <td>NaN</td>\n",
       "      <td>NaN</td>\n",
       "      <td>https://twitter.com/dog_rates/status/892420643...</td>\n",
       "      <td>13</td>\n",
       "      <td>10</td>\n",
       "      <td>Phineas</td>\n",
       "      <td>None</td>\n",
       "      <td>None</td>\n",
       "      <td>None</td>\n",
       "      <td>None</td>\n",
       "    </tr>\n",
       "    <tr>\n",
       "      <th>1</th>\n",
       "      <td>892177421306343426</td>\n",
       "      <td>NaN</td>\n",
       "      <td>NaN</td>\n",
       "      <td>2017-08-01 00:17:27 +0000</td>\n",
       "      <td>&lt;a href=\"http://twitter.com/download/iphone\" r...</td>\n",
       "      <td>This is Tilly. She's just checking pup on you....</td>\n",
       "      <td>NaN</td>\n",
       "      <td>NaN</td>\n",
       "      <td>NaN</td>\n",
       "      <td>https://twitter.com/dog_rates/status/892177421...</td>\n",
       "      <td>13</td>\n",
       "      <td>10</td>\n",
       "      <td>Tilly</td>\n",
       "      <td>None</td>\n",
       "      <td>None</td>\n",
       "      <td>None</td>\n",
       "      <td>None</td>\n",
       "    </tr>\n",
       "    <tr>\n",
       "      <th>2</th>\n",
       "      <td>891815181378084864</td>\n",
       "      <td>NaN</td>\n",
       "      <td>NaN</td>\n",
       "      <td>2017-07-31 00:18:03 +0000</td>\n",
       "      <td>&lt;a href=\"http://twitter.com/download/iphone\" r...</td>\n",
       "      <td>This is Archie. He is a rare Norwegian Pouncin...</td>\n",
       "      <td>NaN</td>\n",
       "      <td>NaN</td>\n",
       "      <td>NaN</td>\n",
       "      <td>https://twitter.com/dog_rates/status/891815181...</td>\n",
       "      <td>12</td>\n",
       "      <td>10</td>\n",
       "      <td>Archie</td>\n",
       "      <td>None</td>\n",
       "      <td>None</td>\n",
       "      <td>None</td>\n",
       "      <td>None</td>\n",
       "    </tr>\n",
       "    <tr>\n",
       "      <th>3</th>\n",
       "      <td>891689557279858688</td>\n",
       "      <td>NaN</td>\n",
       "      <td>NaN</td>\n",
       "      <td>2017-07-30 15:58:51 +0000</td>\n",
       "      <td>&lt;a href=\"http://twitter.com/download/iphone\" r...</td>\n",
       "      <td>This is Darla. She commenced a snooze mid meal...</td>\n",
       "      <td>NaN</td>\n",
       "      <td>NaN</td>\n",
       "      <td>NaN</td>\n",
       "      <td>https://twitter.com/dog_rates/status/891689557...</td>\n",
       "      <td>13</td>\n",
       "      <td>10</td>\n",
       "      <td>Darla</td>\n",
       "      <td>None</td>\n",
       "      <td>None</td>\n",
       "      <td>None</td>\n",
       "      <td>None</td>\n",
       "    </tr>\n",
       "    <tr>\n",
       "      <th>4</th>\n",
       "      <td>891327558926688256</td>\n",
       "      <td>NaN</td>\n",
       "      <td>NaN</td>\n",
       "      <td>2017-07-29 16:00:24 +0000</td>\n",
       "      <td>&lt;a href=\"http://twitter.com/download/iphone\" r...</td>\n",
       "      <td>This is Franklin. He would like you to stop ca...</td>\n",
       "      <td>NaN</td>\n",
       "      <td>NaN</td>\n",
       "      <td>NaN</td>\n",
       "      <td>https://twitter.com/dog_rates/status/891327558...</td>\n",
       "      <td>12</td>\n",
       "      <td>10</td>\n",
       "      <td>Franklin</td>\n",
       "      <td>None</td>\n",
       "      <td>None</td>\n",
       "      <td>None</td>\n",
       "      <td>None</td>\n",
       "    </tr>\n",
       "  </tbody>\n",
       "</table>\n",
       "</div>"
      ],
      "text/plain": [
       "             tweet_id  in_reply_to_status_id  in_reply_to_user_id  \\\n",
       "0  892420643555336193                    NaN                  NaN   \n",
       "1  892177421306343426                    NaN                  NaN   \n",
       "2  891815181378084864                    NaN                  NaN   \n",
       "3  891689557279858688                    NaN                  NaN   \n",
       "4  891327558926688256                    NaN                  NaN   \n",
       "\n",
       "                   timestamp  \\\n",
       "0  2017-08-01 16:23:56 +0000   \n",
       "1  2017-08-01 00:17:27 +0000   \n",
       "2  2017-07-31 00:18:03 +0000   \n",
       "3  2017-07-30 15:58:51 +0000   \n",
       "4  2017-07-29 16:00:24 +0000   \n",
       "\n",
       "                                              source  \\\n",
       "0  <a href=\"http://twitter.com/download/iphone\" r...   \n",
       "1  <a href=\"http://twitter.com/download/iphone\" r...   \n",
       "2  <a href=\"http://twitter.com/download/iphone\" r...   \n",
       "3  <a href=\"http://twitter.com/download/iphone\" r...   \n",
       "4  <a href=\"http://twitter.com/download/iphone\" r...   \n",
       "\n",
       "                                                text  retweeted_status_id  \\\n",
       "0  This is Phineas. He's a mystical boy. Only eve...                  NaN   \n",
       "1  This is Tilly. She's just checking pup on you....                  NaN   \n",
       "2  This is Archie. He is a rare Norwegian Pouncin...                  NaN   \n",
       "3  This is Darla. She commenced a snooze mid meal...                  NaN   \n",
       "4  This is Franklin. He would like you to stop ca...                  NaN   \n",
       "\n",
       "   retweeted_status_user_id retweeted_status_timestamp  \\\n",
       "0                       NaN                        NaN   \n",
       "1                       NaN                        NaN   \n",
       "2                       NaN                        NaN   \n",
       "3                       NaN                        NaN   \n",
       "4                       NaN                        NaN   \n",
       "\n",
       "                                       expanded_urls  rating_numerator  \\\n",
       "0  https://twitter.com/dog_rates/status/892420643...                13   \n",
       "1  https://twitter.com/dog_rates/status/892177421...                13   \n",
       "2  https://twitter.com/dog_rates/status/891815181...                12   \n",
       "3  https://twitter.com/dog_rates/status/891689557...                13   \n",
       "4  https://twitter.com/dog_rates/status/891327558...                12   \n",
       "\n",
       "   rating_denominator      name doggo floofer pupper puppo  \n",
       "0                  10   Phineas  None    None   None  None  \n",
       "1                  10     Tilly  None    None   None  None  \n",
       "2                  10    Archie  None    None   None  None  \n",
       "3                  10     Darla  None    None   None  None  \n",
       "4                  10  Franklin  None    None   None  None  "
      ]
     },
     "execution_count": 190,
     "metadata": {},
     "output_type": "execute_result"
    }
   ],
   "source": [
    "df_twit.head()"
   ]
  },
  {
   "cell_type": "markdown",
   "metadata": {},
   "source": [
    "## 1b. Get Image Predictions from URL"
   ]
  },
  {
   "cell_type": "code",
   "execution_count": 191,
   "metadata": {},
   "outputs": [
    {
     "name": "stdout",
     "output_type": "stream",
     "text": [
      "200\n",
      "text/tab-separated-values; charset=utf-8\n",
      "utf-8\n"
     ]
    }
   ],
   "source": [
    "r = requests.get('https://d17h27t6h515a5.cloudfront.net/topher/2017/August/599fd2ad_image-predictions/image-predictions.tsv')\n",
    "print(r.status_code)\n",
    "print(r.headers['content-type'])\n",
    "print(r.encoding)"
   ]
  },
  {
   "cell_type": "code",
   "execution_count": 192,
   "metadata": {},
   "outputs": [],
   "source": [
    "df_pred = pd.read_csv(StringIO(r.text), dtype=str, sep='\\t')"
   ]
  },
  {
   "cell_type": "code",
   "execution_count": 193,
   "metadata": {},
   "outputs": [
    {
     "data": {
      "text/html": [
       "<div>\n",
       "<style>\n",
       "    .dataframe thead tr:only-child th {\n",
       "        text-align: right;\n",
       "    }\n",
       "\n",
       "    .dataframe thead th {\n",
       "        text-align: left;\n",
       "    }\n",
       "\n",
       "    .dataframe tbody tr th {\n",
       "        vertical-align: top;\n",
       "    }\n",
       "</style>\n",
       "<table border=\"1\" class=\"dataframe\">\n",
       "  <thead>\n",
       "    <tr style=\"text-align: right;\">\n",
       "      <th></th>\n",
       "      <th>tweet_id</th>\n",
       "      <th>jpg_url</th>\n",
       "      <th>img_num</th>\n",
       "      <th>p1</th>\n",
       "      <th>p1_conf</th>\n",
       "      <th>p1_dog</th>\n",
       "      <th>p2</th>\n",
       "      <th>p2_conf</th>\n",
       "      <th>p2_dog</th>\n",
       "      <th>p3</th>\n",
       "      <th>p3_conf</th>\n",
       "      <th>p3_dog</th>\n",
       "    </tr>\n",
       "  </thead>\n",
       "  <tbody>\n",
       "    <tr>\n",
       "      <th>0</th>\n",
       "      <td>666020888022790149</td>\n",
       "      <td>https://pbs.twimg.com/media/CT4udn0WwAA0aMy.jpg</td>\n",
       "      <td>1</td>\n",
       "      <td>Welsh_springer_spaniel</td>\n",
       "      <td>0.465074</td>\n",
       "      <td>True</td>\n",
       "      <td>collie</td>\n",
       "      <td>0.156665</td>\n",
       "      <td>True</td>\n",
       "      <td>Shetland_sheepdog</td>\n",
       "      <td>0.0614285</td>\n",
       "      <td>True</td>\n",
       "    </tr>\n",
       "    <tr>\n",
       "      <th>1</th>\n",
       "      <td>666029285002620928</td>\n",
       "      <td>https://pbs.twimg.com/media/CT42GRgUYAA5iDo.jpg</td>\n",
       "      <td>1</td>\n",
       "      <td>redbone</td>\n",
       "      <td>0.506826</td>\n",
       "      <td>True</td>\n",
       "      <td>miniature_pinscher</td>\n",
       "      <td>0.07419169999999999</td>\n",
       "      <td>True</td>\n",
       "      <td>Rhodesian_ridgeback</td>\n",
       "      <td>0.07201</td>\n",
       "      <td>True</td>\n",
       "    </tr>\n",
       "    <tr>\n",
       "      <th>2</th>\n",
       "      <td>666033412701032449</td>\n",
       "      <td>https://pbs.twimg.com/media/CT4521TWwAEvMyu.jpg</td>\n",
       "      <td>1</td>\n",
       "      <td>German_shepherd</td>\n",
       "      <td>0.596461</td>\n",
       "      <td>True</td>\n",
       "      <td>malinois</td>\n",
       "      <td>0.13858399999999998</td>\n",
       "      <td>True</td>\n",
       "      <td>bloodhound</td>\n",
       "      <td>0.11619700000000001</td>\n",
       "      <td>True</td>\n",
       "    </tr>\n",
       "    <tr>\n",
       "      <th>3</th>\n",
       "      <td>666044226329800704</td>\n",
       "      <td>https://pbs.twimg.com/media/CT5Dr8HUEAA-lEu.jpg</td>\n",
       "      <td>1</td>\n",
       "      <td>Rhodesian_ridgeback</td>\n",
       "      <td>0.408143</td>\n",
       "      <td>True</td>\n",
       "      <td>redbone</td>\n",
       "      <td>0.360687</td>\n",
       "      <td>True</td>\n",
       "      <td>miniature_pinscher</td>\n",
       "      <td>0.222752</td>\n",
       "      <td>True</td>\n",
       "    </tr>\n",
       "    <tr>\n",
       "      <th>4</th>\n",
       "      <td>666049248165822465</td>\n",
       "      <td>https://pbs.twimg.com/media/CT5IQmsXIAAKY4A.jpg</td>\n",
       "      <td>1</td>\n",
       "      <td>miniature_pinscher</td>\n",
       "      <td>0.560311</td>\n",
       "      <td>True</td>\n",
       "      <td>Rottweiler</td>\n",
       "      <td>0.243682</td>\n",
       "      <td>True</td>\n",
       "      <td>Doberman</td>\n",
       "      <td>0.154629</td>\n",
       "      <td>True</td>\n",
       "    </tr>\n",
       "  </tbody>\n",
       "</table>\n",
       "</div>"
      ],
      "text/plain": [
       "             tweet_id                                          jpg_url  \\\n",
       "0  666020888022790149  https://pbs.twimg.com/media/CT4udn0WwAA0aMy.jpg   \n",
       "1  666029285002620928  https://pbs.twimg.com/media/CT42GRgUYAA5iDo.jpg   \n",
       "2  666033412701032449  https://pbs.twimg.com/media/CT4521TWwAEvMyu.jpg   \n",
       "3  666044226329800704  https://pbs.twimg.com/media/CT5Dr8HUEAA-lEu.jpg   \n",
       "4  666049248165822465  https://pbs.twimg.com/media/CT5IQmsXIAAKY4A.jpg   \n",
       "\n",
       "  img_num                      p1   p1_conf p1_dog                  p2  \\\n",
       "0       1  Welsh_springer_spaniel  0.465074   True              collie   \n",
       "1       1                 redbone  0.506826   True  miniature_pinscher   \n",
       "2       1         German_shepherd  0.596461   True            malinois   \n",
       "3       1     Rhodesian_ridgeback  0.408143   True             redbone   \n",
       "4       1      miniature_pinscher  0.560311   True          Rottweiler   \n",
       "\n",
       "               p2_conf p2_dog                   p3              p3_conf p3_dog  \n",
       "0             0.156665   True    Shetland_sheepdog            0.0614285   True  \n",
       "1  0.07419169999999999   True  Rhodesian_ridgeback              0.07201   True  \n",
       "2  0.13858399999999998   True           bloodhound  0.11619700000000001   True  \n",
       "3             0.360687   True   miniature_pinscher             0.222752   True  \n",
       "4             0.243682   True             Doberman             0.154629   True  "
      ]
     },
     "execution_count": 193,
     "metadata": {},
     "output_type": "execute_result"
    }
   ],
   "source": [
    "df_pred.head()"
   ]
  },
  {
   "cell_type": "markdown",
   "metadata": {},
   "source": [
    "## 1c. Get each tweet's retweet count and favorite (\"like\") count, and any additional interesting data"
   ]
  },
  {
   "cell_type": "code",
   "execution_count": 194,
   "metadata": {},
   "outputs": [],
   "source": [
    "import json\n",
    "d = []\n",
    "with open('tweet-json.txt', 'r') as f:\n",
    "    for line in f:\n",
    "        try:\n",
    "            linej = json.loads(line)\n",
    "            d.append({\n",
    "                'id_str': linej['id_str'],\n",
    "                'retweet_count': linej['retweet_count'],\n",
    "                'favourite_count': linej['favorite_count']\n",
    "            })\n",
    "        except:\n",
    "            print(line)\n",
    "df_tweet = pd.DataFrame(d)"
   ]
  },
  {
   "cell_type": "code",
   "execution_count": 195,
   "metadata": {},
   "outputs": [
    {
     "data": {
      "text/html": [
       "<div>\n",
       "<style>\n",
       "    .dataframe thead tr:only-child th {\n",
       "        text-align: right;\n",
       "    }\n",
       "\n",
       "    .dataframe thead th {\n",
       "        text-align: left;\n",
       "    }\n",
       "\n",
       "    .dataframe tbody tr th {\n",
       "        vertical-align: top;\n",
       "    }\n",
       "</style>\n",
       "<table border=\"1\" class=\"dataframe\">\n",
       "  <thead>\n",
       "    <tr style=\"text-align: right;\">\n",
       "      <th></th>\n",
       "      <th>favourite_count</th>\n",
       "      <th>id_str</th>\n",
       "      <th>retweet_count</th>\n",
       "    </tr>\n",
       "  </thead>\n",
       "  <tbody>\n",
       "    <tr>\n",
       "      <th>0</th>\n",
       "      <td>39467</td>\n",
       "      <td>892420643555336193</td>\n",
       "      <td>8853</td>\n",
       "    </tr>\n",
       "    <tr>\n",
       "      <th>1</th>\n",
       "      <td>33819</td>\n",
       "      <td>892177421306343426</td>\n",
       "      <td>6514</td>\n",
       "    </tr>\n",
       "    <tr>\n",
       "      <th>2</th>\n",
       "      <td>25461</td>\n",
       "      <td>891815181378084864</td>\n",
       "      <td>4328</td>\n",
       "    </tr>\n",
       "    <tr>\n",
       "      <th>3</th>\n",
       "      <td>42908</td>\n",
       "      <td>891689557279858688</td>\n",
       "      <td>8964</td>\n",
       "    </tr>\n",
       "    <tr>\n",
       "      <th>4</th>\n",
       "      <td>41048</td>\n",
       "      <td>891327558926688256</td>\n",
       "      <td>9774</td>\n",
       "    </tr>\n",
       "  </tbody>\n",
       "</table>\n",
       "</div>"
      ],
      "text/plain": [
       "   favourite_count              id_str  retweet_count\n",
       "0            39467  892420643555336193           8853\n",
       "1            33819  892177421306343426           6514\n",
       "2            25461  891815181378084864           4328\n",
       "3            42908  891689557279858688           8964\n",
       "4            41048  891327558926688256           9774"
      ]
     },
     "execution_count": 195,
     "metadata": {},
     "output_type": "execute_result"
    }
   ],
   "source": [
    "df_tweet.head()"
   ]
  },
  {
   "cell_type": "markdown",
   "metadata": {},
   "source": [
    "# 2. Assess"
   ]
  },
  {
   "cell_type": "markdown",
   "metadata": {},
   "source": [
    "2a. Assess WeRateDogs Twitter archive"
   ]
  },
  {
   "cell_type": "code",
   "execution_count": 196,
   "metadata": {},
   "outputs": [
    {
     "data": {
      "text/html": [
       "<div>\n",
       "<style>\n",
       "    .dataframe thead tr:only-child th {\n",
       "        text-align: right;\n",
       "    }\n",
       "\n",
       "    .dataframe thead th {\n",
       "        text-align: left;\n",
       "    }\n",
       "\n",
       "    .dataframe tbody tr th {\n",
       "        vertical-align: top;\n",
       "    }\n",
       "</style>\n",
       "<table border=\"1\" class=\"dataframe\">\n",
       "  <thead>\n",
       "    <tr style=\"text-align: right;\">\n",
       "      <th></th>\n",
       "      <th>tweet_id</th>\n",
       "      <th>in_reply_to_status_id</th>\n",
       "      <th>in_reply_to_user_id</th>\n",
       "      <th>timestamp</th>\n",
       "      <th>source</th>\n",
       "      <th>text</th>\n",
       "      <th>retweeted_status_id</th>\n",
       "      <th>retweeted_status_user_id</th>\n",
       "      <th>retweeted_status_timestamp</th>\n",
       "      <th>expanded_urls</th>\n",
       "      <th>rating_numerator</th>\n",
       "      <th>rating_denominator</th>\n",
       "      <th>name</th>\n",
       "      <th>doggo</th>\n",
       "      <th>floofer</th>\n",
       "      <th>pupper</th>\n",
       "      <th>puppo</th>\n",
       "    </tr>\n",
       "  </thead>\n",
       "  <tbody>\n",
       "    <tr>\n",
       "      <th>791</th>\n",
       "      <td>773704687002451968</td>\n",
       "      <td>NaN</td>\n",
       "      <td>NaN</td>\n",
       "      <td>2016-09-08 02:09:06 +0000</td>\n",
       "      <td>&lt;a href=\"http://twitter.com/download/iphone\" r...</td>\n",
       "      <td>This is Loki. He knows he's adorable. One ear ...</td>\n",
       "      <td>NaN</td>\n",
       "      <td>NaN</td>\n",
       "      <td>NaN</td>\n",
       "      <td>https://twitter.com/dog_rates/status/773704687...</td>\n",
       "      <td>12</td>\n",
       "      <td>10</td>\n",
       "      <td>Loki</td>\n",
       "      <td>None</td>\n",
       "      <td>None</td>\n",
       "      <td>None</td>\n",
       "      <td>None</td>\n",
       "    </tr>\n",
       "    <tr>\n",
       "      <th>2178</th>\n",
       "      <td>669015743032369152</td>\n",
       "      <td>NaN</td>\n",
       "      <td>NaN</td>\n",
       "      <td>2015-11-24 04:52:37 +0000</td>\n",
       "      <td>&lt;a href=\"http://twitter.com/download/iphone\" r...</td>\n",
       "      <td>Super rare dog right here guys. Doesn't bark. ...</td>\n",
       "      <td>NaN</td>\n",
       "      <td>NaN</td>\n",
       "      <td>NaN</td>\n",
       "      <td>https://twitter.com/dog_rates/status/669015743...</td>\n",
       "      <td>10</td>\n",
       "      <td>10</td>\n",
       "      <td>None</td>\n",
       "      <td>None</td>\n",
       "      <td>None</td>\n",
       "      <td>None</td>\n",
       "      <td>None</td>\n",
       "    </tr>\n",
       "    <tr>\n",
       "      <th>46</th>\n",
       "      <td>883360690899218434</td>\n",
       "      <td>NaN</td>\n",
       "      <td>NaN</td>\n",
       "      <td>2017-07-07 16:22:55 +0000</td>\n",
       "      <td>&lt;a href=\"http://twitter.com/download/iphone\" r...</td>\n",
       "      <td>Meet Grizzwald. He may be the floofiest floofe...</td>\n",
       "      <td>NaN</td>\n",
       "      <td>NaN</td>\n",
       "      <td>NaN</td>\n",
       "      <td>https://twitter.com/dog_rates/status/883360690...</td>\n",
       "      <td>13</td>\n",
       "      <td>10</td>\n",
       "      <td>Grizzwald</td>\n",
       "      <td>None</td>\n",
       "      <td>floofer</td>\n",
       "      <td>None</td>\n",
       "      <td>None</td>\n",
       "    </tr>\n",
       "    <tr>\n",
       "      <th>2212</th>\n",
       "      <td>668587383441514497</td>\n",
       "      <td>NaN</td>\n",
       "      <td>NaN</td>\n",
       "      <td>2015-11-23 00:30:28 +0000</td>\n",
       "      <td>&lt;a href=\"http://vine.co\" rel=\"nofollow\"&gt;Vine -...</td>\n",
       "      <td>Never forget this vine. You will not stop watc...</td>\n",
       "      <td>NaN</td>\n",
       "      <td>NaN</td>\n",
       "      <td>NaN</td>\n",
       "      <td>https://vine.co/v/ea0OwvPTx9l</td>\n",
       "      <td>13</td>\n",
       "      <td>10</td>\n",
       "      <td>the</td>\n",
       "      <td>None</td>\n",
       "      <td>None</td>\n",
       "      <td>None</td>\n",
       "      <td>None</td>\n",
       "    </tr>\n",
       "    <tr>\n",
       "      <th>553</th>\n",
       "      <td>804026241225523202</td>\n",
       "      <td>NaN</td>\n",
       "      <td>NaN</td>\n",
       "      <td>2016-11-30 18:16:08 +0000</td>\n",
       "      <td>&lt;a href=\"http://twitter.com/download/iphone\" r...</td>\n",
       "      <td>This is Bo. He's going to make me cry. 13/10 p...</td>\n",
       "      <td>NaN</td>\n",
       "      <td>NaN</td>\n",
       "      <td>NaN</td>\n",
       "      <td>https://twitter.com/dog_rates/status/804026241...</td>\n",
       "      <td>13</td>\n",
       "      <td>10</td>\n",
       "      <td>Bo</td>\n",
       "      <td>None</td>\n",
       "      <td>None</td>\n",
       "      <td>None</td>\n",
       "      <td>None</td>\n",
       "    </tr>\n",
       "    <tr>\n",
       "      <th>1469</th>\n",
       "      <td>694183373896572928</td>\n",
       "      <td>NaN</td>\n",
       "      <td>NaN</td>\n",
       "      <td>2016-02-01 15:39:48 +0000</td>\n",
       "      <td>&lt;a href=\"http://twitter.com/download/iphone\" r...</td>\n",
       "      <td>This is Lola. She realized mid hug that she's ...</td>\n",
       "      <td>NaN</td>\n",
       "      <td>NaN</td>\n",
       "      <td>NaN</td>\n",
       "      <td>https://twitter.com/dog_rates/status/694183373...</td>\n",
       "      <td>9</td>\n",
       "      <td>10</td>\n",
       "      <td>Lola</td>\n",
       "      <td>None</td>\n",
       "      <td>None</td>\n",
       "      <td>None</td>\n",
       "      <td>None</td>\n",
       "    </tr>\n",
       "    <tr>\n",
       "      <th>397</th>\n",
       "      <td>825120256414846976</td>\n",
       "      <td>NaN</td>\n",
       "      <td>NaN</td>\n",
       "      <td>2017-01-27 23:16:13 +0000</td>\n",
       "      <td>&lt;a href=\"http://twitter.com/download/iphone\" r...</td>\n",
       "      <td>RT @dog_rates: Say hello to Pablo. He's one go...</td>\n",
       "      <td>8.250266e+17</td>\n",
       "      <td>4.196984e+09</td>\n",
       "      <td>2017-01-27 17:04:02 +0000</td>\n",
       "      <td>https://www.gofundme.com/my-puppys-double-cata...</td>\n",
       "      <td>12</td>\n",
       "      <td>10</td>\n",
       "      <td>Pablo</td>\n",
       "      <td>None</td>\n",
       "      <td>None</td>\n",
       "      <td>None</td>\n",
       "      <td>puppo</td>\n",
       "    </tr>\n",
       "    <tr>\n",
       "      <th>940</th>\n",
       "      <td>753026973505581056</td>\n",
       "      <td>NaN</td>\n",
       "      <td>NaN</td>\n",
       "      <td>2016-07-13 00:43:15 +0000</td>\n",
       "      <td>&lt;a href=\"http://twitter.com/download/iphone\" r...</td>\n",
       "      <td>Say hello to Tayzie. She's a Barbadian Bugaboo...</td>\n",
       "      <td>NaN</td>\n",
       "      <td>NaN</td>\n",
       "      <td>NaN</td>\n",
       "      <td>https://twitter.com/dog_rates/status/753026973...</td>\n",
       "      <td>10</td>\n",
       "      <td>10</td>\n",
       "      <td>Tayzie</td>\n",
       "      <td>None</td>\n",
       "      <td>None</td>\n",
       "      <td>None</td>\n",
       "      <td>None</td>\n",
       "    </tr>\n",
       "    <tr>\n",
       "      <th>1538</th>\n",
       "      <td>689835978131935233</td>\n",
       "      <td>NaN</td>\n",
       "      <td>NaN</td>\n",
       "      <td>2016-01-20 15:44:48 +0000</td>\n",
       "      <td>&lt;a href=\"http://twitter.com/download/iphone\" r...</td>\n",
       "      <td>Meet Fynn &amp;amp; Taco. Fynn is an all-powerful ...</td>\n",
       "      <td>NaN</td>\n",
       "      <td>NaN</td>\n",
       "      <td>NaN</td>\n",
       "      <td>https://twitter.com/dog_rates/status/689835978...</td>\n",
       "      <td>11</td>\n",
       "      <td>10</td>\n",
       "      <td>Fynn</td>\n",
       "      <td>None</td>\n",
       "      <td>None</td>\n",
       "      <td>None</td>\n",
       "      <td>None</td>\n",
       "    </tr>\n",
       "    <tr>\n",
       "      <th>667</th>\n",
       "      <td>790337589677002753</td>\n",
       "      <td>NaN</td>\n",
       "      <td>NaN</td>\n",
       "      <td>2016-10-23 23:42:19 +0000</td>\n",
       "      <td>&lt;a href=\"http://twitter.com/download/iphone\" r...</td>\n",
       "      <td>Meet Maggie. She can hear your cells divide. 1...</td>\n",
       "      <td>NaN</td>\n",
       "      <td>NaN</td>\n",
       "      <td>NaN</td>\n",
       "      <td>https://twitter.com/dog_rates/status/790337589...</td>\n",
       "      <td>12</td>\n",
       "      <td>10</td>\n",
       "      <td>Maggie</td>\n",
       "      <td>None</td>\n",
       "      <td>None</td>\n",
       "      <td>None</td>\n",
       "      <td>None</td>\n",
       "    </tr>\n",
       "  </tbody>\n",
       "</table>\n",
       "</div>"
      ],
      "text/plain": [
       "                tweet_id  in_reply_to_status_id  in_reply_to_user_id  \\\n",
       "791   773704687002451968                    NaN                  NaN   \n",
       "2178  669015743032369152                    NaN                  NaN   \n",
       "46    883360690899218434                    NaN                  NaN   \n",
       "2212  668587383441514497                    NaN                  NaN   \n",
       "553   804026241225523202                    NaN                  NaN   \n",
       "1469  694183373896572928                    NaN                  NaN   \n",
       "397   825120256414846976                    NaN                  NaN   \n",
       "940   753026973505581056                    NaN                  NaN   \n",
       "1538  689835978131935233                    NaN                  NaN   \n",
       "667   790337589677002753                    NaN                  NaN   \n",
       "\n",
       "                      timestamp  \\\n",
       "791   2016-09-08 02:09:06 +0000   \n",
       "2178  2015-11-24 04:52:37 +0000   \n",
       "46    2017-07-07 16:22:55 +0000   \n",
       "2212  2015-11-23 00:30:28 +0000   \n",
       "553   2016-11-30 18:16:08 +0000   \n",
       "1469  2016-02-01 15:39:48 +0000   \n",
       "397   2017-01-27 23:16:13 +0000   \n",
       "940   2016-07-13 00:43:15 +0000   \n",
       "1538  2016-01-20 15:44:48 +0000   \n",
       "667   2016-10-23 23:42:19 +0000   \n",
       "\n",
       "                                                 source  \\\n",
       "791   <a href=\"http://twitter.com/download/iphone\" r...   \n",
       "2178  <a href=\"http://twitter.com/download/iphone\" r...   \n",
       "46    <a href=\"http://twitter.com/download/iphone\" r...   \n",
       "2212  <a href=\"http://vine.co\" rel=\"nofollow\">Vine -...   \n",
       "553   <a href=\"http://twitter.com/download/iphone\" r...   \n",
       "1469  <a href=\"http://twitter.com/download/iphone\" r...   \n",
       "397   <a href=\"http://twitter.com/download/iphone\" r...   \n",
       "940   <a href=\"http://twitter.com/download/iphone\" r...   \n",
       "1538  <a href=\"http://twitter.com/download/iphone\" r...   \n",
       "667   <a href=\"http://twitter.com/download/iphone\" r...   \n",
       "\n",
       "                                                   text  retweeted_status_id  \\\n",
       "791   This is Loki. He knows he's adorable. One ear ...                  NaN   \n",
       "2178  Super rare dog right here guys. Doesn't bark. ...                  NaN   \n",
       "46    Meet Grizzwald. He may be the floofiest floofe...                  NaN   \n",
       "2212  Never forget this vine. You will not stop watc...                  NaN   \n",
       "553   This is Bo. He's going to make me cry. 13/10 p...                  NaN   \n",
       "1469  This is Lola. She realized mid hug that she's ...                  NaN   \n",
       "397   RT @dog_rates: Say hello to Pablo. He's one go...         8.250266e+17   \n",
       "940   Say hello to Tayzie. She's a Barbadian Bugaboo...                  NaN   \n",
       "1538  Meet Fynn &amp; Taco. Fynn is an all-powerful ...                  NaN   \n",
       "667   Meet Maggie. She can hear your cells divide. 1...                  NaN   \n",
       "\n",
       "      retweeted_status_user_id retweeted_status_timestamp  \\\n",
       "791                        NaN                        NaN   \n",
       "2178                       NaN                        NaN   \n",
       "46                         NaN                        NaN   \n",
       "2212                       NaN                        NaN   \n",
       "553                        NaN                        NaN   \n",
       "1469                       NaN                        NaN   \n",
       "397               4.196984e+09  2017-01-27 17:04:02 +0000   \n",
       "940                        NaN                        NaN   \n",
       "1538                       NaN                        NaN   \n",
       "667                        NaN                        NaN   \n",
       "\n",
       "                                          expanded_urls  rating_numerator  \\\n",
       "791   https://twitter.com/dog_rates/status/773704687...                12   \n",
       "2178  https://twitter.com/dog_rates/status/669015743...                10   \n",
       "46    https://twitter.com/dog_rates/status/883360690...                13   \n",
       "2212                      https://vine.co/v/ea0OwvPTx9l                13   \n",
       "553   https://twitter.com/dog_rates/status/804026241...                13   \n",
       "1469  https://twitter.com/dog_rates/status/694183373...                 9   \n",
       "397   https://www.gofundme.com/my-puppys-double-cata...                12   \n",
       "940   https://twitter.com/dog_rates/status/753026973...                10   \n",
       "1538  https://twitter.com/dog_rates/status/689835978...                11   \n",
       "667   https://twitter.com/dog_rates/status/790337589...                12   \n",
       "\n",
       "      rating_denominator       name doggo  floofer pupper  puppo  \n",
       "791                   10       Loki  None     None   None   None  \n",
       "2178                  10       None  None     None   None   None  \n",
       "46                    10  Grizzwald  None  floofer   None   None  \n",
       "2212                  10        the  None     None   None   None  \n",
       "553                   10         Bo  None     None   None   None  \n",
       "1469                  10       Lola  None     None   None   None  \n",
       "397                   10      Pablo  None     None   None  puppo  \n",
       "940                   10     Tayzie  None     None   None   None  \n",
       "1538                  10       Fynn  None     None   None   None  \n",
       "667                   10     Maggie  None     None   None   None  "
      ]
     },
     "execution_count": 196,
     "metadata": {},
     "output_type": "execute_result"
    }
   ],
   "source": [
    "df_twit.sample(10)"
   ]
  },
  {
   "cell_type": "code",
   "execution_count": 197,
   "metadata": {},
   "outputs": [
    {
     "name": "stdout",
     "output_type": "stream",
     "text": [
      "<class 'pandas.core.frame.DataFrame'>\n",
      "RangeIndex: 2356 entries, 0 to 2355\n",
      "Data columns (total 17 columns):\n",
      "tweet_id                      2356 non-null int64\n",
      "in_reply_to_status_id         78 non-null float64\n",
      "in_reply_to_user_id           78 non-null float64\n",
      "timestamp                     2356 non-null object\n",
      "source                        2356 non-null object\n",
      "text                          2356 non-null object\n",
      "retweeted_status_id           181 non-null float64\n",
      "retweeted_status_user_id      181 non-null float64\n",
      "retweeted_status_timestamp    181 non-null object\n",
      "expanded_urls                 2297 non-null object\n",
      "rating_numerator              2356 non-null int64\n",
      "rating_denominator            2356 non-null int64\n",
      "name                          2356 non-null object\n",
      "doggo                         2356 non-null object\n",
      "floofer                       2356 non-null object\n",
      "pupper                        2356 non-null object\n",
      "puppo                         2356 non-null object\n",
      "dtypes: float64(4), int64(3), object(10)\n",
      "memory usage: 313.0+ KB\n"
     ]
    }
   ],
   "source": [
    "df_twit.info()"
   ]
  },
  {
   "cell_type": "code",
   "execution_count": 198,
   "metadata": {},
   "outputs": [
    {
     "data": {
      "text/html": [
       "<div>\n",
       "<style>\n",
       "    .dataframe thead tr:only-child th {\n",
       "        text-align: right;\n",
       "    }\n",
       "\n",
       "    .dataframe thead th {\n",
       "        text-align: left;\n",
       "    }\n",
       "\n",
       "    .dataframe tbody tr th {\n",
       "        vertical-align: top;\n",
       "    }\n",
       "</style>\n",
       "<table border=\"1\" class=\"dataframe\">\n",
       "  <thead>\n",
       "    <tr style=\"text-align: right;\">\n",
       "      <th></th>\n",
       "      <th>tweet_id</th>\n",
       "      <th>in_reply_to_status_id</th>\n",
       "      <th>in_reply_to_user_id</th>\n",
       "      <th>retweeted_status_id</th>\n",
       "      <th>retweeted_status_user_id</th>\n",
       "      <th>rating_numerator</th>\n",
       "      <th>rating_denominator</th>\n",
       "    </tr>\n",
       "  </thead>\n",
       "  <tbody>\n",
       "    <tr>\n",
       "      <th>count</th>\n",
       "      <td>2.356000e+03</td>\n",
       "      <td>7.800000e+01</td>\n",
       "      <td>7.800000e+01</td>\n",
       "      <td>1.810000e+02</td>\n",
       "      <td>1.810000e+02</td>\n",
       "      <td>2356.000000</td>\n",
       "      <td>2356.000000</td>\n",
       "    </tr>\n",
       "    <tr>\n",
       "      <th>mean</th>\n",
       "      <td>7.427716e+17</td>\n",
       "      <td>7.455079e+17</td>\n",
       "      <td>2.014171e+16</td>\n",
       "      <td>7.720400e+17</td>\n",
       "      <td>1.241698e+16</td>\n",
       "      <td>13.126486</td>\n",
       "      <td>10.455433</td>\n",
       "    </tr>\n",
       "    <tr>\n",
       "      <th>std</th>\n",
       "      <td>6.856705e+16</td>\n",
       "      <td>7.582492e+16</td>\n",
       "      <td>1.252797e+17</td>\n",
       "      <td>6.236928e+16</td>\n",
       "      <td>9.599254e+16</td>\n",
       "      <td>45.876648</td>\n",
       "      <td>6.745237</td>\n",
       "    </tr>\n",
       "    <tr>\n",
       "      <th>min</th>\n",
       "      <td>6.660209e+17</td>\n",
       "      <td>6.658147e+17</td>\n",
       "      <td>1.185634e+07</td>\n",
       "      <td>6.661041e+17</td>\n",
       "      <td>7.832140e+05</td>\n",
       "      <td>0.000000</td>\n",
       "      <td>0.000000</td>\n",
       "    </tr>\n",
       "    <tr>\n",
       "      <th>25%</th>\n",
       "      <td>6.783989e+17</td>\n",
       "      <td>6.757419e+17</td>\n",
       "      <td>3.086374e+08</td>\n",
       "      <td>7.186315e+17</td>\n",
       "      <td>4.196984e+09</td>\n",
       "      <td>10.000000</td>\n",
       "      <td>10.000000</td>\n",
       "    </tr>\n",
       "    <tr>\n",
       "      <th>50%</th>\n",
       "      <td>7.196279e+17</td>\n",
       "      <td>7.038708e+17</td>\n",
       "      <td>4.196984e+09</td>\n",
       "      <td>7.804657e+17</td>\n",
       "      <td>4.196984e+09</td>\n",
       "      <td>11.000000</td>\n",
       "      <td>10.000000</td>\n",
       "    </tr>\n",
       "    <tr>\n",
       "      <th>75%</th>\n",
       "      <td>7.993373e+17</td>\n",
       "      <td>8.257804e+17</td>\n",
       "      <td>4.196984e+09</td>\n",
       "      <td>8.203146e+17</td>\n",
       "      <td>4.196984e+09</td>\n",
       "      <td>12.000000</td>\n",
       "      <td>10.000000</td>\n",
       "    </tr>\n",
       "    <tr>\n",
       "      <th>max</th>\n",
       "      <td>8.924206e+17</td>\n",
       "      <td>8.862664e+17</td>\n",
       "      <td>8.405479e+17</td>\n",
       "      <td>8.874740e+17</td>\n",
       "      <td>7.874618e+17</td>\n",
       "      <td>1776.000000</td>\n",
       "      <td>170.000000</td>\n",
       "    </tr>\n",
       "  </tbody>\n",
       "</table>\n",
       "</div>"
      ],
      "text/plain": [
       "           tweet_id  in_reply_to_status_id  in_reply_to_user_id  \\\n",
       "count  2.356000e+03           7.800000e+01         7.800000e+01   \n",
       "mean   7.427716e+17           7.455079e+17         2.014171e+16   \n",
       "std    6.856705e+16           7.582492e+16         1.252797e+17   \n",
       "min    6.660209e+17           6.658147e+17         1.185634e+07   \n",
       "25%    6.783989e+17           6.757419e+17         3.086374e+08   \n",
       "50%    7.196279e+17           7.038708e+17         4.196984e+09   \n",
       "75%    7.993373e+17           8.257804e+17         4.196984e+09   \n",
       "max    8.924206e+17           8.862664e+17         8.405479e+17   \n",
       "\n",
       "       retweeted_status_id  retweeted_status_user_id  rating_numerator  \\\n",
       "count         1.810000e+02              1.810000e+02       2356.000000   \n",
       "mean          7.720400e+17              1.241698e+16         13.126486   \n",
       "std           6.236928e+16              9.599254e+16         45.876648   \n",
       "min           6.661041e+17              7.832140e+05          0.000000   \n",
       "25%           7.186315e+17              4.196984e+09         10.000000   \n",
       "50%           7.804657e+17              4.196984e+09         11.000000   \n",
       "75%           8.203146e+17              4.196984e+09         12.000000   \n",
       "max           8.874740e+17              7.874618e+17       1776.000000   \n",
       "\n",
       "       rating_denominator  \n",
       "count         2356.000000  \n",
       "mean            10.455433  \n",
       "std              6.745237  \n",
       "min              0.000000  \n",
       "25%             10.000000  \n",
       "50%             10.000000  \n",
       "75%             10.000000  \n",
       "max            170.000000  "
      ]
     },
     "execution_count": 198,
     "metadata": {},
     "output_type": "execute_result"
    }
   ],
   "source": [
    "df_twit.describe()"
   ]
  },
  {
   "cell_type": "markdown",
   "metadata": {},
   "source": [
    "looking at the id's we can see that every id is in the E+17 range, meaning that there are no leading zeroes missing."
   ]
  },
  {
   "cell_type": "code",
   "execution_count": 199,
   "metadata": {
    "scrolled": true
   },
   "outputs": [
    {
     "data": {
      "text/plain": [
       "0"
      ]
     },
     "execution_count": 199,
     "metadata": {},
     "output_type": "execute_result"
    }
   ],
   "source": [
    "# Check for duplicate tweets\n",
    "(df_twit.tweet_id.duplicated()).sum()"
   ]
  },
  {
   "cell_type": "code",
   "execution_count": 200,
   "metadata": {},
   "outputs": [
    {
     "data": {
      "text/html": [
       "<div>\n",
       "<style>\n",
       "    .dataframe thead tr:only-child th {\n",
       "        text-align: right;\n",
       "    }\n",
       "\n",
       "    .dataframe thead th {\n",
       "        text-align: left;\n",
       "    }\n",
       "\n",
       "    .dataframe tbody tr th {\n",
       "        vertical-align: top;\n",
       "    }\n",
       "</style>\n",
       "<table border=\"1\" class=\"dataframe\">\n",
       "  <thead>\n",
       "    <tr style=\"text-align: right;\">\n",
       "      <th></th>\n",
       "      <th>tweet_id</th>\n",
       "      <th>in_reply_to_status_id</th>\n",
       "      <th>in_reply_to_user_id</th>\n",
       "      <th>timestamp</th>\n",
       "      <th>source</th>\n",
       "      <th>text</th>\n",
       "      <th>retweeted_status_id</th>\n",
       "      <th>retweeted_status_user_id</th>\n",
       "      <th>retweeted_status_timestamp</th>\n",
       "      <th>expanded_urls</th>\n",
       "      <th>rating_numerator</th>\n",
       "      <th>rating_denominator</th>\n",
       "      <th>name</th>\n",
       "      <th>doggo</th>\n",
       "      <th>floofer</th>\n",
       "      <th>pupper</th>\n",
       "      <th>puppo</th>\n",
       "    </tr>\n",
       "  </thead>\n",
       "  <tbody>\n",
       "  </tbody>\n",
       "</table>\n",
       "</div>"
      ],
      "text/plain": [
       "Empty DataFrame\n",
       "Columns: [tweet_id, in_reply_to_status_id, in_reply_to_user_id, timestamp, source, text, retweeted_status_id, retweeted_status_user_id, retweeted_status_timestamp, expanded_urls, rating_numerator, rating_denominator, name, doggo, floofer, pupper, puppo]\n",
       "Index: []"
      ]
     },
     "execution_count": 200,
     "metadata": {},
     "output_type": "execute_result"
    }
   ],
   "source": [
    "# check for copied  posts\n",
    "df_twit[df_twit.text.duplicated()]"
   ]
  },
  {
   "cell_type": "markdown",
   "metadata": {},
   "source": [
    "2b. Assess Predictions"
   ]
  },
  {
   "cell_type": "code",
   "execution_count": 201,
   "metadata": {},
   "outputs": [
    {
     "data": {
      "text/html": [
       "<div>\n",
       "<style>\n",
       "    .dataframe thead tr:only-child th {\n",
       "        text-align: right;\n",
       "    }\n",
       "\n",
       "    .dataframe thead th {\n",
       "        text-align: left;\n",
       "    }\n",
       "\n",
       "    .dataframe tbody tr th {\n",
       "        vertical-align: top;\n",
       "    }\n",
       "</style>\n",
       "<table border=\"1\" class=\"dataframe\">\n",
       "  <thead>\n",
       "    <tr style=\"text-align: right;\">\n",
       "      <th></th>\n",
       "      <th>tweet_id</th>\n",
       "      <th>jpg_url</th>\n",
       "      <th>img_num</th>\n",
       "      <th>p1</th>\n",
       "      <th>p1_conf</th>\n",
       "      <th>p1_dog</th>\n",
       "      <th>p2</th>\n",
       "      <th>p2_conf</th>\n",
       "      <th>p2_dog</th>\n",
       "      <th>p3</th>\n",
       "      <th>p3_conf</th>\n",
       "      <th>p3_dog</th>\n",
       "    </tr>\n",
       "  </thead>\n",
       "  <tbody>\n",
       "    <tr>\n",
       "      <th>290</th>\n",
       "      <td>671166507850801152</td>\n",
       "      <td>https://pbs.twimg.com/media/CVB2TnWUYAA2pAU.jpg</td>\n",
       "      <td>1</td>\n",
       "      <td>refrigerator</td>\n",
       "      <td>0.829772</td>\n",
       "      <td>False</td>\n",
       "      <td>toilet_seat</td>\n",
       "      <td>0.030083299999999997</td>\n",
       "      <td>False</td>\n",
       "      <td>shower_curtain</td>\n",
       "      <td>0.015460699999999999</td>\n",
       "      <td>False</td>\n",
       "    </tr>\n",
       "    <tr>\n",
       "      <th>1450</th>\n",
       "      <td>776218204058357768</td>\n",
       "      <td>https://pbs.twimg.com/media/CsWuVEdWcAAqbe9.jpg</td>\n",
       "      <td>1</td>\n",
       "      <td>Samoyed</td>\n",
       "      <td>0.940326</td>\n",
       "      <td>True</td>\n",
       "      <td>Pomeranian</td>\n",
       "      <td>0.05552719999999999</td>\n",
       "      <td>True</td>\n",
       "      <td>keeshond</td>\n",
       "      <td>0.00222635</td>\n",
       "      <td>True</td>\n",
       "    </tr>\n",
       "    <tr>\n",
       "      <th>1832</th>\n",
       "      <td>836677758902222849</td>\n",
       "      <td>https://pbs.twimg.com/media/C5x57-TWUAEawQh.jpg</td>\n",
       "      <td>2</td>\n",
       "      <td>leopard</td>\n",
       "      <td>0.7974100000000001</td>\n",
       "      <td>False</td>\n",
       "      <td>jaguar</td>\n",
       "      <td>0.0954866</td>\n",
       "      <td>False</td>\n",
       "      <td>snow_leopard</td>\n",
       "      <td>0.0796941</td>\n",
       "      <td>False</td>\n",
       "    </tr>\n",
       "    <tr>\n",
       "      <th>503</th>\n",
       "      <td>675878199931371520</td>\n",
       "      <td>https://pbs.twimg.com/media/CWEzo19WoAEiOCj.jpg</td>\n",
       "      <td>1</td>\n",
       "      <td>wood_rabbit</td>\n",
       "      <td>0.785756</td>\n",
       "      <td>False</td>\n",
       "      <td>hare</td>\n",
       "      <td>0.118181</td>\n",
       "      <td>False</td>\n",
       "      <td>Cardigan</td>\n",
       "      <td>0.043627099999999995</td>\n",
       "      <td>True</td>\n",
       "    </tr>\n",
       "    <tr>\n",
       "      <th>1697</th>\n",
       "      <td>816697700272001025</td>\n",
       "      <td>https://pbs.twimg.com/media/C1V-K63UAAEUHqw.jpg</td>\n",
       "      <td>1</td>\n",
       "      <td>Chihuahua</td>\n",
       "      <td>0.756992</td>\n",
       "      <td>True</td>\n",
       "      <td>Pomeranian</td>\n",
       "      <td>0.0528495</td>\n",
       "      <td>True</td>\n",
       "      <td>Maltese_dog</td>\n",
       "      <td>0.047607800000000006</td>\n",
       "      <td>True</td>\n",
       "    </tr>\n",
       "    <tr>\n",
       "      <th>1303</th>\n",
       "      <td>753026973505581056</td>\n",
       "      <td>https://pbs.twimg.com/media/CnNKCKKWEAASCMI.jpg</td>\n",
       "      <td>3</td>\n",
       "      <td>Pembroke</td>\n",
       "      <td>0.868511</td>\n",
       "      <td>True</td>\n",
       "      <td>Cardigan</td>\n",
       "      <td>0.103708</td>\n",
       "      <td>True</td>\n",
       "      <td>Shetland_sheepdog</td>\n",
       "      <td>0.0181416</td>\n",
       "      <td>True</td>\n",
       "    </tr>\n",
       "    <tr>\n",
       "      <th>1799</th>\n",
       "      <td>831670449226514432</td>\n",
       "      <td>https://pbs.twimg.com/media/C4qv3JUW8AADirb.jpg</td>\n",
       "      <td>1</td>\n",
       "      <td>Pembroke</td>\n",
       "      <td>0.6248020000000001</td>\n",
       "      <td>True</td>\n",
       "      <td>Cardigan</td>\n",
       "      <td>0.362861</td>\n",
       "      <td>True</td>\n",
       "      <td>Appenzeller</td>\n",
       "      <td>0.00392621</td>\n",
       "      <td>True</td>\n",
       "    </tr>\n",
       "    <tr>\n",
       "      <th>870</th>\n",
       "      <td>697881462549430272</td>\n",
       "      <td>https://pbs.twimg.com/media/Ca9feqDUAAA_z7T.jpg</td>\n",
       "      <td>1</td>\n",
       "      <td>washbasin</td>\n",
       "      <td>0.176423</td>\n",
       "      <td>False</td>\n",
       "      <td>paper_towel</td>\n",
       "      <td>0.167462</td>\n",
       "      <td>False</td>\n",
       "      <td>toilet_tissue</td>\n",
       "      <td>0.09802910000000001</td>\n",
       "      <td>False</td>\n",
       "    </tr>\n",
       "    <tr>\n",
       "      <th>1300</th>\n",
       "      <td>752660715232722944</td>\n",
       "      <td>https://pbs.twimg.com/media/CnH87L6XYAAF7I_.jpg</td>\n",
       "      <td>2</td>\n",
       "      <td>goose</td>\n",
       "      <td>0.33932399999999996</td>\n",
       "      <td>False</td>\n",
       "      <td>English_setter</td>\n",
       "      <td>0.0505118</td>\n",
       "      <td>True</td>\n",
       "      <td>basset</td>\n",
       "      <td>0.049093300000000006</td>\n",
       "      <td>True</td>\n",
       "    </tr>\n",
       "    <tr>\n",
       "      <th>1684</th>\n",
       "      <td>814153002265309185</td>\n",
       "      <td>https://pbs.twimg.com/media/C0xz04SVIAAeyDb.jpg</td>\n",
       "      <td>1</td>\n",
       "      <td>golden_retriever</td>\n",
       "      <td>0.490068</td>\n",
       "      <td>True</td>\n",
       "      <td>Labrador_retriever</td>\n",
       "      <td>0.291956</td>\n",
       "      <td>True</td>\n",
       "      <td>chow</td>\n",
       "      <td>0.07247469999999999</td>\n",
       "      <td>True</td>\n",
       "    </tr>\n",
       "  </tbody>\n",
       "</table>\n",
       "</div>"
      ],
      "text/plain": [
       "                tweet_id                                          jpg_url  \\\n",
       "290   671166507850801152  https://pbs.twimg.com/media/CVB2TnWUYAA2pAU.jpg   \n",
       "1450  776218204058357768  https://pbs.twimg.com/media/CsWuVEdWcAAqbe9.jpg   \n",
       "1832  836677758902222849  https://pbs.twimg.com/media/C5x57-TWUAEawQh.jpg   \n",
       "503   675878199931371520  https://pbs.twimg.com/media/CWEzo19WoAEiOCj.jpg   \n",
       "1697  816697700272001025  https://pbs.twimg.com/media/C1V-K63UAAEUHqw.jpg   \n",
       "1303  753026973505581056  https://pbs.twimg.com/media/CnNKCKKWEAASCMI.jpg   \n",
       "1799  831670449226514432  https://pbs.twimg.com/media/C4qv3JUW8AADirb.jpg   \n",
       "870   697881462549430272  https://pbs.twimg.com/media/Ca9feqDUAAA_z7T.jpg   \n",
       "1300  752660715232722944  https://pbs.twimg.com/media/CnH87L6XYAAF7I_.jpg   \n",
       "1684  814153002265309185  https://pbs.twimg.com/media/C0xz04SVIAAeyDb.jpg   \n",
       "\n",
       "     img_num                p1              p1_conf p1_dog  \\\n",
       "290        1      refrigerator             0.829772  False   \n",
       "1450       1           Samoyed             0.940326   True   \n",
       "1832       2           leopard   0.7974100000000001  False   \n",
       "503        1       wood_rabbit             0.785756  False   \n",
       "1697       1         Chihuahua             0.756992   True   \n",
       "1303       3          Pembroke             0.868511   True   \n",
       "1799       1          Pembroke   0.6248020000000001   True   \n",
       "870        1         washbasin             0.176423  False   \n",
       "1300       2             goose  0.33932399999999996  False   \n",
       "1684       1  golden_retriever             0.490068   True   \n",
       "\n",
       "                      p2               p2_conf p2_dog                 p3  \\\n",
       "290          toilet_seat  0.030083299999999997  False     shower_curtain   \n",
       "1450          Pomeranian   0.05552719999999999   True           keeshond   \n",
       "1832              jaguar             0.0954866  False       snow_leopard   \n",
       "503                 hare              0.118181  False           Cardigan   \n",
       "1697          Pomeranian             0.0528495   True        Maltese_dog   \n",
       "1303            Cardigan              0.103708   True  Shetland_sheepdog   \n",
       "1799            Cardigan              0.362861   True        Appenzeller   \n",
       "870          paper_towel              0.167462  False      toilet_tissue   \n",
       "1300      English_setter             0.0505118   True             basset   \n",
       "1684  Labrador_retriever              0.291956   True               chow   \n",
       "\n",
       "                   p3_conf p3_dog  \n",
       "290   0.015460699999999999  False  \n",
       "1450            0.00222635   True  \n",
       "1832             0.0796941  False  \n",
       "503   0.043627099999999995   True  \n",
       "1697  0.047607800000000006   True  \n",
       "1303             0.0181416   True  \n",
       "1799            0.00392621   True  \n",
       "870    0.09802910000000001  False  \n",
       "1300  0.049093300000000006   True  \n",
       "1684   0.07247469999999999   True  "
      ]
     },
     "execution_count": 201,
     "metadata": {},
     "output_type": "execute_result"
    }
   ],
   "source": [
    "df_pred.sample(10)"
   ]
  },
  {
   "cell_type": "code",
   "execution_count": 202,
   "metadata": {},
   "outputs": [
    {
     "name": "stdout",
     "output_type": "stream",
     "text": [
      "<class 'pandas.core.frame.DataFrame'>\n",
      "RangeIndex: 2075 entries, 0 to 2074\n",
      "Data columns (total 12 columns):\n",
      "tweet_id    2075 non-null object\n",
      "jpg_url     2075 non-null object\n",
      "img_num     2075 non-null object\n",
      "p1          2075 non-null object\n",
      "p1_conf     2075 non-null object\n",
      "p1_dog      2075 non-null object\n",
      "p2          2075 non-null object\n",
      "p2_conf     2075 non-null object\n",
      "p2_dog      2075 non-null object\n",
      "p3          2075 non-null object\n",
      "p3_conf     2075 non-null object\n",
      "p3_dog      2075 non-null object\n",
      "dtypes: object(12)\n",
      "memory usage: 194.6+ KB\n"
     ]
    }
   ],
   "source": [
    "df_pred.info()"
   ]
  },
  {
   "cell_type": "code",
   "execution_count": 203,
   "metadata": {},
   "outputs": [
    {
     "data": {
      "text/html": [
       "<div>\n",
       "<style>\n",
       "    .dataframe thead tr:only-child th {\n",
       "        text-align: right;\n",
       "    }\n",
       "\n",
       "    .dataframe thead th {\n",
       "        text-align: left;\n",
       "    }\n",
       "\n",
       "    .dataframe tbody tr th {\n",
       "        vertical-align: top;\n",
       "    }\n",
       "</style>\n",
       "<table border=\"1\" class=\"dataframe\">\n",
       "  <thead>\n",
       "    <tr style=\"text-align: right;\">\n",
       "      <th></th>\n",
       "      <th>tweet_id</th>\n",
       "      <th>jpg_url</th>\n",
       "      <th>img_num</th>\n",
       "      <th>p1</th>\n",
       "      <th>p1_conf</th>\n",
       "      <th>p1_dog</th>\n",
       "      <th>p2</th>\n",
       "      <th>p2_conf</th>\n",
       "      <th>p2_dog</th>\n",
       "      <th>p3</th>\n",
       "      <th>p3_conf</th>\n",
       "      <th>p3_dog</th>\n",
       "    </tr>\n",
       "  </thead>\n",
       "  <tbody>\n",
       "    <tr>\n",
       "      <th>count</th>\n",
       "      <td>2075</td>\n",
       "      <td>2075</td>\n",
       "      <td>2075</td>\n",
       "      <td>2075</td>\n",
       "      <td>2075</td>\n",
       "      <td>2075</td>\n",
       "      <td>2075</td>\n",
       "      <td>2075</td>\n",
       "      <td>2075</td>\n",
       "      <td>2075</td>\n",
       "      <td>2075</td>\n",
       "      <td>2075</td>\n",
       "    </tr>\n",
       "    <tr>\n",
       "      <th>unique</th>\n",
       "      <td>2075</td>\n",
       "      <td>2009</td>\n",
       "      <td>4</td>\n",
       "      <td>378</td>\n",
       "      <td>2006</td>\n",
       "      <td>2</td>\n",
       "      <td>405</td>\n",
       "      <td>2004</td>\n",
       "      <td>2</td>\n",
       "      <td>408</td>\n",
       "      <td>2006</td>\n",
       "      <td>2</td>\n",
       "    </tr>\n",
       "    <tr>\n",
       "      <th>top</th>\n",
       "      <td>797236660651966464</td>\n",
       "      <td>https://pbs.twimg.com/media/CiibOMzUYAA9Mxz.jpg</td>\n",
       "      <td>1</td>\n",
       "      <td>golden_retriever</td>\n",
       "      <td>0.7132930000000001</td>\n",
       "      <td>True</td>\n",
       "      <td>Labrador_retriever</td>\n",
       "      <td>0.0693617</td>\n",
       "      <td>True</td>\n",
       "      <td>Labrador_retriever</td>\n",
       "      <td>0.0181889</td>\n",
       "      <td>True</td>\n",
       "    </tr>\n",
       "    <tr>\n",
       "      <th>freq</th>\n",
       "      <td>1</td>\n",
       "      <td>2</td>\n",
       "      <td>1780</td>\n",
       "      <td>150</td>\n",
       "      <td>2</td>\n",
       "      <td>1532</td>\n",
       "      <td>104</td>\n",
       "      <td>3</td>\n",
       "      <td>1553</td>\n",
       "      <td>79</td>\n",
       "      <td>2</td>\n",
       "      <td>1499</td>\n",
       "    </tr>\n",
       "  </tbody>\n",
       "</table>\n",
       "</div>"
      ],
      "text/plain": [
       "                  tweet_id                                          jpg_url  \\\n",
       "count                 2075                                             2075   \n",
       "unique                2075                                             2009   \n",
       "top     797236660651966464  https://pbs.twimg.com/media/CiibOMzUYAA9Mxz.jpg   \n",
       "freq                     1                                                2   \n",
       "\n",
       "       img_num                p1             p1_conf p1_dog  \\\n",
       "count     2075              2075                2075   2075   \n",
       "unique       4               378                2006      2   \n",
       "top          1  golden_retriever  0.7132930000000001   True   \n",
       "freq      1780               150                   2   1532   \n",
       "\n",
       "                        p2    p2_conf p2_dog                  p3    p3_conf  \\\n",
       "count                 2075       2075   2075                2075       2075   \n",
       "unique                 405       2004      2                 408       2006   \n",
       "top     Labrador_retriever  0.0693617   True  Labrador_retriever  0.0181889   \n",
       "freq                   104          3   1553                  79          2   \n",
       "\n",
       "       p3_dog  \n",
       "count    2075  \n",
       "unique      2  \n",
       "top      True  \n",
       "freq     1499  "
      ]
     },
     "execution_count": 203,
     "metadata": {},
     "output_type": "execute_result"
    }
   ],
   "source": [
    "df_pred.describe()"
   ]
  },
  {
   "cell_type": "markdown",
   "metadata": {},
   "source": [
    "2c. Assess Tweets"
   ]
  },
  {
   "cell_type": "code",
   "execution_count": 204,
   "metadata": {},
   "outputs": [
    {
     "data": {
      "text/html": [
       "<div>\n",
       "<style>\n",
       "    .dataframe thead tr:only-child th {\n",
       "        text-align: right;\n",
       "    }\n",
       "\n",
       "    .dataframe thead th {\n",
       "        text-align: left;\n",
       "    }\n",
       "\n",
       "    .dataframe tbody tr th {\n",
       "        vertical-align: top;\n",
       "    }\n",
       "</style>\n",
       "<table border=\"1\" class=\"dataframe\">\n",
       "  <thead>\n",
       "    <tr style=\"text-align: right;\">\n",
       "      <th></th>\n",
       "      <th>favourite_count</th>\n",
       "      <th>id_str</th>\n",
       "      <th>retweet_count</th>\n",
       "    </tr>\n",
       "  </thead>\n",
       "  <tbody>\n",
       "    <tr>\n",
       "      <th>99</th>\n",
       "      <td>15029</td>\n",
       "      <td>872820683541237760</td>\n",
       "      <td>3884</td>\n",
       "    </tr>\n",
       "    <tr>\n",
       "      <th>1303</th>\n",
       "      <td>3835</td>\n",
       "      <td>707387676719185920</td>\n",
       "      <td>1490</td>\n",
       "    </tr>\n",
       "    <tr>\n",
       "      <th>1730</th>\n",
       "      <td>39726</td>\n",
       "      <td>679828447187857408</td>\n",
       "      <td>15839</td>\n",
       "    </tr>\n",
       "    <tr>\n",
       "      <th>524</th>\n",
       "      <td>14685</td>\n",
       "      <td>809084759137812480</td>\n",
       "      <td>4046</td>\n",
       "    </tr>\n",
       "    <tr>\n",
       "      <th>384</th>\n",
       "      <td>40325</td>\n",
       "      <td>826848821049180160</td>\n",
       "      <td>11878</td>\n",
       "    </tr>\n",
       "    <tr>\n",
       "      <th>377</th>\n",
       "      <td>22180</td>\n",
       "      <td>827933404142436356</td>\n",
       "      <td>5987</td>\n",
       "    </tr>\n",
       "    <tr>\n",
       "      <th>2259</th>\n",
       "      <td>6138</td>\n",
       "      <td>667549055577362432</td>\n",
       "      <td>2454</td>\n",
       "    </tr>\n",
       "    <tr>\n",
       "      <th>1914</th>\n",
       "      <td>12129</td>\n",
       "      <td>674307341513269249</td>\n",
       "      <td>7641</td>\n",
       "    </tr>\n",
       "    <tr>\n",
       "      <th>569</th>\n",
       "      <td>1958</td>\n",
       "      <td>801854953262350336</td>\n",
       "      <td>275</td>\n",
       "    </tr>\n",
       "    <tr>\n",
       "      <th>824</th>\n",
       "      <td>0</td>\n",
       "      <td>769335591808995329</td>\n",
       "      <td>8830</td>\n",
       "    </tr>\n",
       "  </tbody>\n",
       "</table>\n",
       "</div>"
      ],
      "text/plain": [
       "      favourite_count              id_str  retweet_count\n",
       "99              15029  872820683541237760           3884\n",
       "1303             3835  707387676719185920           1490\n",
       "1730            39726  679828447187857408          15839\n",
       "524             14685  809084759137812480           4046\n",
       "384             40325  826848821049180160          11878\n",
       "377             22180  827933404142436356           5987\n",
       "2259             6138  667549055577362432           2454\n",
       "1914            12129  674307341513269249           7641\n",
       "569              1958  801854953262350336            275\n",
       "824                 0  769335591808995329           8830"
      ]
     },
     "execution_count": 204,
     "metadata": {},
     "output_type": "execute_result"
    }
   ],
   "source": [
    "df_tweet.sample(10)"
   ]
  },
  {
   "cell_type": "code",
   "execution_count": 205,
   "metadata": {},
   "outputs": [
    {
     "name": "stdout",
     "output_type": "stream",
     "text": [
      "<class 'pandas.core.frame.DataFrame'>\n",
      "RangeIndex: 2354 entries, 0 to 2353\n",
      "Data columns (total 3 columns):\n",
      "favourite_count    2354 non-null int64\n",
      "id_str             2354 non-null object\n",
      "retweet_count      2354 non-null int64\n",
      "dtypes: int64(2), object(1)\n",
      "memory usage: 55.2+ KB\n"
     ]
    }
   ],
   "source": [
    "df_tweet.info()"
   ]
  },
  {
   "cell_type": "code",
   "execution_count": 206,
   "metadata": {},
   "outputs": [
    {
     "data": {
      "text/html": [
       "<div>\n",
       "<style>\n",
       "    .dataframe thead tr:only-child th {\n",
       "        text-align: right;\n",
       "    }\n",
       "\n",
       "    .dataframe thead th {\n",
       "        text-align: left;\n",
       "    }\n",
       "\n",
       "    .dataframe tbody tr th {\n",
       "        vertical-align: top;\n",
       "    }\n",
       "</style>\n",
       "<table border=\"1\" class=\"dataframe\">\n",
       "  <thead>\n",
       "    <tr style=\"text-align: right;\">\n",
       "      <th></th>\n",
       "      <th>favourite_count</th>\n",
       "      <th>retweet_count</th>\n",
       "    </tr>\n",
       "  </thead>\n",
       "  <tbody>\n",
       "    <tr>\n",
       "      <th>count</th>\n",
       "      <td>2354.000000</td>\n",
       "      <td>2354.000000</td>\n",
       "    </tr>\n",
       "    <tr>\n",
       "      <th>mean</th>\n",
       "      <td>8080.968564</td>\n",
       "      <td>3164.797366</td>\n",
       "    </tr>\n",
       "    <tr>\n",
       "      <th>std</th>\n",
       "      <td>11814.771334</td>\n",
       "      <td>5284.770364</td>\n",
       "    </tr>\n",
       "    <tr>\n",
       "      <th>min</th>\n",
       "      <td>0.000000</td>\n",
       "      <td>0.000000</td>\n",
       "    </tr>\n",
       "    <tr>\n",
       "      <th>25%</th>\n",
       "      <td>1415.000000</td>\n",
       "      <td>624.500000</td>\n",
       "    </tr>\n",
       "    <tr>\n",
       "      <th>50%</th>\n",
       "      <td>3603.500000</td>\n",
       "      <td>1473.500000</td>\n",
       "    </tr>\n",
       "    <tr>\n",
       "      <th>75%</th>\n",
       "      <td>10122.250000</td>\n",
       "      <td>3652.000000</td>\n",
       "    </tr>\n",
       "    <tr>\n",
       "      <th>max</th>\n",
       "      <td>132810.000000</td>\n",
       "      <td>79515.000000</td>\n",
       "    </tr>\n",
       "  </tbody>\n",
       "</table>\n",
       "</div>"
      ],
      "text/plain": [
       "       favourite_count  retweet_count\n",
       "count      2354.000000    2354.000000\n",
       "mean       8080.968564    3164.797366\n",
       "std       11814.771334    5284.770364\n",
       "min           0.000000       0.000000\n",
       "25%        1415.000000     624.500000\n",
       "50%        3603.500000    1473.500000\n",
       "75%       10122.250000    3652.000000\n",
       "max      132810.000000   79515.000000"
      ]
     },
     "execution_count": 206,
     "metadata": {},
     "output_type": "execute_result"
    }
   ],
   "source": [
    "df_tweet.describe()"
   ]
  },
  {
   "cell_type": "markdown",
   "metadata": {},
   "source": [
    "Assessment:"
   ]
  },
  {
   "cell_type": "markdown",
   "metadata": {},
   "source": [
    "dirtyness/quality\n",
    "- There are retweets\n",
    "- There are replies\n",
    "- There are posts with no pictures (no expanded urls)\n",
    "- There are tweets with pictures that do not contain dogs\n",
    "- Dog names include wrong names such as (a, the, an, ...)\n",
    "- There are different predictions of breeds which should be merged to one confident prediction per dog\n",
    "- There are mistakes in the dog ratings (i.e. floats 13.5/10 which is interpreted as 5/10)\n",
    "- There are names which were interpreted as \"None\" even though there exists a name in the text.\n",
    "\n",
    "tidyness\n",
    "- Dog stages have a bulky format and should be converted to true/false\n",
    "- Dates are not timestamp format\n",
    "- Sources are embedded in HTML a-tags and should be extracted\n",
    "- Tweet ID's should be converted to string in case of leading zeroes and for compatibility when joining \n",
    "- There are unneccessary columns\n",
    "- Dog breeds have underscores and first letters are not capitalised"
   ]
  },
  {
   "cell_type": "markdown",
   "metadata": {},
   "source": [
    "# 3. Clean"
   ]
  },
  {
   "cell_type": "code",
   "execution_count": 207,
   "metadata": {},
   "outputs": [],
   "source": [
    "# make a copy\n",
    "df_clean = df_twit.copy()\n",
    "df_pred_copy = df_pred.copy()\n",
    "df_tweet_copy = df_pred.copy()"
   ]
  },
  {
   "cell_type": "markdown",
   "metadata": {},
   "source": [
    "Define clean_1:\n",
    "\n",
    "There are retweeted posts which should be removed as we are not looking at retweeted posts."
   ]
  },
  {
   "cell_type": "markdown",
   "metadata": {},
   "source": [
    "Code clean_1:"
   ]
  },
  {
   "cell_type": "code",
   "execution_count": 208,
   "metadata": {},
   "outputs": [],
   "source": [
    "# Remove Retweets\n",
    "df_clean = df_clean[df_clean.retweeted_status_id.isnull()]"
   ]
  },
  {
   "cell_type": "markdown",
   "metadata": {},
   "source": [
    "Test clean_1:\n",
    "\n",
    "(Also in case there are users and timestamps without IDs)"
   ]
  },
  {
   "cell_type": "code",
   "execution_count": 209,
   "metadata": {},
   "outputs": [],
   "source": [
    "assert (df_clean.retweeted_status_id.notnull()).sum() == 0\n",
    "assert (df_clean.retweeted_status_user_id.notnull()).sum() == 0\n",
    "assert (df_clean.retweeted_status_timestamp.notnull()).sum() == 0"
   ]
  },
  {
   "cell_type": "markdown",
   "metadata": {},
   "source": [
    "Define clean_2:\n",
    "\n",
    "There are posts which are replies and therefore do not contain the typical dog content. These should be removed."
   ]
  },
  {
   "cell_type": "markdown",
   "metadata": {},
   "source": [
    "Code clean_2:"
   ]
  },
  {
   "cell_type": "code",
   "execution_count": 210,
   "metadata": {},
   "outputs": [],
   "source": [
    "df_clean = df_clean[df_clean.in_reply_to_status_id.isnull()]"
   ]
  },
  {
   "cell_type": "markdown",
   "metadata": {},
   "source": [
    "Test clean_2:"
   ]
  },
  {
   "cell_type": "code",
   "execution_count": 211,
   "metadata": {},
   "outputs": [],
   "source": [
    "assert (df_clean.in_reply_to_status_id.notnull()).sum() == 0\n",
    "assert (df_clean.in_reply_to_user_id.notnull()).sum() == 0"
   ]
  },
  {
   "cell_type": "markdown",
   "metadata": {},
   "source": [
    "Define clean_3:\n",
    "\n",
    "There are tweets which do not include any pictures. Therefore it can be concluded that they do not serve the purpose of introducing a new dog and should therefore not be removed."
   ]
  },
  {
   "cell_type": "markdown",
   "metadata": {},
   "source": [
    "Code clean_3:"
   ]
  },
  {
   "cell_type": "code",
   "execution_count": 212,
   "metadata": {},
   "outputs": [],
   "source": [
    "df_clean = df_clean[df_clean.expanded_urls.notnull()]"
   ]
  },
  {
   "cell_type": "markdown",
   "metadata": {},
   "source": [
    "Test clean_3:"
   ]
  },
  {
   "cell_type": "code",
   "execution_count": 213,
   "metadata": {},
   "outputs": [],
   "source": [
    "assert (df_clean.expanded_urls.isnull()).sum() == 0"
   ]
  },
  {
   "cell_type": "markdown",
   "metadata": {},
   "source": [
    "Define clean_4:\n",
    "\n",
    "There are a lot of ratings which got wrong, because the original extraction pattern did not include decimals. This will be cleaned by using more appropriate regex."
   ]
  },
  {
   "cell_type": "code",
   "execution_count": 214,
   "metadata": {},
   "outputs": [
    {
     "data": {
      "text/html": [
       "<div>\n",
       "<style>\n",
       "    .dataframe thead tr:only-child th {\n",
       "        text-align: right;\n",
       "    }\n",
       "\n",
       "    .dataframe thead th {\n",
       "        text-align: left;\n",
       "    }\n",
       "\n",
       "    .dataframe tbody tr th {\n",
       "        vertical-align: top;\n",
       "    }\n",
       "</style>\n",
       "<table border=\"1\" class=\"dataframe\">\n",
       "  <thead>\n",
       "    <tr style=\"text-align: right;\">\n",
       "      <th></th>\n",
       "      <th>text</th>\n",
       "      <th>rating_numerator</th>\n",
       "    </tr>\n",
       "  </thead>\n",
       "  <tbody>\n",
       "    <tr>\n",
       "      <th>45</th>\n",
       "      <td>This is Bella. She hopes her smile made you sm...</td>\n",
       "      <td>5</td>\n",
       "    </tr>\n",
       "    <tr>\n",
       "      <th>695</th>\n",
       "      <td>This is Logan, the Chow who lived. He solemnly...</td>\n",
       "      <td>75</td>\n",
       "    </tr>\n",
       "    <tr>\n",
       "      <th>763</th>\n",
       "      <td>This is Sophie. She's a Jubilant Bush Pupper. ...</td>\n",
       "      <td>27</td>\n",
       "    </tr>\n",
       "    <tr>\n",
       "      <th>1712</th>\n",
       "      <td>Here we have uncovered an entire battalion of ...</td>\n",
       "      <td>26</td>\n",
       "    </tr>\n",
       "  </tbody>\n",
       "</table>\n",
       "</div>"
      ],
      "text/plain": [
       "                                                   text  rating_numerator\n",
       "45    This is Bella. She hopes her smile made you sm...                 5\n",
       "695   This is Logan, the Chow who lived. He solemnly...                75\n",
       "763   This is Sophie. She's a Jubilant Bush Pupper. ...                27\n",
       "1712  Here we have uncovered an entire battalion of ...                26"
      ]
     },
     "execution_count": 214,
     "metadata": {},
     "output_type": "execute_result"
    }
   ],
   "source": [
    "df_clean[df_clean.text.str.contains(r\"\\d+\\.\\d*\\/\\d+\")][['text', 'rating_numerator']]"
   ]
  },
  {
   "cell_type": "markdown",
   "metadata": {},
   "source": [
    "Code clean_4:"
   ]
  },
  {
   "cell_type": "code",
   "execution_count": 215,
   "metadata": {},
   "outputs": [],
   "source": [
    "df_clean.rating_numerator = df_clean.text.str.extract(\"((\\d+(\\.\\d+)?))\\\\/\\d+\", expand=False)[0].astype(float)\n",
    "\n",
    "# also cast denominator to float as extract creates strings by default\n",
    "df_clean.rating_denominator = df_clean.rating_denominator.astype(float)"
   ]
  },
  {
   "cell_type": "markdown",
   "metadata": {},
   "source": [
    "Test clean_4:"
   ]
  },
  {
   "cell_type": "code",
   "execution_count": 216,
   "metadata": {
    "scrolled": true
   },
   "outputs": [
    {
     "data": {
      "text/plain": [
       "45      13.50\n",
       "695      9.75\n",
       "763     11.27\n",
       "1712    11.26\n",
       "Name: rating_numerator, dtype: float64"
      ]
     },
     "execution_count": 216,
     "metadata": {},
     "output_type": "execute_result"
    }
   ],
   "source": [
    "df_clean[df_clean.text.str.contains(r\"\\d+\\.\\d*\\/\\d+\")]['rating_numerator']"
   ]
  },
  {
   "cell_type": "code",
   "execution_count": 217,
   "metadata": {},
   "outputs": [],
   "source": [
    "# also check for possible divByZero in denominator"
   ]
  },
  {
   "cell_type": "code",
   "execution_count": 218,
   "metadata": {},
   "outputs": [
    {
     "data": {
      "text/plain": [
       "count    2094.000000\n",
       "mean       10.449379\n",
       "std         6.649800\n",
       "min         2.000000\n",
       "25%        10.000000\n",
       "50%        10.000000\n",
       "75%        10.000000\n",
       "max       170.000000\n",
       "Name: rating_denominator, dtype: float64"
      ]
     },
     "execution_count": 218,
     "metadata": {},
     "output_type": "execute_result"
    }
   ],
   "source": [
    "df_clean.rating_denominator.describe()"
   ]
  },
  {
   "cell_type": "code",
   "execution_count": 219,
   "metadata": {},
   "outputs": [
    {
     "data": {
      "text/plain": [
       "count    2094.000000\n",
       "mean       12.149847\n",
       "std        40.367823\n",
       "min         0.000000\n",
       "25%        10.000000\n",
       "50%        11.000000\n",
       "75%        12.000000\n",
       "max      1776.000000\n",
       "Name: rating_numerator, dtype: float64"
      ]
     },
     "execution_count": 219,
     "metadata": {},
     "output_type": "execute_result"
    }
   ],
   "source": [
    "df_clean.rating_numerator.describe()"
   ]
  },
  {
   "cell_type": "markdown",
   "metadata": {},
   "source": [
    "Define clean_5:\n",
    "\n",
    "A lot of names were not extracted and were wrongly replaced with \"None\". This can be cleaned by using more complex regex which includes more possible cases in a rule based manner. Note that a more complex approach was chosen later on using the Stanford NER Tagger in order to extract appropriate names from the text."
   ]
  },
  {
   "cell_type": "markdown",
   "metadata": {},
   "source": [
    "Code clean_5:"
   ]
  },
  {
   "cell_type": "code",
   "execution_count": 220,
   "metadata": {},
   "outputs": [],
   "source": [
    "# Extract names according to different patterns\n",
    "df_names = df_clean.text.str.extract(\"[Nn]ame\\sis\\s([a-zA-Z]+)|[Mm]eet\\s([a-zA-Z]+)|[Ss]ay\\s[Hh]ello\\sto\\s([a-zA-Z]+)|named\\s([a-zA-Z]+)|[Tt]his\\sis\\s([a-zA-Z]+)\", expand=False)\n",
    "\n",
    "# Patterns are ordered by confidence\n",
    "# The names column gets improved incrementally by checking each time whether it does still not contain any name\n",
    "# NaN are replaced with \"None\" in the last iteration\n",
    "df_names['name'] = df_names[0]\n",
    "for i in range(1,df_names.shape[1]-1):\n",
    "    # print(i)\n",
    "    df_names.loc[df_names.name.isnull(), 'name'] = df_names[df_names.name.isnull()][i]\n",
    "df_names.loc[df_names.name.isnull(), 'name'] = 'None'"
   ]
  },
  {
   "cell_type": "code",
   "execution_count": 221,
   "metadata": {},
   "outputs": [],
   "source": [
    "# Copy final name column to clean data frame\n",
    "df_clean.name = df_names.name"
   ]
  },
  {
   "cell_type": "markdown",
   "metadata": {},
   "source": [
    "Assert clean_5:"
   ]
  },
  {
   "cell_type": "code",
   "execution_count": 222,
   "metadata": {},
   "outputs": [
    {
     "data": {
      "text/html": [
       "<div>\n",
       "<style>\n",
       "    .dataframe thead tr:only-child th {\n",
       "        text-align: right;\n",
       "    }\n",
       "\n",
       "    .dataframe thead th {\n",
       "        text-align: left;\n",
       "    }\n",
       "\n",
       "    .dataframe tbody tr th {\n",
       "        vertical-align: top;\n",
       "    }\n",
       "</style>\n",
       "<table border=\"1\" class=\"dataframe\">\n",
       "  <thead>\n",
       "    <tr style=\"text-align: right;\">\n",
       "      <th></th>\n",
       "      <th>0</th>\n",
       "      <th>1</th>\n",
       "      <th>2</th>\n",
       "      <th>3</th>\n",
       "      <th>4</th>\n",
       "      <th>name</th>\n",
       "    </tr>\n",
       "  </thead>\n",
       "  <tbody>\n",
       "    <tr>\n",
       "      <th>663</th>\n",
       "      <td>NaN</td>\n",
       "      <td>NaN</td>\n",
       "      <td>NaN</td>\n",
       "      <td>NaN</td>\n",
       "      <td>Betty</td>\n",
       "      <td>Betty</td>\n",
       "    </tr>\n",
       "    <tr>\n",
       "      <th>1115</th>\n",
       "      <td>NaN</td>\n",
       "      <td>NaN</td>\n",
       "      <td>NaN</td>\n",
       "      <td>NaN</td>\n",
       "      <td>Aldrick</td>\n",
       "      <td>Aldrick</td>\n",
       "    </tr>\n",
       "    <tr>\n",
       "      <th>1629</th>\n",
       "      <td>NaN</td>\n",
       "      <td>NaN</td>\n",
       "      <td>NaN</td>\n",
       "      <td>NaN</td>\n",
       "      <td>Bobby</td>\n",
       "      <td>Bobby</td>\n",
       "    </tr>\n",
       "    <tr>\n",
       "      <th>851</th>\n",
       "      <td>NaN</td>\n",
       "      <td>NaN</td>\n",
       "      <td>NaN</td>\n",
       "      <td>NaN</td>\n",
       "      <td>Tove</td>\n",
       "      <td>Tove</td>\n",
       "    </tr>\n",
       "    <tr>\n",
       "      <th>1453</th>\n",
       "      <td>NaN</td>\n",
       "      <td>Calvin</td>\n",
       "      <td>NaN</td>\n",
       "      <td>NaN</td>\n",
       "      <td>NaN</td>\n",
       "      <td>Calvin</td>\n",
       "    </tr>\n",
       "    <tr>\n",
       "      <th>1821</th>\n",
       "      <td>NaN</td>\n",
       "      <td>Vinnie</td>\n",
       "      <td>NaN</td>\n",
       "      <td>NaN</td>\n",
       "      <td>NaN</td>\n",
       "      <td>Vinnie</td>\n",
       "    </tr>\n",
       "    <tr>\n",
       "      <th>1847</th>\n",
       "      <td>NaN</td>\n",
       "      <td>NaN</td>\n",
       "      <td>NaN</td>\n",
       "      <td>NaN</td>\n",
       "      <td>NaN</td>\n",
       "      <td>None</td>\n",
       "    </tr>\n",
       "    <tr>\n",
       "      <th>934</th>\n",
       "      <td>NaN</td>\n",
       "      <td>NaN</td>\n",
       "      <td>NaN</td>\n",
       "      <td>NaN</td>\n",
       "      <td>NaN</td>\n",
       "      <td>None</td>\n",
       "    </tr>\n",
       "    <tr>\n",
       "      <th>473</th>\n",
       "      <td>NaN</td>\n",
       "      <td>NaN</td>\n",
       "      <td>NaN</td>\n",
       "      <td>NaN</td>\n",
       "      <td>Dudley</td>\n",
       "      <td>Dudley</td>\n",
       "    </tr>\n",
       "    <tr>\n",
       "      <th>1180</th>\n",
       "      <td>NaN</td>\n",
       "      <td>NaN</td>\n",
       "      <td>Lucy</td>\n",
       "      <td>NaN</td>\n",
       "      <td>NaN</td>\n",
       "      <td>Lucy</td>\n",
       "    </tr>\n",
       "  </tbody>\n",
       "</table>\n",
       "</div>"
      ],
      "text/plain": [
       "        0       1     2    3        4     name\n",
       "663   NaN     NaN   NaN  NaN    Betty    Betty\n",
       "1115  NaN     NaN   NaN  NaN  Aldrick  Aldrick\n",
       "1629  NaN     NaN   NaN  NaN    Bobby    Bobby\n",
       "851   NaN     NaN   NaN  NaN     Tove     Tove\n",
       "1453  NaN  Calvin   NaN  NaN      NaN   Calvin\n",
       "1821  NaN  Vinnie   NaN  NaN      NaN   Vinnie\n",
       "1847  NaN     NaN   NaN  NaN      NaN     None\n",
       "934   NaN     NaN   NaN  NaN      NaN     None\n",
       "473   NaN     NaN   NaN  NaN   Dudley   Dudley\n",
       "1180  NaN     NaN  Lucy  NaN      NaN     Lucy"
      ]
     },
     "execution_count": 222,
     "metadata": {},
     "output_type": "execute_result"
    }
   ],
   "source": [
    "df_names.sample(10)"
   ]
  },
  {
   "cell_type": "markdown",
   "metadata": {},
   "source": [
    "Define clean_6:\n",
    "\n",
    "Tweet IDs should be converted to strings in case of leading zeroes and for joining purposes."
   ]
  },
  {
   "cell_type": "markdown",
   "metadata": {},
   "source": [
    "Code clean_6:"
   ]
  },
  {
   "cell_type": "code",
   "execution_count": 223,
   "metadata": {},
   "outputs": [],
   "source": [
    "df_clean.tweet_id = df_clean.tweet_id.astype(str)"
   ]
  },
  {
   "cell_type": "markdown",
   "metadata": {},
   "source": [
    "Test clean_6:"
   ]
  },
  {
   "cell_type": "code",
   "execution_count": 224,
   "metadata": {},
   "outputs": [
    {
     "data": {
      "text/plain": [
       "dtype('O')"
      ]
     },
     "execution_count": 224,
     "metadata": {},
     "output_type": "execute_result"
    }
   ],
   "source": [
    "df_clean.tweet_id.dtype # should be O for object"
   ]
  },
  {
   "cell_type": "markdown",
   "metadata": {},
   "source": [
    "Define clean_7:\n",
    "\n",
    "Some posts do not contain dogs which should be cleaned. This will be done by joining the table to the image predictions and using the classification outputs to certify that the posts really contain dogs."
   ]
  },
  {
   "cell_type": "markdown",
   "metadata": {},
   "source": [
    "Code clean_7:"
   ]
  },
  {
   "cell_type": "code",
   "execution_count": 225,
   "metadata": {},
   "outputs": [],
   "source": [
    "df_clean = df_clean.join(df_pred.set_index('tweet_id'), on='tweet_id')"
   ]
  },
  {
   "cell_type": "code",
   "execution_count": 226,
   "metadata": {},
   "outputs": [],
   "source": [
    "# gently remove non-dog pictures, according to the rule that if none of the predictions contains a dog it most probably is not a dog.\n",
    "df_clean = df_clean[(df_clean.p1_dog == 'True') | (df_clean.p2_dog == 'True') | (df_clean.p3_dog == 'True')]"
   ]
  },
  {
   "cell_type": "markdown",
   "metadata": {},
   "source": [
    "Test clean_7:"
   ]
  },
  {
   "cell_type": "code",
   "execution_count": 227,
   "metadata": {},
   "outputs": [],
   "source": [
    "assert ((df_clean.p1_dog == 'False') & (df_clean.p2_dog == 'False') & (df_clean.p3_dog == 'False')).sum() == 0"
   ]
  },
  {
   "cell_type": "markdown",
   "metadata": {},
   "source": [
    "Define tidy_1:\n",
    "\n",
    "The joined df containes a lot predictions. As we are only interested in the most probable breed, we will tidy up the multiple predictions and get the most probable dog breed."
   ]
  },
  {
   "cell_type": "markdown",
   "metadata": {},
   "source": [
    "Code tidy_1:"
   ]
  },
  {
   "cell_type": "code",
   "execution_count": 228,
   "metadata": {},
   "outputs": [],
   "source": [
    "# Iteratively get most probable dog breed\n",
    "df_clean['breed'] = df_clean.p1\n",
    "df_clean.loc[df_clean.p1_dog == 'False', 'breed'] = df_clean[df_clean.p1_dog == 'False'].p2\n",
    "df_clean.loc[(df_clean.p1_dog == 'False') & (df_clean.p2_dog == 'False'), 'breed'] = df_clean[(df_clean.p1_dog == 'False') & (df_clean.p2_dog == 'False')].p3"
   ]
  },
  {
   "cell_type": "markdown",
   "metadata": {},
   "source": [
    "Test tidy_1:"
   ]
  },
  {
   "cell_type": "code",
   "execution_count": 229,
   "metadata": {},
   "outputs": [
    {
     "data": {
      "text/html": [
       "<div>\n",
       "<style>\n",
       "    .dataframe thead tr:only-child th {\n",
       "        text-align: right;\n",
       "    }\n",
       "\n",
       "    .dataframe thead th {\n",
       "        text-align: left;\n",
       "    }\n",
       "\n",
       "    .dataframe tbody tr th {\n",
       "        vertical-align: top;\n",
       "    }\n",
       "</style>\n",
       "<table border=\"1\" class=\"dataframe\">\n",
       "  <thead>\n",
       "    <tr style=\"text-align: right;\">\n",
       "      <th></th>\n",
       "      <th>tweet_id</th>\n",
       "      <th>in_reply_to_status_id</th>\n",
       "      <th>in_reply_to_user_id</th>\n",
       "      <th>timestamp</th>\n",
       "      <th>source</th>\n",
       "      <th>text</th>\n",
       "      <th>retweeted_status_id</th>\n",
       "      <th>retweeted_status_user_id</th>\n",
       "      <th>retweeted_status_timestamp</th>\n",
       "      <th>expanded_urls</th>\n",
       "      <th>...</th>\n",
       "      <th>p1</th>\n",
       "      <th>p1_conf</th>\n",
       "      <th>p1_dog</th>\n",
       "      <th>p2</th>\n",
       "      <th>p2_conf</th>\n",
       "      <th>p2_dog</th>\n",
       "      <th>p3</th>\n",
       "      <th>p3_conf</th>\n",
       "      <th>p3_dog</th>\n",
       "      <th>breed</th>\n",
       "    </tr>\n",
       "  </thead>\n",
       "  <tbody>\n",
       "    <tr>\n",
       "      <th>777</th>\n",
       "      <td>776088319444877312</td>\n",
       "      <td>NaN</td>\n",
       "      <td>NaN</td>\n",
       "      <td>2016-09-14 16:00:49 +0000</td>\n",
       "      <td>&lt;a href=\"http://twitter.com/download/iphone\" r...</td>\n",
       "      <td>I can't tap the screen to make the hearts appe...</td>\n",
       "      <td>NaN</td>\n",
       "      <td>NaN</td>\n",
       "      <td>NaN</td>\n",
       "      <td>https://twitter.com/dog_rates/status/776088319...</td>\n",
       "      <td>...</td>\n",
       "      <td>web_site</td>\n",
       "      <td>0.999916</td>\n",
       "      <td>False</td>\n",
       "      <td>pug</td>\n",
       "      <td>7.657020000000001e-05</td>\n",
       "      <td>True</td>\n",
       "      <td>menu</td>\n",
       "      <td>2.16468e-06</td>\n",
       "      <td>False</td>\n",
       "      <td>pug</td>\n",
       "    </tr>\n",
       "    <tr>\n",
       "      <th>2319</th>\n",
       "      <td>666447344410484738</td>\n",
       "      <td>NaN</td>\n",
       "      <td>NaN</td>\n",
       "      <td>2015-11-17 02:46:43 +0000</td>\n",
       "      <td>&lt;a href=\"http://twitter.com/download/iphone\" r...</td>\n",
       "      <td>This is Scout. She is a black Downton Abbey. I...</td>\n",
       "      <td>NaN</td>\n",
       "      <td>NaN</td>\n",
       "      <td>NaN</td>\n",
       "      <td>https://twitter.com/dog_rates/status/666447344...</td>\n",
       "      <td>...</td>\n",
       "      <td>curly-coated_retriever</td>\n",
       "      <td>0.32208400000000004</td>\n",
       "      <td>True</td>\n",
       "      <td>giant_schnauzer</td>\n",
       "      <td>0.287955</td>\n",
       "      <td>True</td>\n",
       "      <td>Labrador_retriever</td>\n",
       "      <td>0.166331</td>\n",
       "      <td>True</td>\n",
       "      <td>curly-coated_retriever</td>\n",
       "    </tr>\n",
       "    <tr>\n",
       "      <th>1303</th>\n",
       "      <td>707420581654872064</td>\n",
       "      <td>NaN</td>\n",
       "      <td>NaN</td>\n",
       "      <td>2016-03-09 04:19:44 +0000</td>\n",
       "      <td>&lt;a href=\"http://twitter.com/download/iphone\" r...</td>\n",
       "      <td>This is Keurig. He's a rare dog. Laughs like a...</td>\n",
       "      <td>NaN</td>\n",
       "      <td>NaN</td>\n",
       "      <td>NaN</td>\n",
       "      <td>https://twitter.com/dog_rates/status/707420581...</td>\n",
       "      <td>...</td>\n",
       "      <td>ram</td>\n",
       "      <td>0.518215</td>\n",
       "      <td>False</td>\n",
       "      <td>kuvasz</td>\n",
       "      <td>0.149391</td>\n",
       "      <td>True</td>\n",
       "      <td>Great_Pyrenees</td>\n",
       "      <td>0.106003</td>\n",
       "      <td>True</td>\n",
       "      <td>kuvasz</td>\n",
       "    </tr>\n",
       "    <tr>\n",
       "      <th>1847</th>\n",
       "      <td>675820929667219457</td>\n",
       "      <td>NaN</td>\n",
       "      <td>NaN</td>\n",
       "      <td>2015-12-12 23:34:00 +0000</td>\n",
       "      <td>&lt;a href=\"http://twitter.com/download/iphone\" r...</td>\n",
       "      <td>Here's a handful of sleepy puppers. All look u...</td>\n",
       "      <td>NaN</td>\n",
       "      <td>NaN</td>\n",
       "      <td>NaN</td>\n",
       "      <td>https://twitter.com/dog_rates/status/675820929...</td>\n",
       "      <td>...</td>\n",
       "      <td>basset</td>\n",
       "      <td>0.556373</td>\n",
       "      <td>True</td>\n",
       "      <td>beagle</td>\n",
       "      <td>0.201675</td>\n",
       "      <td>True</td>\n",
       "      <td>bloodhound</td>\n",
       "      <td>0.110848</td>\n",
       "      <td>True</td>\n",
       "      <td>basset</td>\n",
       "    </tr>\n",
       "    <tr>\n",
       "      <th>1232</th>\n",
       "      <td>713175907180089344</td>\n",
       "      <td>NaN</td>\n",
       "      <td>NaN</td>\n",
       "      <td>2016-03-25 01:29:21 +0000</td>\n",
       "      <td>&lt;a href=\"http://twitter.com/download/iphone\" r...</td>\n",
       "      <td>Say hello to Opie and Clarkus. Clarkus fell as...</td>\n",
       "      <td>NaN</td>\n",
       "      <td>NaN</td>\n",
       "      <td>NaN</td>\n",
       "      <td>https://twitter.com/dog_rates/status/713175907...</td>\n",
       "      <td>...</td>\n",
       "      <td>timber_wolf</td>\n",
       "      <td>0.503788</td>\n",
       "      <td>False</td>\n",
       "      <td>malamute</td>\n",
       "      <td>0.43062399999999995</td>\n",
       "      <td>True</td>\n",
       "      <td>Siberian_husky</td>\n",
       "      <td>0.028454200000000002</td>\n",
       "      <td>True</td>\n",
       "      <td>malamute</td>\n",
       "    </tr>\n",
       "  </tbody>\n",
       "</table>\n",
       "<p>5 rows × 29 columns</p>\n",
       "</div>"
      ],
      "text/plain": [
       "                tweet_id  in_reply_to_status_id  in_reply_to_user_id  \\\n",
       "777   776088319444877312                    NaN                  NaN   \n",
       "2319  666447344410484738                    NaN                  NaN   \n",
       "1303  707420581654872064                    NaN                  NaN   \n",
       "1847  675820929667219457                    NaN                  NaN   \n",
       "1232  713175907180089344                    NaN                  NaN   \n",
       "\n",
       "                      timestamp  \\\n",
       "777   2016-09-14 16:00:49 +0000   \n",
       "2319  2015-11-17 02:46:43 +0000   \n",
       "1303  2016-03-09 04:19:44 +0000   \n",
       "1847  2015-12-12 23:34:00 +0000   \n",
       "1232  2016-03-25 01:29:21 +0000   \n",
       "\n",
       "                                                 source  \\\n",
       "777   <a href=\"http://twitter.com/download/iphone\" r...   \n",
       "2319  <a href=\"http://twitter.com/download/iphone\" r...   \n",
       "1303  <a href=\"http://twitter.com/download/iphone\" r...   \n",
       "1847  <a href=\"http://twitter.com/download/iphone\" r...   \n",
       "1232  <a href=\"http://twitter.com/download/iphone\" r...   \n",
       "\n",
       "                                                   text  retweeted_status_id  \\\n",
       "777   I can't tap the screen to make the hearts appe...                  NaN   \n",
       "2319  This is Scout. She is a black Downton Abbey. I...                  NaN   \n",
       "1303  This is Keurig. He's a rare dog. Laughs like a...                  NaN   \n",
       "1847  Here's a handful of sleepy puppers. All look u...                  NaN   \n",
       "1232  Say hello to Opie and Clarkus. Clarkus fell as...                  NaN   \n",
       "\n",
       "      retweeted_status_user_id retweeted_status_timestamp  \\\n",
       "777                        NaN                        NaN   \n",
       "2319                       NaN                        NaN   \n",
       "1303                       NaN                        NaN   \n",
       "1847                       NaN                        NaN   \n",
       "1232                       NaN                        NaN   \n",
       "\n",
       "                                          expanded_urls  \\\n",
       "777   https://twitter.com/dog_rates/status/776088319...   \n",
       "2319  https://twitter.com/dog_rates/status/666447344...   \n",
       "1303  https://twitter.com/dog_rates/status/707420581...   \n",
       "1847  https://twitter.com/dog_rates/status/675820929...   \n",
       "1232  https://twitter.com/dog_rates/status/713175907...   \n",
       "\n",
       "               ...                                p1              p1_conf  \\\n",
       "777            ...                          web_site             0.999916   \n",
       "2319           ...            curly-coated_retriever  0.32208400000000004   \n",
       "1303           ...                               ram             0.518215   \n",
       "1847           ...                            basset             0.556373   \n",
       "1232           ...                       timber_wolf             0.503788   \n",
       "\n",
       "     p1_dog               p2                p2_conf p2_dog  \\\n",
       "777   False              pug  7.657020000000001e-05   True   \n",
       "2319   True  giant_schnauzer               0.287955   True   \n",
       "1303  False           kuvasz               0.149391   True   \n",
       "1847   True           beagle               0.201675   True   \n",
       "1232  False         malamute    0.43062399999999995   True   \n",
       "\n",
       "                      p3               p3_conf p3_dog                   breed  \n",
       "777                 menu           2.16468e-06  False                     pug  \n",
       "2319  Labrador_retriever              0.166331   True  curly-coated_retriever  \n",
       "1303      Great_Pyrenees              0.106003   True                  kuvasz  \n",
       "1847          bloodhound              0.110848   True                  basset  \n",
       "1232      Siberian_husky  0.028454200000000002   True                malamute  \n",
       "\n",
       "[5 rows x 29 columns]"
      ]
     },
     "execution_count": 229,
     "metadata": {},
     "output_type": "execute_result"
    }
   ],
   "source": [
    "df_clean.sample(5)"
   ]
  },
  {
   "cell_type": "markdown",
   "metadata": {},
   "source": [
    "Define clean_8:\n",
    "\n",
    "Some name extractions were obviously wrong. These will be cleaned now by replacing them with \"None\"."
   ]
  },
  {
   "cell_type": "markdown",
   "metadata": {},
   "source": [
    "Code clean_8:"
   ]
  },
  {
   "cell_type": "code",
   "execution_count": 230,
   "metadata": {},
   "outputs": [
    {
     "data": {
      "text/plain": [
       "None       396\n",
       "a           42\n",
       "Charlie     10\n",
       "Lucy        10\n",
       "Cooper      10\n",
       "Tucker       9\n",
       "Oliver       9\n",
       "Penny        8\n",
       "Winston      7\n",
       "Daisy        7\n",
       "Name: name, dtype: int64"
      ]
     },
     "execution_count": 230,
     "metadata": {},
     "output_type": "execute_result"
    }
   ],
   "source": [
    "# value counts show that words such as \"a\" were extracted wrongly\n",
    "df_clean.name.value_counts().head(10)"
   ]
  },
  {
   "cell_type": "code",
   "execution_count": 231,
   "metadata": {},
   "outputs": [
    {
     "data": {
      "text/plain": [
       "a               42\n",
       "the              6\n",
       "an               4\n",
       "getting          4\n",
       "just             3\n",
       "one              3\n",
       "very             3\n",
       "quite            2\n",
       "dog              2\n",
       "incredibly       1\n",
       "all              1\n",
       "not              1\n",
       "my               1\n",
       "officially       1\n",
       "light            1\n",
       "infuriating      1\n",
       "actually         1\n",
       "unacceptable     1\n",
       "space            1\n",
       "Name: name, dtype: int64"
      ]
     },
     "execution_count": 231,
     "metadata": {},
     "output_type": "execute_result"
    }
   ],
   "source": [
    "# Identifying false names with lower-case filter\n",
    "df_clean.name.str.extract(\"(^[a-z].*)\", expand=False).value_counts()"
   ]
  },
  {
   "cell_type": "code",
   "execution_count": 232,
   "metadata": {},
   "outputs": [],
   "source": [
    "# Replace wrong names with \"None\".\n",
    "df_clean['name'] = df_clean.name.str.replace(\"(^[a-z].*)\", 'None')"
   ]
  },
  {
   "cell_type": "markdown",
   "metadata": {},
   "source": [
    "Test clean_8:"
   ]
  },
  {
   "cell_type": "code",
   "execution_count": 233,
   "metadata": {},
   "outputs": [],
   "source": [
    "assert df_clean.name.str.extract(\"(^[a-z].*)\", expand=False).count() == 0"
   ]
  },
  {
   "cell_type": "markdown",
   "metadata": {},
   "source": [
    "Define clean_9:\n",
    "\n",
    "By visual assessment it was found that dog Bluebert has a wrong rating. Using Regex, we only extract the first match. However, this time the wrong pattern was detected as can be seen below. This is quite an exception and it is very hard to find a rule for circumventing this error. So we will clean this one manually:"
   ]
  },
  {
   "cell_type": "code",
   "execution_count": 234,
   "metadata": {},
   "outputs": [
    {
     "data": {
      "text/html": [
       "<div>\n",
       "<style>\n",
       "    .dataframe thead tr:only-child th {\n",
       "        text-align: right;\n",
       "    }\n",
       "\n",
       "    .dataframe thead th {\n",
       "        text-align: left;\n",
       "    }\n",
       "\n",
       "    .dataframe tbody tr th {\n",
       "        vertical-align: top;\n",
       "    }\n",
       "</style>\n",
       "<table border=\"1\" class=\"dataframe\">\n",
       "  <thead>\n",
       "    <tr style=\"text-align: right;\">\n",
       "      <th></th>\n",
       "      <th>tweet_id</th>\n",
       "      <th>in_reply_to_status_id</th>\n",
       "      <th>in_reply_to_user_id</th>\n",
       "      <th>timestamp</th>\n",
       "      <th>source</th>\n",
       "      <th>text</th>\n",
       "      <th>retweeted_status_id</th>\n",
       "      <th>retweeted_status_user_id</th>\n",
       "      <th>retweeted_status_timestamp</th>\n",
       "      <th>expanded_urls</th>\n",
       "      <th>...</th>\n",
       "      <th>p1</th>\n",
       "      <th>p1_conf</th>\n",
       "      <th>p1_dog</th>\n",
       "      <th>p2</th>\n",
       "      <th>p2_conf</th>\n",
       "      <th>p2_dog</th>\n",
       "      <th>p3</th>\n",
       "      <th>p3_conf</th>\n",
       "      <th>p3_dog</th>\n",
       "      <th>breed</th>\n",
       "    </tr>\n",
       "  </thead>\n",
       "  <tbody>\n",
       "    <tr>\n",
       "      <th>1202</th>\n",
       "      <td>716439118184652801</td>\n",
       "      <td>NaN</td>\n",
       "      <td>NaN</td>\n",
       "      <td>2016-04-03 01:36:11 +0000</td>\n",
       "      <td>&lt;a href=\"http://twitter.com/download/iphone\" r...</td>\n",
       "      <td>This is Bluebert. He just saw that both #Final...</td>\n",
       "      <td>NaN</td>\n",
       "      <td>NaN</td>\n",
       "      <td>NaN</td>\n",
       "      <td>https://twitter.com/dog_rates/status/716439118...</td>\n",
       "      <td>...</td>\n",
       "      <td>Siberian_husky</td>\n",
       "      <td>0.396495</td>\n",
       "      <td>True</td>\n",
       "      <td>malamute</td>\n",
       "      <td>0.31705300000000003</td>\n",
       "      <td>True</td>\n",
       "      <td>Eskimo_dog</td>\n",
       "      <td>0.273419</td>\n",
       "      <td>True</td>\n",
       "      <td>Siberian_husky</td>\n",
       "    </tr>\n",
       "  </tbody>\n",
       "</table>\n",
       "<p>1 rows × 29 columns</p>\n",
       "</div>"
      ],
      "text/plain": [
       "                tweet_id  in_reply_to_status_id  in_reply_to_user_id  \\\n",
       "1202  716439118184652801                    NaN                  NaN   \n",
       "\n",
       "                      timestamp  \\\n",
       "1202  2016-04-03 01:36:11 +0000   \n",
       "\n",
       "                                                 source  \\\n",
       "1202  <a href=\"http://twitter.com/download/iphone\" r...   \n",
       "\n",
       "                                                   text  retweeted_status_id  \\\n",
       "1202  This is Bluebert. He just saw that both #Final...                  NaN   \n",
       "\n",
       "      retweeted_status_user_id retweeted_status_timestamp  \\\n",
       "1202                       NaN                        NaN   \n",
       "\n",
       "                                          expanded_urls       ...        \\\n",
       "1202  https://twitter.com/dog_rates/status/716439118...       ...         \n",
       "\n",
       "                  p1   p1_conf p1_dog        p2              p2_conf p2_dog  \\\n",
       "1202  Siberian_husky  0.396495   True  malamute  0.31705300000000003   True   \n",
       "\n",
       "              p3   p3_conf p3_dog           breed  \n",
       "1202  Eskimo_dog  0.273419   True  Siberian_husky  \n",
       "\n",
       "[1 rows x 29 columns]"
      ]
     },
     "execution_count": 234,
     "metadata": {},
     "output_type": "execute_result"
    }
   ],
   "source": [
    "df_clean.query('rating_numerator == 50')"
   ]
  },
  {
   "cell_type": "code",
   "execution_count": 235,
   "metadata": {},
   "outputs": [
    {
     "data": {
      "text/plain": [
       "'This is Bluebert. He just saw that both #FinalFur match ups are split 50/50. Amazed af. 11/10 https://t.co/Kky1DPG4iq'"
      ]
     },
     "execution_count": 235,
     "metadata": {},
     "output_type": "execute_result"
    }
   ],
   "source": [
    "df_clean.loc[1202, 'text']"
   ]
  },
  {
   "cell_type": "markdown",
   "metadata": {},
   "source": [
    "Code clean_9:"
   ]
  },
  {
   "cell_type": "code",
   "execution_count": 236,
   "metadata": {},
   "outputs": [],
   "source": [
    "df_clean.loc[1202, 'rating_numerator'] = 11.0\n",
    "df_clean.loc[1202, 'rating_denominator'] = 10.0"
   ]
  },
  {
   "cell_type": "markdown",
   "metadata": {},
   "source": [
    "Test clean_9:"
   ]
  },
  {
   "cell_type": "code",
   "execution_count": 237,
   "metadata": {},
   "outputs": [],
   "source": [
    "assert df_clean.loc[1202, 'rating_numerator'] == 11.0\n",
    "assert df_clean.loc[1202, 'rating_denominator'] == 10.0"
   ]
  },
  {
   "cell_type": "markdown",
   "metadata": {},
   "source": [
    "Define tidy_2:\n",
    "\n",
    "The dog stages are resemble the column name and should be therefore be transformed into a more suitable format, i.e. false/true. First we will check, if there are any values which deviate from the four stages and then replace the values."
   ]
  },
  {
   "cell_type": "markdown",
   "metadata": {},
   "source": [
    "Code tidy_2:"
   ]
  },
  {
   "cell_type": "code",
   "execution_count": 238,
   "metadata": {},
   "outputs": [
    {
     "data": {
      "text/plain": [
       "None     1603\n",
       "doggo      63\n",
       "Name: doggo, dtype: int64"
      ]
     },
     "execution_count": 238,
     "metadata": {},
     "output_type": "execute_result"
    }
   ],
   "source": [
    "df_clean.doggo.value_counts()"
   ]
  },
  {
   "cell_type": "code",
   "execution_count": 239,
   "metadata": {},
   "outputs": [
    {
     "data": {
      "text/plain": [
       "None       1658\n",
       "floofer       8\n",
       "Name: floofer, dtype: int64"
      ]
     },
     "execution_count": 239,
     "metadata": {},
     "output_type": "execute_result"
    }
   ],
   "source": [
    "df_clean.floofer.value_counts()"
   ]
  },
  {
   "cell_type": "code",
   "execution_count": 240,
   "metadata": {},
   "outputs": [
    {
     "data": {
      "text/plain": [
       "None      1493\n",
       "pupper     173\n",
       "Name: pupper, dtype: int64"
      ]
     },
     "execution_count": 240,
     "metadata": {},
     "output_type": "execute_result"
    }
   ],
   "source": [
    "df_clean.pupper.value_counts()"
   ]
  },
  {
   "cell_type": "code",
   "execution_count": 241,
   "metadata": {},
   "outputs": [
    {
     "data": {
      "text/plain": [
       "None     1644\n",
       "puppo      22\n",
       "Name: puppo, dtype: int64"
      ]
     },
     "execution_count": 241,
     "metadata": {},
     "output_type": "execute_result"
    }
   ],
   "source": [
    "df_clean.puppo.value_counts()"
   ]
  },
  {
   "cell_type": "code",
   "execution_count": 242,
   "metadata": {},
   "outputs": [],
   "source": [
    "def transform_stage(row):\n",
    "    stages = []\n",
    "    if row['doggo'] == 'doggo':\n",
    "        stages.append('Doggo')\n",
    "    if row['floofer'] == 'floofer':\n",
    "        stages.append('Floofer')\n",
    "    if row['pupper'] == 'pupper':\n",
    "        stages.append('Pupper')\n",
    "    if row['puppo'] == 'puppo':\n",
    "        stages.append('Puppo')\n",
    "        \n",
    "    if not stages:\n",
    "        return 'None'      \n",
    "    return \", \".join(stages)\n",
    "\n",
    "# The axis=1 specifier means that the function is applied at \n",
    "# row rather than column level\n",
    "df_clean['stage'] = df_clean.apply(lambda row: transform_stage(row), axis=1)"
   ]
  },
  {
   "cell_type": "markdown",
   "metadata": {},
   "source": [
    "Test tidy_2:\n",
    "\n",
    "Test if the sums are the same as the counts before.\n",
    "It turns out, that we have less dogs per stage compared to before. This is due to overlapping as can be seen below and only one occurence may be transferred to the new column. Automatic cleaning is hard as we have following cases to consider that need to be recognised.\n",
    "\n",
    "(1) It is mentioned that the dog looks like stage A but is actually stage B\n",
    "(2) It is mentioned that the dog actually is stage A but disguised as stage B\n",
    "(3) There are two dogs on the picture"
   ]
  },
  {
   "cell_type": "code",
   "execution_count": 243,
   "metadata": {},
   "outputs": [
    {
     "data": {
      "text/plain": [
       "54"
      ]
     },
     "execution_count": 243,
     "metadata": {},
     "output_type": "execute_result"
    }
   ],
   "source": [
    "df_clean.stage[df_clean.stage == 'Doggo'].count()"
   ]
  },
  {
   "cell_type": "code",
   "execution_count": 244,
   "metadata": {},
   "outputs": [
    {
     "data": {
      "text/plain": [
       "7"
      ]
     },
     "execution_count": 244,
     "metadata": {},
     "output_type": "execute_result"
    }
   ],
   "source": [
    "df_clean.stage[df_clean.stage == 'Floofer'].count()"
   ]
  },
  {
   "cell_type": "code",
   "execution_count": 245,
   "metadata": {},
   "outputs": [
    {
     "data": {
      "text/plain": [
       "166"
      ]
     },
     "execution_count": 245,
     "metadata": {},
     "output_type": "execute_result"
    }
   ],
   "source": [
    "df_clean.stage[df_clean.stage == 'Pupper'].count()"
   ]
  },
  {
   "cell_type": "code",
   "execution_count": 246,
   "metadata": {},
   "outputs": [
    {
     "data": {
      "text/plain": [
       "21"
      ]
     },
     "execution_count": 246,
     "metadata": {},
     "output_type": "execute_result"
    }
   ],
   "source": [
    "df_clean.stage[df_clean.stage == 'Puppo'].count()"
   ]
  },
  {
   "cell_type": "code",
   "execution_count": 247,
   "metadata": {},
   "outputs": [
    {
     "name": "stdout",
     "output_type": "stream",
     "text": [
      "191           Here's a puppo participating in the #ScienceMarch. Cleverly disguising her own doggo agenda. 13/10 would keep the planet habitable for https://t.co/cMhq16isel\n",
      "200     At first I thought this was a shy doggo, but it's actually a Rare Canadian Floofer Owl. Amateurs would confuse the two. 11/10 only send dogs https://t.co/TXdT3tmuYk\n",
      "460     This is Dido. She's playing the lead role in \"Pupper Stops to Catch Snow Before Resuming Shadow Box with Dried Apple.\" 13/10 (IG: didodoggo) https://t.co/m7isZrOBX7\n",
      "531                         Here we have Burke (pupper) and Dexter (doggo). Pupper wants to be exactly like doggo. Both 12/10 would pet at same time https://t.co/ANBpEYHaho\n",
      "575                         This is Bones. He's being haunted by another doggo of roughly the same size. 12/10 deep breaths pupper everything's fine https://t.co/55Dqe0SJNj\n",
      "889                         Meet Maggie &amp; Lila. Maggie is the doggo, Lila is the pupper. They are sisters. Both 12/10 would pet at the same time https://t.co/MYwR4DQKll\n",
      "956                                 Please stop sending it pictures that don't even have a doggo or pupper in them. Churlish af. 5/10 neat couch tho https://t.co/u2c9c7qSg8\n",
      "1063                                                                             This is just downright precious af. 12/10 for both pupper and doggo https://t.co/o5J479bZUC\n",
      "1113                                                                                              Like father (doggo), like son (pupper). Both 12/10 https://t.co/pG2inLaOda\n",
      "Name: text, dtype: object\n"
     ]
    }
   ],
   "source": [
    "with pd.option_context('display.max_colwidth', 1000):\n",
    "    print(df_clean.query(\"doggo != 'None' and (floofer != 'None' or pupper != 'None' or puppo != 'None')\").text)"
   ]
  },
  {
   "cell_type": "code",
   "execution_count": 248,
   "metadata": {},
   "outputs": [
    {
     "name": "stdout",
     "output_type": "stream",
     "text": [
      "200    At first I thought this was a shy doggo, but it's actually a Rare Canadian Floofer Owl. Amateurs would confuse the two. 11/10 only send dogs https://t.co/TXdT3tmuYk\n",
      "Name: text, dtype: object\n"
     ]
    }
   ],
   "source": [
    "with pd.option_context('display.max_colwidth', 1000):\n",
    "    print(df_clean.query(\"floofer != 'None' and (doggo != 'None' or pupper != 'None' or puppo != 'None')\").text)"
   ]
  },
  {
   "cell_type": "code",
   "execution_count": 249,
   "metadata": {},
   "outputs": [
    {
     "name": "stdout",
     "output_type": "stream",
     "text": [
      "460     This is Dido. She's playing the lead role in \"Pupper Stops to Catch Snow Before Resuming Shadow Box with Dried Apple.\" 13/10 (IG: didodoggo) https://t.co/m7isZrOBX7\n",
      "531                         Here we have Burke (pupper) and Dexter (doggo). Pupper wants to be exactly like doggo. Both 12/10 would pet at same time https://t.co/ANBpEYHaho\n",
      "575                         This is Bones. He's being haunted by another doggo of roughly the same size. 12/10 deep breaths pupper everything's fine https://t.co/55Dqe0SJNj\n",
      "889                         Meet Maggie &amp; Lila. Maggie is the doggo, Lila is the pupper. They are sisters. Both 12/10 would pet at the same time https://t.co/MYwR4DQKll\n",
      "956                                 Please stop sending it pictures that don't even have a doggo or pupper in them. Churlish af. 5/10 neat couch tho https://t.co/u2c9c7qSg8\n",
      "1063                                                                             This is just downright precious af. 12/10 for both pupper and doggo https://t.co/o5J479bZUC\n",
      "1113                                                                                              Like father (doggo), like son (pupper). Both 12/10 https://t.co/pG2inLaOda\n",
      "Name: text, dtype: object\n"
     ]
    }
   ],
   "source": [
    "with pd.option_context('display.max_colwidth', 1000):\n",
    "    print(df_clean.query(\"pupper != 'None' and (doggo != 'None' or floofer != 'None' or puppo != 'None')\").text)"
   ]
  },
  {
   "cell_type": "code",
   "execution_count": 250,
   "metadata": {},
   "outputs": [
    {
     "data": {
      "text/plain": [
       "7"
      ]
     },
     "execution_count": 250,
     "metadata": {},
     "output_type": "execute_result"
    }
   ],
   "source": [
    "df_clean.query(\"pupper != 'None' and (doggo != 'None' or floofer != 'None' or puppo != 'None')\").pupper.count()"
   ]
  },
  {
   "cell_type": "code",
   "execution_count": 251,
   "metadata": {},
   "outputs": [
    {
     "name": "stdout",
     "output_type": "stream",
     "text": [
      "191    Here's a puppo participating in the #ScienceMarch. Cleverly disguising her own doggo agenda. 13/10 would keep the planet habitable for https://t.co/cMhq16isel\n",
      "Name: text, dtype: object\n"
     ]
    }
   ],
   "source": [
    "with pd.option_context('display.max_colwidth', 1000):\n",
    "    print(df_clean.query(\"puppo != 'None' and (doggo != 'None' or pupper != 'None' or floofer != 'None')\").text)"
   ]
  },
  {
   "cell_type": "markdown",
   "metadata": {},
   "source": [
    "Define clean_10:\n",
    "\n",
    "Timestamp is not in the datetime format and should be converted to be able to use datetime functions."
   ]
  },
  {
   "cell_type": "markdown",
   "metadata": {},
   "source": [
    "Code clean_10:"
   ]
  },
  {
   "cell_type": "code",
   "execution_count": 252,
   "metadata": {},
   "outputs": [],
   "source": [
    "# date to datetime\n",
    "df_clean.timestamp = pd.to_datetime(df_clean.timestamp)"
   ]
  },
  {
   "cell_type": "markdown",
   "metadata": {},
   "source": [
    "Test clean_10:\n",
    "\n",
    "Check if the format has changed appropriately."
   ]
  },
  {
   "cell_type": "code",
   "execution_count": 253,
   "metadata": {},
   "outputs": [
    {
     "data": {
      "text/plain": [
       "dtype('<M8[ns]')"
      ]
     },
     "execution_count": 253,
     "metadata": {},
     "output_type": "execute_result"
    }
   ],
   "source": [
    "df_clean.timestamp.dtype # datetime format"
   ]
  },
  {
   "cell_type": "markdown",
   "metadata": {},
   "source": [
    "Define clean_11:\n",
    "    \n",
    "Sources are nested within HTML a-tag and should be extracted to improve readability."
   ]
  },
  {
   "cell_type": "markdown",
   "metadata": {},
   "source": [
    "Code clean_11:"
   ]
  },
  {
   "cell_type": "code",
   "execution_count": 254,
   "metadata": {},
   "outputs": [],
   "source": [
    "from bs4 import BeautifulSoup\n",
    "\n",
    "def clean_source(s):\n",
    "    soup = BeautifulSoup(s, 'lxml')\n",
    "    return soup.a.string\n",
    "\n",
    "df_clean.source = df_clean.source.apply(clean_source)"
   ]
  },
  {
   "cell_type": "markdown",
   "metadata": {},
   "source": [
    "Test clean_11:"
   ]
  },
  {
   "cell_type": "code",
   "execution_count": 255,
   "metadata": {},
   "outputs": [
    {
     "data": {
      "text/plain": [
       "2181    Twitter for iPhone\n",
       "2147    Twitter for iPhone\n",
       "1600    Twitter for iPhone\n",
       "356     Twitter for iPhone\n",
       "859     Twitter for iPhone\n",
       "Name: source, dtype: object"
      ]
     },
     "execution_count": 255,
     "metadata": {},
     "output_type": "execute_result"
    }
   ],
   "source": [
    "df_clean.source.sample(5)"
   ]
  },
  {
   "cell_type": "markdown",
   "metadata": {},
   "source": [
    "Define clean_12:\n",
    "\n",
    "Dog breed contains cryptic ML labels which will be replaced to improve readability."
   ]
  },
  {
   "cell_type": "markdown",
   "metadata": {},
   "source": [
    "Code clean_12:"
   ]
  },
  {
   "cell_type": "code",
   "execution_count": 256,
   "metadata": {},
   "outputs": [],
   "source": [
    "# Capitalise first letter and replace underscores\n",
    "df_clean.breed = df_clean.breed.str.replace('_', ' ').str.title()"
   ]
  },
  {
   "cell_type": "markdown",
   "metadata": {},
   "source": [
    "Test clean_12:"
   ]
  },
  {
   "cell_type": "code",
   "execution_count": 257,
   "metadata": {},
   "outputs": [
    {
     "data": {
      "text/plain": [
       "491               Malamute\n",
       "1951              Pekinese\n",
       "2221    Labrador Retriever\n",
       "4                   Basset\n",
       "2145            Pomeranian\n",
       "Name: breed, dtype: object"
      ]
     },
     "execution_count": 257,
     "metadata": {},
     "output_type": "execute_result"
    }
   ],
   "source": [
    "df_clean.breed.sample(5)"
   ]
  },
  {
   "cell_type": "markdown",
   "metadata": {},
   "source": [
    "Now join tweet data"
   ]
  },
  {
   "cell_type": "code",
   "execution_count": 258,
   "metadata": {
    "scrolled": true
   },
   "outputs": [
    {
     "data": {
      "text/html": [
       "<div>\n",
       "<style>\n",
       "    .dataframe thead tr:only-child th {\n",
       "        text-align: right;\n",
       "    }\n",
       "\n",
       "    .dataframe thead th {\n",
       "        text-align: left;\n",
       "    }\n",
       "\n",
       "    .dataframe tbody tr th {\n",
       "        vertical-align: top;\n",
       "    }\n",
       "</style>\n",
       "<table border=\"1\" class=\"dataframe\">\n",
       "  <thead>\n",
       "    <tr style=\"text-align: right;\">\n",
       "      <th></th>\n",
       "      <th>favourite_count</th>\n",
       "      <th>id_str</th>\n",
       "      <th>retweet_count</th>\n",
       "    </tr>\n",
       "  </thead>\n",
       "  <tbody>\n",
       "    <tr>\n",
       "      <th>0</th>\n",
       "      <td>39467</td>\n",
       "      <td>892420643555336193</td>\n",
       "      <td>8853</td>\n",
       "    </tr>\n",
       "    <tr>\n",
       "      <th>1</th>\n",
       "      <td>33819</td>\n",
       "      <td>892177421306343426</td>\n",
       "      <td>6514</td>\n",
       "    </tr>\n",
       "    <tr>\n",
       "      <th>2</th>\n",
       "      <td>25461</td>\n",
       "      <td>891815181378084864</td>\n",
       "      <td>4328</td>\n",
       "    </tr>\n",
       "    <tr>\n",
       "      <th>3</th>\n",
       "      <td>42908</td>\n",
       "      <td>891689557279858688</td>\n",
       "      <td>8964</td>\n",
       "    </tr>\n",
       "    <tr>\n",
       "      <th>4</th>\n",
       "      <td>41048</td>\n",
       "      <td>891327558926688256</td>\n",
       "      <td>9774</td>\n",
       "    </tr>\n",
       "  </tbody>\n",
       "</table>\n",
       "</div>"
      ],
      "text/plain": [
       "   favourite_count              id_str  retweet_count\n",
       "0            39467  892420643555336193           8853\n",
       "1            33819  892177421306343426           6514\n",
       "2            25461  891815181378084864           4328\n",
       "3            42908  891689557279858688           8964\n",
       "4            41048  891327558926688256           9774"
      ]
     },
     "execution_count": 258,
     "metadata": {},
     "output_type": "execute_result"
    }
   ],
   "source": [
    "df_tweet.head()"
   ]
  },
  {
   "cell_type": "code",
   "execution_count": 259,
   "metadata": {},
   "outputs": [],
   "source": [
    "df_clean = df_clean.join(df_tweet.set_index('id_str'), on='tweet_id')"
   ]
  },
  {
   "cell_type": "markdown",
   "metadata": {},
   "source": [
    "## Final clean-up:\n",
    "\n",
    "Define:\n",
    "\n",
    "There are many columns which are not used anymore and can be dropped."
   ]
  },
  {
   "cell_type": "markdown",
   "metadata": {},
   "source": [
    "Code:"
   ]
  },
  {
   "cell_type": "code",
   "execution_count": 260,
   "metadata": {
    "scrolled": true
   },
   "outputs": [
    {
     "data": {
      "text/plain": [
       "['tweet_id',\n",
       " 'in_reply_to_status_id',\n",
       " 'in_reply_to_user_id',\n",
       " 'timestamp',\n",
       " 'source',\n",
       " 'text',\n",
       " 'retweeted_status_id',\n",
       " 'retweeted_status_user_id',\n",
       " 'retweeted_status_timestamp',\n",
       " 'expanded_urls',\n",
       " 'rating_numerator',\n",
       " 'rating_denominator',\n",
       " 'name',\n",
       " 'doggo',\n",
       " 'floofer',\n",
       " 'pupper',\n",
       " 'puppo',\n",
       " 'jpg_url',\n",
       " 'img_num',\n",
       " 'p1',\n",
       " 'p1_conf',\n",
       " 'p1_dog',\n",
       " 'p2',\n",
       " 'p2_conf',\n",
       " 'p2_dog',\n",
       " 'p3',\n",
       " 'p3_conf',\n",
       " 'p3_dog',\n",
       " 'breed',\n",
       " 'stage',\n",
       " 'favourite_count',\n",
       " 'retweet_count']"
      ]
     },
     "execution_count": 260,
     "metadata": {},
     "output_type": "execute_result"
    }
   ],
   "source": [
    "list(df_clean)"
   ]
  },
  {
   "cell_type": "code",
   "execution_count": 261,
   "metadata": {},
   "outputs": [],
   "source": [
    "df_clean = df_clean[['tweet_id',\n",
    "                     'name',\n",
    "                     'breed',\n",
    "                     'stage',\n",
    "                     'rating_numerator',\n",
    "                     'rating_denominator',\n",
    "                     'favourite_count',\n",
    "                     'retweet_count',\n",
    "                     'timestamp',\n",
    "                     'source',\n",
    "                     'text',\n",
    "                     'expanded_urls',\n",
    "                     'jpg_url',\n",
    "                     'img_num']]"
   ]
  },
  {
   "cell_type": "markdown",
   "metadata": {},
   "source": [
    "Test tidy_4:"
   ]
  },
  {
   "cell_type": "code",
   "execution_count": 262,
   "metadata": {
    "scrolled": true
   },
   "outputs": [
    {
     "data": {
      "text/html": [
       "<div>\n",
       "<style>\n",
       "    .dataframe thead tr:only-child th {\n",
       "        text-align: right;\n",
       "    }\n",
       "\n",
       "    .dataframe thead th {\n",
       "        text-align: left;\n",
       "    }\n",
       "\n",
       "    .dataframe tbody tr th {\n",
       "        vertical-align: top;\n",
       "    }\n",
       "</style>\n",
       "<table border=\"1\" class=\"dataframe\">\n",
       "  <thead>\n",
       "    <tr style=\"text-align: right;\">\n",
       "      <th></th>\n",
       "      <th>tweet_id</th>\n",
       "      <th>name</th>\n",
       "      <th>breed</th>\n",
       "      <th>stage</th>\n",
       "      <th>rating_numerator</th>\n",
       "      <th>rating_denominator</th>\n",
       "      <th>favourite_count</th>\n",
       "      <th>retweet_count</th>\n",
       "      <th>timestamp</th>\n",
       "      <th>source</th>\n",
       "      <th>text</th>\n",
       "      <th>expanded_urls</th>\n",
       "      <th>jpg_url</th>\n",
       "      <th>img_num</th>\n",
       "    </tr>\n",
       "  </thead>\n",
       "  <tbody>\n",
       "    <tr>\n",
       "      <th>531</th>\n",
       "      <td>808106460588765185</td>\n",
       "      <td>None</td>\n",
       "      <td>Golden Retriever</td>\n",
       "      <td>Doggo, Pupper</td>\n",
       "      <td>12.0</td>\n",
       "      <td>10.0</td>\n",
       "      <td>9701</td>\n",
       "      <td>2525</td>\n",
       "      <td>2016-12-12 00:29:28</td>\n",
       "      <td>Twitter for iPhone</td>\n",
       "      <td>Here we have Burke (pupper) and Dexter (doggo)...</td>\n",
       "      <td>https://twitter.com/dog_rates/status/808106460...</td>\n",
       "      <td>https://pbs.twimg.com/media/Czb4iFRXgAIUMiN.jpg</td>\n",
       "      <td>1</td>\n",
       "    </tr>\n",
       "    <tr>\n",
       "      <th>1090</th>\n",
       "      <td>737678689543020544</td>\n",
       "      <td>None</td>\n",
       "      <td>Pembroke</td>\n",
       "      <td>None</td>\n",
       "      <td>11.0</td>\n",
       "      <td>10.0</td>\n",
       "      <td>5528</td>\n",
       "      <td>1509</td>\n",
       "      <td>2016-05-31 16:14:39</td>\n",
       "      <td>Twitter for iPhone</td>\n",
       "      <td>We only rate dogs. Pls stop sending in non-can...</td>\n",
       "      <td>https://twitter.com/dog_rates/status/737678689...</td>\n",
       "      <td>https://pbs.twimg.com/media/CjzC2oGWYAAyIfG.jpg</td>\n",
       "      <td>1</td>\n",
       "    </tr>\n",
       "    <tr>\n",
       "      <th>1638</th>\n",
       "      <td>684188786104872960</td>\n",
       "      <td>None</td>\n",
       "      <td>Kelpie</td>\n",
       "      <td>None</td>\n",
       "      <td>10.0</td>\n",
       "      <td>10.0</td>\n",
       "      <td>3831</td>\n",
       "      <td>1343</td>\n",
       "      <td>2016-01-05 01:44:52</td>\n",
       "      <td>Twitter for iPhone</td>\n",
       "      <td>\"Yo Boomer I'm taking a selfie, grab your stic...</td>\n",
       "      <td>https://twitter.com/dog_rates/status/684188786...</td>\n",
       "      <td>https://pbs.twimg.com/media/CX66EiJWkAAVjA-.jpg</td>\n",
       "      <td>1</td>\n",
       "    </tr>\n",
       "    <tr>\n",
       "      <th>1933</th>\n",
       "      <td>674019345211760640</td>\n",
       "      <td>Acro</td>\n",
       "      <td>Collie</td>\n",
       "      <td>None</td>\n",
       "      <td>10.0</td>\n",
       "      <td>10.0</td>\n",
       "      <td>1208</td>\n",
       "      <td>340</td>\n",
       "      <td>2015-12-08 00:15:09</td>\n",
       "      <td>Twitter for iPhone</td>\n",
       "      <td>This is Acro. You briefly see her out of the c...</td>\n",
       "      <td>https://twitter.com/dog_rates/status/674019345...</td>\n",
       "      <td>https://pbs.twimg.com/media/CVqZBO8WUAAd931.jpg</td>\n",
       "      <td>1</td>\n",
       "    </tr>\n",
       "    <tr>\n",
       "      <th>1512</th>\n",
       "      <td>691321916024623104</td>\n",
       "      <td>Molly</td>\n",
       "      <td>Rottweiler</td>\n",
       "      <td>None</td>\n",
       "      <td>11.0</td>\n",
       "      <td>10.0</td>\n",
       "      <td>2828</td>\n",
       "      <td>747</td>\n",
       "      <td>2016-01-24 18:09:23</td>\n",
       "      <td>Twitter for iPhone</td>\n",
       "      <td>This is Molly. She's a Peruvian Niddlewog. Lov...</td>\n",
       "      <td>https://twitter.com/dog_rates/status/691321916...</td>\n",
       "      <td>https://pbs.twimg.com/media/CZgRmk0UcAAxeuQ.jpg</td>\n",
       "      <td>1</td>\n",
       "    </tr>\n",
       "  </tbody>\n",
       "</table>\n",
       "</div>"
      ],
      "text/plain": [
       "                tweet_id   name             breed          stage  \\\n",
       "531   808106460588765185   None  Golden Retriever  Doggo, Pupper   \n",
       "1090  737678689543020544   None          Pembroke           None   \n",
       "1638  684188786104872960   None            Kelpie           None   \n",
       "1933  674019345211760640   Acro            Collie           None   \n",
       "1512  691321916024623104  Molly        Rottweiler           None   \n",
       "\n",
       "      rating_numerator  rating_denominator  favourite_count  retweet_count  \\\n",
       "531               12.0                10.0             9701           2525   \n",
       "1090              11.0                10.0             5528           1509   \n",
       "1638              10.0                10.0             3831           1343   \n",
       "1933              10.0                10.0             1208            340   \n",
       "1512              11.0                10.0             2828            747   \n",
       "\n",
       "               timestamp              source  \\\n",
       "531  2016-12-12 00:29:28  Twitter for iPhone   \n",
       "1090 2016-05-31 16:14:39  Twitter for iPhone   \n",
       "1638 2016-01-05 01:44:52  Twitter for iPhone   \n",
       "1933 2015-12-08 00:15:09  Twitter for iPhone   \n",
       "1512 2016-01-24 18:09:23  Twitter for iPhone   \n",
       "\n",
       "                                                   text  \\\n",
       "531   Here we have Burke (pupper) and Dexter (doggo)...   \n",
       "1090  We only rate dogs. Pls stop sending in non-can...   \n",
       "1638  \"Yo Boomer I'm taking a selfie, grab your stic...   \n",
       "1933  This is Acro. You briefly see her out of the c...   \n",
       "1512  This is Molly. She's a Peruvian Niddlewog. Lov...   \n",
       "\n",
       "                                          expanded_urls  \\\n",
       "531   https://twitter.com/dog_rates/status/808106460...   \n",
       "1090  https://twitter.com/dog_rates/status/737678689...   \n",
       "1638  https://twitter.com/dog_rates/status/684188786...   \n",
       "1933  https://twitter.com/dog_rates/status/674019345...   \n",
       "1512  https://twitter.com/dog_rates/status/691321916...   \n",
       "\n",
       "                                              jpg_url img_num  \n",
       "531   https://pbs.twimg.com/media/Czb4iFRXgAIUMiN.jpg       1  \n",
       "1090  https://pbs.twimg.com/media/CjzC2oGWYAAyIfG.jpg       1  \n",
       "1638  https://pbs.twimg.com/media/CX66EiJWkAAVjA-.jpg       1  \n",
       "1933  https://pbs.twimg.com/media/CVqZBO8WUAAd931.jpg       1  \n",
       "1512  https://pbs.twimg.com/media/CZgRmk0UcAAxeuQ.jpg       1  "
      ]
     },
     "execution_count": 262,
     "metadata": {},
     "output_type": "execute_result"
    }
   ],
   "source": [
    "df_clean.sample(5)"
   ]
  },
  {
   "cell_type": "code",
   "execution_count": 263,
   "metadata": {
    "scrolled": true
   },
   "outputs": [
    {
     "name": "stdout",
     "output_type": "stream",
     "text": [
      "<class 'pandas.core.frame.DataFrame'>\n",
      "Int64Index: 1666 entries, 1 to 2355\n",
      "Data columns (total 14 columns):\n",
      "tweet_id              1666 non-null object\n",
      "name                  1666 non-null object\n",
      "breed                 1666 non-null object\n",
      "stage                 1666 non-null object\n",
      "rating_numerator      1666 non-null float64\n",
      "rating_denominator    1666 non-null float64\n",
      "favourite_count       1666 non-null int64\n",
      "retweet_count         1666 non-null int64\n",
      "timestamp             1666 non-null datetime64[ns]\n",
      "source                1666 non-null object\n",
      "text                  1666 non-null object\n",
      "expanded_urls         1666 non-null object\n",
      "jpg_url               1666 non-null object\n",
      "img_num               1666 non-null object\n",
      "dtypes: datetime64[ns](1), float64(2), int64(2), object(9)\n",
      "memory usage: 275.2+ KB\n"
     ]
    }
   ],
   "source": [
    "df_clean.info() # no missing data visible"
   ]
  },
  {
   "cell_type": "code",
   "execution_count": 264,
   "metadata": {},
   "outputs": [
    {
     "data": {
      "text/html": [
       "<div>\n",
       "<style>\n",
       "    .dataframe thead tr:only-child th {\n",
       "        text-align: right;\n",
       "    }\n",
       "\n",
       "    .dataframe thead th {\n",
       "        text-align: left;\n",
       "    }\n",
       "\n",
       "    .dataframe tbody tr th {\n",
       "        vertical-align: top;\n",
       "    }\n",
       "</style>\n",
       "<table border=\"1\" class=\"dataframe\">\n",
       "  <thead>\n",
       "    <tr style=\"text-align: right;\">\n",
       "      <th></th>\n",
       "      <th>tweet_id</th>\n",
       "      <th>name</th>\n",
       "      <th>breed</th>\n",
       "      <th>stage</th>\n",
       "      <th>rating_numerator</th>\n",
       "      <th>rating_denominator</th>\n",
       "      <th>favourite_count</th>\n",
       "      <th>retweet_count</th>\n",
       "      <th>timestamp</th>\n",
       "      <th>source</th>\n",
       "      <th>text</th>\n",
       "      <th>expanded_urls</th>\n",
       "      <th>jpg_url</th>\n",
       "      <th>img_num</th>\n",
       "    </tr>\n",
       "  </thead>\n",
       "  <tbody>\n",
       "    <tr>\n",
       "      <th>1700</th>\n",
       "      <td>680959110691590145</td>\n",
       "      <td>Ozzie</td>\n",
       "      <td>Pug</td>\n",
       "      <td>None</td>\n",
       "      <td>9.0</td>\n",
       "      <td>10.0</td>\n",
       "      <td>4986</td>\n",
       "      <td>2243</td>\n",
       "      <td>2015-12-27 03:51:18</td>\n",
       "      <td>Twitter for iPhone</td>\n",
       "      <td>This is Ozzie. He was doing fine until he lost...</td>\n",
       "      <td>https://twitter.com/dog_rates/status/680959110...</td>\n",
       "      <td>https://pbs.twimg.com/media/CXNAsm6WsAEST9R.jpg</td>\n",
       "      <td>2</td>\n",
       "    </tr>\n",
       "    <tr>\n",
       "      <th>1961</th>\n",
       "      <td>673359818736984064</td>\n",
       "      <td>Steve</td>\n",
       "      <td>English Setter</td>\n",
       "      <td>None</td>\n",
       "      <td>8.0</td>\n",
       "      <td>10.0</td>\n",
       "      <td>1558</td>\n",
       "      <td>728</td>\n",
       "      <td>2015-12-06 04:34:25</td>\n",
       "      <td>Twitter for iPhone</td>\n",
       "      <td>This is Steve. He was just relaxing in hot tub...</td>\n",
       "      <td>https://twitter.com/dog_rates/status/673359818...</td>\n",
       "      <td>https://pbs.twimg.com/media/CVhBLohWEAAXtYl.jpg</td>\n",
       "      <td>1</td>\n",
       "    </tr>\n",
       "    <tr>\n",
       "      <th>158</th>\n",
       "      <td>861005113778896900</td>\n",
       "      <td>Burt</td>\n",
       "      <td>German Shepherd</td>\n",
       "      <td>None</td>\n",
       "      <td>12.0</td>\n",
       "      <td>10.0</td>\n",
       "      <td>17538</td>\n",
       "      <td>4119</td>\n",
       "      <td>2017-05-06 23:49:50</td>\n",
       "      <td>Twitter for iPhone</td>\n",
       "      <td>This is Burt. He thinks your thesis statement ...</td>\n",
       "      <td>https://twitter.com/dog_rates/status/861005113...</td>\n",
       "      <td>https://pbs.twimg.com/media/C_LnlF5VoAEsL1K.jpg</td>\n",
       "      <td>1</td>\n",
       "    </tr>\n",
       "    <tr>\n",
       "      <th>1847</th>\n",
       "      <td>675820929667219457</td>\n",
       "      <td>None</td>\n",
       "      <td>Basset</td>\n",
       "      <td>None</td>\n",
       "      <td>11.0</td>\n",
       "      <td>10.0</td>\n",
       "      <td>1140</td>\n",
       "      <td>260</td>\n",
       "      <td>2015-12-12 23:34:00</td>\n",
       "      <td>Twitter for iPhone</td>\n",
       "      <td>Here's a handful of sleepy puppers. All look u...</td>\n",
       "      <td>https://twitter.com/dog_rates/status/675820929...</td>\n",
       "      <td>https://pbs.twimg.com/media/CWD_jQMWEAAdYwH.jpg</td>\n",
       "      <td>1</td>\n",
       "    </tr>\n",
       "    <tr>\n",
       "      <th>1651</th>\n",
       "      <td>683498322573824003</td>\n",
       "      <td>Griffin</td>\n",
       "      <td>Airedale</td>\n",
       "      <td>None</td>\n",
       "      <td>11.0</td>\n",
       "      <td>10.0</td>\n",
       "      <td>3469</td>\n",
       "      <td>1095</td>\n",
       "      <td>2016-01-03 04:01:13</td>\n",
       "      <td>Twitter for iPhone</td>\n",
       "      <td>This is Griffin. He's desperate for both a phy...</td>\n",
       "      <td>https://twitter.com/dog_rates/status/683498322...</td>\n",
       "      <td>https://pbs.twimg.com/media/CXxGGOsUwAAr62n.jpg</td>\n",
       "      <td>1</td>\n",
       "    </tr>\n",
       "    <tr>\n",
       "      <th>1288</th>\n",
       "      <td>708349470027751425</td>\n",
       "      <td>River</td>\n",
       "      <td>Basenji</td>\n",
       "      <td>None</td>\n",
       "      <td>11.0</td>\n",
       "      <td>10.0</td>\n",
       "      <td>2568</td>\n",
       "      <td>831</td>\n",
       "      <td>2016-03-11 17:50:48</td>\n",
       "      <td>Twitter for iPhone</td>\n",
       "      <td>This is River. He's changing the trumpet game....</td>\n",
       "      <td>https://twitter.com/dog_rates/status/708349470...</td>\n",
       "      <td>https://pbs.twimg.com/media/CdSQFWOWAAApgfq.jpg</td>\n",
       "      <td>1</td>\n",
       "    </tr>\n",
       "    <tr>\n",
       "      <th>324</th>\n",
       "      <td>834086379323871233</td>\n",
       "      <td>Lipton</td>\n",
       "      <td>Labrador Retriever</td>\n",
       "      <td>None</td>\n",
       "      <td>12.0</td>\n",
       "      <td>10.0</td>\n",
       "      <td>14296</td>\n",
       "      <td>2512</td>\n",
       "      <td>2017-02-21 17:04:24</td>\n",
       "      <td>Twitter for iPhone</td>\n",
       "      <td>This is Lipton. He's a West Romanian Snuggle P...</td>\n",
       "      <td>https://twitter.com/dog_rates/status/834086379...</td>\n",
       "      <td>https://pbs.twimg.com/media/C5NFIsjWQAEI93t.jpg</td>\n",
       "      <td>1</td>\n",
       "    </tr>\n",
       "    <tr>\n",
       "      <th>953</th>\n",
       "      <td>751830394383790080</td>\n",
       "      <td>Tucker</td>\n",
       "      <td>Chow</td>\n",
       "      <td>None</td>\n",
       "      <td>12.0</td>\n",
       "      <td>10.0</td>\n",
       "      <td>6428</td>\n",
       "      <td>2227</td>\n",
       "      <td>2016-07-09 17:28:29</td>\n",
       "      <td>Twitter for iPhone</td>\n",
       "      <td>This is Tucker. He's very camera shy. 12/10 wo...</td>\n",
       "      <td>https://twitter.com/dog_rates/status/751830394...</td>\n",
       "      <td>https://pbs.twimg.com/media/Cm8JwBqW8AAFOEn.jpg</td>\n",
       "      <td>1</td>\n",
       "    </tr>\n",
       "    <tr>\n",
       "      <th>2141</th>\n",
       "      <td>669993076832759809</td>\n",
       "      <td>Zoey</td>\n",
       "      <td>Toy Poodle</td>\n",
       "      <td>None</td>\n",
       "      <td>9.0</td>\n",
       "      <td>10.0</td>\n",
       "      <td>344</td>\n",
       "      <td>92</td>\n",
       "      <td>2015-11-26 21:36:12</td>\n",
       "      <td>Twitter for iPhone</td>\n",
       "      <td>This is Zoey. Her dreams of becoming a hippo b...</td>\n",
       "      <td>https://twitter.com/dog_rates/status/669993076...</td>\n",
       "      <td>https://pbs.twimg.com/media/CUxLJO8U8AAu6Zu.jpg</td>\n",
       "      <td>1</td>\n",
       "    </tr>\n",
       "    <tr>\n",
       "      <th>1802</th>\n",
       "      <td>676949632774234114</td>\n",
       "      <td>Tyrus</td>\n",
       "      <td>Welsh Springer Spaniel</td>\n",
       "      <td>None</td>\n",
       "      <td>8.0</td>\n",
       "      <td>10.0</td>\n",
       "      <td>1413</td>\n",
       "      <td>448</td>\n",
       "      <td>2015-12-16 02:19:04</td>\n",
       "      <td>Twitter for iPhone</td>\n",
       "      <td>This is Tyrus. He's a Speckled Centennial Tico...</td>\n",
       "      <td>https://twitter.com/dog_rates/status/676949632...</td>\n",
       "      <td>https://pbs.twimg.com/media/CWUCGMtWEAAjXnS.jpg</td>\n",
       "      <td>1</td>\n",
       "    </tr>\n",
       "  </tbody>\n",
       "</table>\n",
       "</div>"
      ],
      "text/plain": [
       "                tweet_id     name                   breed stage  \\\n",
       "1700  680959110691590145    Ozzie                     Pug  None   \n",
       "1961  673359818736984064    Steve          English Setter  None   \n",
       "158   861005113778896900     Burt         German Shepherd  None   \n",
       "1847  675820929667219457     None                  Basset  None   \n",
       "1651  683498322573824003  Griffin                Airedale  None   \n",
       "1288  708349470027751425    River                 Basenji  None   \n",
       "324   834086379323871233   Lipton      Labrador Retriever  None   \n",
       "953   751830394383790080   Tucker                    Chow  None   \n",
       "2141  669993076832759809     Zoey              Toy Poodle  None   \n",
       "1802  676949632774234114    Tyrus  Welsh Springer Spaniel  None   \n",
       "\n",
       "      rating_numerator  rating_denominator  favourite_count  retweet_count  \\\n",
       "1700               9.0                10.0             4986           2243   \n",
       "1961               8.0                10.0             1558            728   \n",
       "158               12.0                10.0            17538           4119   \n",
       "1847              11.0                10.0             1140            260   \n",
       "1651              11.0                10.0             3469           1095   \n",
       "1288              11.0                10.0             2568            831   \n",
       "324               12.0                10.0            14296           2512   \n",
       "953               12.0                10.0             6428           2227   \n",
       "2141               9.0                10.0              344             92   \n",
       "1802               8.0                10.0             1413            448   \n",
       "\n",
       "               timestamp              source  \\\n",
       "1700 2015-12-27 03:51:18  Twitter for iPhone   \n",
       "1961 2015-12-06 04:34:25  Twitter for iPhone   \n",
       "158  2017-05-06 23:49:50  Twitter for iPhone   \n",
       "1847 2015-12-12 23:34:00  Twitter for iPhone   \n",
       "1651 2016-01-03 04:01:13  Twitter for iPhone   \n",
       "1288 2016-03-11 17:50:48  Twitter for iPhone   \n",
       "324  2017-02-21 17:04:24  Twitter for iPhone   \n",
       "953  2016-07-09 17:28:29  Twitter for iPhone   \n",
       "2141 2015-11-26 21:36:12  Twitter for iPhone   \n",
       "1802 2015-12-16 02:19:04  Twitter for iPhone   \n",
       "\n",
       "                                                   text  \\\n",
       "1700  This is Ozzie. He was doing fine until he lost...   \n",
       "1961  This is Steve. He was just relaxing in hot tub...   \n",
       "158   This is Burt. He thinks your thesis statement ...   \n",
       "1847  Here's a handful of sleepy puppers. All look u...   \n",
       "1651  This is Griffin. He's desperate for both a phy...   \n",
       "1288  This is River. He's changing the trumpet game....   \n",
       "324   This is Lipton. He's a West Romanian Snuggle P...   \n",
       "953   This is Tucker. He's very camera shy. 12/10 wo...   \n",
       "2141  This is Zoey. Her dreams of becoming a hippo b...   \n",
       "1802  This is Tyrus. He's a Speckled Centennial Tico...   \n",
       "\n",
       "                                          expanded_urls  \\\n",
       "1700  https://twitter.com/dog_rates/status/680959110...   \n",
       "1961  https://twitter.com/dog_rates/status/673359818...   \n",
       "158   https://twitter.com/dog_rates/status/861005113...   \n",
       "1847  https://twitter.com/dog_rates/status/675820929...   \n",
       "1651  https://twitter.com/dog_rates/status/683498322...   \n",
       "1288  https://twitter.com/dog_rates/status/708349470...   \n",
       "324   https://twitter.com/dog_rates/status/834086379...   \n",
       "953   https://twitter.com/dog_rates/status/751830394...   \n",
       "2141  https://twitter.com/dog_rates/status/669993076...   \n",
       "1802  https://twitter.com/dog_rates/status/676949632...   \n",
       "\n",
       "                                              jpg_url img_num  \n",
       "1700  https://pbs.twimg.com/media/CXNAsm6WsAEST9R.jpg       2  \n",
       "1961  https://pbs.twimg.com/media/CVhBLohWEAAXtYl.jpg       1  \n",
       "158   https://pbs.twimg.com/media/C_LnlF5VoAEsL1K.jpg       1  \n",
       "1847  https://pbs.twimg.com/media/CWD_jQMWEAAdYwH.jpg       1  \n",
       "1651  https://pbs.twimg.com/media/CXxGGOsUwAAr62n.jpg       1  \n",
       "1288  https://pbs.twimg.com/media/CdSQFWOWAAApgfq.jpg       1  \n",
       "324   https://pbs.twimg.com/media/C5NFIsjWQAEI93t.jpg       1  \n",
       "953   https://pbs.twimg.com/media/Cm8JwBqW8AAFOEn.jpg       1  \n",
       "2141  https://pbs.twimg.com/media/CUxLJO8U8AAu6Zu.jpg       1  \n",
       "1802  https://pbs.twimg.com/media/CWUCGMtWEAAjXnS.jpg       1  "
      ]
     },
     "execution_count": 264,
     "metadata": {},
     "output_type": "execute_result"
    }
   ],
   "source": [
    "df_clean.sample(10)"
   ]
  },
  {
   "cell_type": "markdown",
   "metadata": {},
   "source": [
    "## Extension: Get more Dog names using NLP\n",
    "Source: https://medium.com/@dudsdu/named-entity-recognition-for-unstructured-documents-c325d47c7e3a"
   ]
  },
  {
   "cell_type": "code",
   "execution_count": 265,
   "metadata": {},
   "outputs": [
    {
     "name": "stdout",
     "output_type": "stream",
     "text": [
      "[nltk_data] Downloading package punkt to /root/nltk_data...\n",
      "[nltk_data]   Package punkt is already up-to-date!\n"
     ]
    },
    {
     "data": {
      "text/plain": [
       "True"
      ]
     },
     "execution_count": 265,
     "metadata": {},
     "output_type": "execute_result"
    }
   ],
   "source": [
    "import pickle\n",
    "import nltk\n",
    "from nltk import sent_tokenize\n",
    "from nltk import word_tokenize\n",
    "from nltk.tag import StanfordNERTagger\n",
    "from itertools import groupby\n",
    "\n",
    "nltk.download('punkt')"
   ]
  },
  {
   "cell_type": "code",
   "execution_count": 266,
   "metadata": {},
   "outputs": [],
   "source": [
    "texts = list(df_clean.text)\n",
    "names = list(df_clean.name)\n",
    "recog_names = names.copy()"
   ]
  },
  {
   "cell_type": "code",
   "execution_count": 267,
   "metadata": {},
   "outputs": [
    {
     "name": "stderr",
     "output_type": "stream",
     "text": [
      "/opt/conda/lib/python3.6/site-packages/nltk/tag/stanford.py:183: DeprecationWarning: \n",
      "The StanfordTokenizer will be deprecated in version 3.2.5.\n",
      "Please use \u001b[91mnltk.tag.corenlp.CoreNLPPOSTagger\u001b[0m or \u001b[91mnltk.tag.corenlp.CoreNLPNERTagger\u001b[0m instead.\n",
      "  super(StanfordNERTagger, self).__init__(*args, **kwargs)\n"
     ]
    }
   ],
   "source": [
    "sn_3class = StanfordNERTagger('./english.all.3class.distsim.crf.ser.gz',\n",
    "                       path_to_jar='./stanford-ner.jar')"
   ]
  },
  {
   "cell_type": "code",
   "execution_count": 268,
   "metadata": {},
   "outputs": [],
   "source": [
    "first_sentences = [sent_tokenize(t)[0] for t in texts] # Take first sentence only under the assumption that this is where you introduce the dog (more sentences take quite a long time for processing) \n",
    "tokenized_sentences = [word_tokenize(s) for s in first_sentences]"
   ]
  },
  {
   "cell_type": "code",
   "execution_count": 269,
   "metadata": {},
   "outputs": [],
   "source": [
    "# get pre-computed pickle file as tagging takes a long time!\n",
    "try:    \n",
    "    with open('annot_sentences.pkl', 'rb') as f:\n",
    "        annot_sentences = pickle.load(f)\n",
    "except:\n",
    "    annot_sentences = [sn_3class.tag(t) for t in tokenized_sentences]\n",
    "    with open('annot_sentences.pkl', 'wb') as f:\n",
    "        pickle.dump(annot_sentences, f)"
   ]
  },
  {
   "cell_type": "code",
   "execution_count": 270,
   "metadata": {},
   "outputs": [
    {
     "name": "stdout",
     "output_type": "stream",
     "text": [
      "None Burke\n",
      "None Kathleen\n",
      "None Loki\n",
      "None Max\n",
      "None Teagan\n",
      "None Hooman\n",
      "None Duuun\n",
      "None Cletus\n",
      "None Donald\n",
      "None Janet\n",
      "None Martha\n",
      "None Yo\n",
      "None Cindy\n",
      "None Wylie\n",
      "None Kip\n",
      "None Kony\n",
      "None Rand\n",
      "None Jacob\n",
      "None Rufus\n",
      "None Alfredo\n",
      "None Pancho\n",
      "None Leroi\n",
      "None Berta\n",
      "None Chuk\n",
      "None Bo\n",
      "None Alfonso\n",
      "None Cheryl\n",
      "None Jessiga\n",
      "None George\n",
      "None Klint\n",
      "None Wahoo\n",
      "None Dave\n",
      "None Johm\n",
      "None Cumberbatch\n",
      "None Episcopalian\n",
      "None Paul\n"
     ]
    }
   ],
   "source": [
    "for i in range(0, len(annot_sentences)): # or annot_sentences\n",
    "    # Only if we didnt find out any name yet\n",
    "    if names[i] == 'None':\n",
    "        # Try getting a name from annotations\n",
    "        for annot_token in annot_sentences[i]:\n",
    "            if annot_token[1] == 'PERSON':\n",
    "                print(names[i], annot_token[0])\n",
    "                recog_names[i] = annot_token[0]\n",
    "                break"
   ]
  },
  {
   "cell_type": "code",
   "execution_count": 271,
   "metadata": {},
   "outputs": [
    {
     "data": {
      "text/plain": [
       "1666"
      ]
     },
     "execution_count": 271,
     "metadata": {},
     "output_type": "execute_result"
    }
   ],
   "source": [
    "len(recog_names)"
   ]
  },
  {
   "cell_type": "code",
   "execution_count": 272,
   "metadata": {},
   "outputs": [],
   "source": [
    "df_clean.name = pd.Series(recog_names)"
   ]
  },
  {
   "cell_type": "code",
   "execution_count": 273,
   "metadata": {},
   "outputs": [
    {
     "name": "stdout",
     "output_type": "stream",
     "text": [
      "<class 'pandas.core.frame.DataFrame'>\n",
      "Int64Index: 1666 entries, 1 to 2355\n",
      "Data columns (total 14 columns):\n",
      "tweet_id              1666 non-null object\n",
      "name                  1158 non-null object\n",
      "breed                 1666 non-null object\n",
      "stage                 1666 non-null object\n",
      "rating_numerator      1666 non-null float64\n",
      "rating_denominator    1666 non-null float64\n",
      "favourite_count       1666 non-null int64\n",
      "retweet_count         1666 non-null int64\n",
      "timestamp             1666 non-null datetime64[ns]\n",
      "source                1666 non-null object\n",
      "text                  1666 non-null object\n",
      "expanded_urls         1666 non-null object\n",
      "jpg_url               1666 non-null object\n",
      "img_num               1666 non-null object\n",
      "dtypes: datetime64[ns](1), float64(2), int64(2), object(9)\n",
      "memory usage: 275.2+ KB\n"
     ]
    }
   ],
   "source": [
    "df_clean.info()"
   ]
  },
  {
   "cell_type": "code",
   "execution_count": 274,
   "metadata": {},
   "outputs": [
    {
     "data": {
      "text/html": [
       "<div>\n",
       "<style>\n",
       "    .dataframe thead tr:only-child th {\n",
       "        text-align: right;\n",
       "    }\n",
       "\n",
       "    .dataframe thead th {\n",
       "        text-align: left;\n",
       "    }\n",
       "\n",
       "    .dataframe tbody tr th {\n",
       "        vertical-align: top;\n",
       "    }\n",
       "</style>\n",
       "<table border=\"1\" class=\"dataframe\">\n",
       "  <thead>\n",
       "    <tr style=\"text-align: right;\">\n",
       "      <th></th>\n",
       "      <th>tweet_id</th>\n",
       "      <th>name</th>\n",
       "      <th>breed</th>\n",
       "      <th>stage</th>\n",
       "      <th>rating_numerator</th>\n",
       "      <th>rating_denominator</th>\n",
       "      <th>favourite_count</th>\n",
       "      <th>retweet_count</th>\n",
       "      <th>timestamp</th>\n",
       "      <th>source</th>\n",
       "      <th>text</th>\n",
       "      <th>expanded_urls</th>\n",
       "      <th>jpg_url</th>\n",
       "      <th>img_num</th>\n",
       "    </tr>\n",
       "  </thead>\n",
       "  <tbody>\n",
       "    <tr>\n",
       "      <th>1</th>\n",
       "      <td>892177421306343426</td>\n",
       "      <td>Archie</td>\n",
       "      <td>Chihuahua</td>\n",
       "      <td>None</td>\n",
       "      <td>13.0</td>\n",
       "      <td>10.0</td>\n",
       "      <td>33819</td>\n",
       "      <td>6514</td>\n",
       "      <td>2017-08-01 00:17:27</td>\n",
       "      <td>Twitter for iPhone</td>\n",
       "      <td>This is Tilly. She's just checking pup on you....</td>\n",
       "      <td>https://twitter.com/dog_rates/status/892177421...</td>\n",
       "      <td>https://pbs.twimg.com/media/DGGmoV4XsAAUL6n.jpg</td>\n",
       "      <td>1</td>\n",
       "    </tr>\n",
       "    <tr>\n",
       "      <th>2</th>\n",
       "      <td>891815181378084864</td>\n",
       "      <td>Darla</td>\n",
       "      <td>Chihuahua</td>\n",
       "      <td>None</td>\n",
       "      <td>12.0</td>\n",
       "      <td>10.0</td>\n",
       "      <td>25461</td>\n",
       "      <td>4328</td>\n",
       "      <td>2017-07-31 00:18:03</td>\n",
       "      <td>Twitter for iPhone</td>\n",
       "      <td>This is Archie. He is a rare Norwegian Pouncin...</td>\n",
       "      <td>https://twitter.com/dog_rates/status/891815181...</td>\n",
       "      <td>https://pbs.twimg.com/media/DGBdLU1WsAANxJ9.jpg</td>\n",
       "      <td>1</td>\n",
       "    </tr>\n",
       "    <tr>\n",
       "      <th>3</th>\n",
       "      <td>891689557279858688</td>\n",
       "      <td>Franklin</td>\n",
       "      <td>Labrador Retriever</td>\n",
       "      <td>None</td>\n",
       "      <td>13.0</td>\n",
       "      <td>10.0</td>\n",
       "      <td>42908</td>\n",
       "      <td>8964</td>\n",
       "      <td>2017-07-30 15:58:51</td>\n",
       "      <td>Twitter for iPhone</td>\n",
       "      <td>This is Darla. She commenced a snooze mid meal...</td>\n",
       "      <td>https://twitter.com/dog_rates/status/891689557...</td>\n",
       "      <td>https://pbs.twimg.com/media/DF_q7IAWsAEuuN8.jpg</td>\n",
       "      <td>1</td>\n",
       "    </tr>\n",
       "    <tr>\n",
       "      <th>4</th>\n",
       "      <td>891327558926688256</td>\n",
       "      <td>None</td>\n",
       "      <td>Basset</td>\n",
       "      <td>None</td>\n",
       "      <td>12.0</td>\n",
       "      <td>10.0</td>\n",
       "      <td>41048</td>\n",
       "      <td>9774</td>\n",
       "      <td>2017-07-29 16:00:24</td>\n",
       "      <td>Twitter for iPhone</td>\n",
       "      <td>This is Franklin. He would like you to stop ca...</td>\n",
       "      <td>https://twitter.com/dog_rates/status/891327558...</td>\n",
       "      <td>https://pbs.twimg.com/media/DF6hr6BUMAAzZgT.jpg</td>\n",
       "      <td>2</td>\n",
       "    </tr>\n",
       "    <tr>\n",
       "      <th>5</th>\n",
       "      <td>891087950875897856</td>\n",
       "      <td>Jax</td>\n",
       "      <td>Chesapeake Bay Retriever</td>\n",
       "      <td>None</td>\n",
       "      <td>13.0</td>\n",
       "      <td>10.0</td>\n",
       "      <td>20562</td>\n",
       "      <td>3261</td>\n",
       "      <td>2017-07-29 00:08:17</td>\n",
       "      <td>Twitter for iPhone</td>\n",
       "      <td>Here we have a majestic great white breaching ...</td>\n",
       "      <td>https://twitter.com/dog_rates/status/891087950...</td>\n",
       "      <td>https://pbs.twimg.com/media/DF3HwyEWsAABqE6.jpg</td>\n",
       "      <td>1</td>\n",
       "    </tr>\n",
       "  </tbody>\n",
       "</table>\n",
       "</div>"
      ],
      "text/plain": [
       "             tweet_id      name                     breed stage  \\\n",
       "1  892177421306343426    Archie                 Chihuahua  None   \n",
       "2  891815181378084864     Darla                 Chihuahua  None   \n",
       "3  891689557279858688  Franklin        Labrador Retriever  None   \n",
       "4  891327558926688256      None                    Basset  None   \n",
       "5  891087950875897856       Jax  Chesapeake Bay Retriever  None   \n",
       "\n",
       "   rating_numerator  rating_denominator  favourite_count  retweet_count  \\\n",
       "1              13.0                10.0            33819           6514   \n",
       "2              12.0                10.0            25461           4328   \n",
       "3              13.0                10.0            42908           8964   \n",
       "4              12.0                10.0            41048           9774   \n",
       "5              13.0                10.0            20562           3261   \n",
       "\n",
       "            timestamp              source  \\\n",
       "1 2017-08-01 00:17:27  Twitter for iPhone   \n",
       "2 2017-07-31 00:18:03  Twitter for iPhone   \n",
       "3 2017-07-30 15:58:51  Twitter for iPhone   \n",
       "4 2017-07-29 16:00:24  Twitter for iPhone   \n",
       "5 2017-07-29 00:08:17  Twitter for iPhone   \n",
       "\n",
       "                                                text  \\\n",
       "1  This is Tilly. She's just checking pup on you....   \n",
       "2  This is Archie. He is a rare Norwegian Pouncin...   \n",
       "3  This is Darla. She commenced a snooze mid meal...   \n",
       "4  This is Franklin. He would like you to stop ca...   \n",
       "5  Here we have a majestic great white breaching ...   \n",
       "\n",
       "                                       expanded_urls  \\\n",
       "1  https://twitter.com/dog_rates/status/892177421...   \n",
       "2  https://twitter.com/dog_rates/status/891815181...   \n",
       "3  https://twitter.com/dog_rates/status/891689557...   \n",
       "4  https://twitter.com/dog_rates/status/891327558...   \n",
       "5  https://twitter.com/dog_rates/status/891087950...   \n",
       "\n",
       "                                           jpg_url img_num  \n",
       "1  https://pbs.twimg.com/media/DGGmoV4XsAAUL6n.jpg       1  \n",
       "2  https://pbs.twimg.com/media/DGBdLU1WsAANxJ9.jpg       1  \n",
       "3  https://pbs.twimg.com/media/DF_q7IAWsAEuuN8.jpg       1  \n",
       "4  https://pbs.twimg.com/media/DF6hr6BUMAAzZgT.jpg       2  \n",
       "5  https://pbs.twimg.com/media/DF3HwyEWsAABqE6.jpg       1  "
      ]
     },
     "execution_count": 274,
     "metadata": {},
     "output_type": "execute_result"
    }
   ],
   "source": [
    "df_clean.head()"
   ]
  },
  {
   "cell_type": "markdown",
   "metadata": {},
   "source": [
    "## Write DF"
   ]
  },
  {
   "cell_type": "code",
   "execution_count": 275,
   "metadata": {},
   "outputs": [],
   "source": [
    "df_clean.to_csv('twitter_archive_master.csv', index=False)"
   ]
  },
  {
   "cell_type": "markdown",
   "metadata": {},
   "source": [
    "# Analysis"
   ]
  },
  {
   "cell_type": "markdown",
   "metadata": {},
   "source": [
    "Analysis includes following steps\n",
    "\n",
    "- histogram of ratings\n",
    "- top names\n",
    "- top breed\n",
    "- hist retweets\n",
    "- top retweets\n",
    "- hist likes\n",
    "- top likes\n",
    "\n",
    "- corr rating likes\n",
    "- corr rating retweet\n",
    "- corr retweet likes\n",
    "\n"
   ]
  },
  {
   "cell_type": "code",
   "execution_count": 276,
   "metadata": {},
   "outputs": [],
   "source": [
    "import matplotlib.pyplot as plt\n",
    "import seaborn as sns\n",
    "sns.set(style=\"darkgrid\")\n",
    "\n",
    "fig_size = plt.rcParams[\"figure.figsize\"]\n",
    "fig_size[0] = 12\n",
    "fig_size[1] = 9\n",
    "plt.rcParams[\"figure.figsize\"] = fig_size"
   ]
  },
  {
   "cell_type": "code",
   "execution_count": 277,
   "metadata": {},
   "outputs": [],
   "source": [
    "df_clean['rating_ratio'] = df_clean.rating_numerator / df_clean.rating_denominator"
   ]
  },
  {
   "cell_type": "code",
   "execution_count": 278,
   "metadata": {},
   "outputs": [
    {
     "data": {
      "image/png": "[encoded data removed]",
      "text/plain": [
       "<matplotlib.figure.Figure at 0x7fc76393f358>"
      ]
     },
     "metadata": {},
     "output_type": "display_data"
    }
   ],
   "source": [
    "# Rating Ratio\n",
    "x = df_clean.rating_ratio\n",
    "fig = plt.figure()\n",
    "ax = fig.add_subplot(111)\n",
    "ax.hist(x,bins=16, range=(0,1.6), label='Rating Ratio', edgecolor='white')\n",
    "ax.legend();"
   ]
  },
  {
   "cell_type": "code",
   "execution_count": 279,
   "metadata": {},
   "outputs": [
    {
     "data": {
      "image/png": "[encoded data removed]",
      "text/plain": [
       "<matplotlib.figure.Figure at 0x7fc7639a80f0>"
      ]
     },
     "metadata": {},
     "output_type": "display_data"
    }
   ],
   "source": [
    "plt.hist(df_clean.favourite_count, bins=20, log=True, label='Favourite Count', edgecolor='white')\n",
    "plt.legend();"
   ]
  },
  {
   "cell_type": "code",
   "execution_count": 280,
   "metadata": {},
   "outputs": [
    {
     "data": {
      "image/png": "[encoded data removed]",
      "text/plain": [
       "<matplotlib.figure.Figure at 0x7fc75d3cec18>"
      ]
     },
     "metadata": {},
     "output_type": "display_data"
    }
   ],
   "source": [
    "plt.hist(df_clean.retweet_count, log=True, label='Retweet Count', edgecolor='white')\n",
    "plt.legend();"
   ]
  },
  {
   "cell_type": "code",
   "execution_count": 281,
   "metadata": {},
   "outputs": [
    {
     "data": {
      "text/plain": [
       "None       310\n",
       "Charlie     10\n",
       "Cooper       8\n",
       "Tucker       7\n",
       "Winston      7\n",
       "Oliver       6\n",
       "Penny        6\n",
       "Sadie        6\n",
       "Jax          5\n",
       "Rusty        5\n",
       "Name: name, dtype: int64"
      ]
     },
     "execution_count": 281,
     "metadata": {},
     "output_type": "execute_result"
    }
   ],
   "source": [
    "df_clean.name.value_counts().head(10)"
   ]
  },
  {
   "cell_type": "code",
   "execution_count": 282,
   "metadata": {},
   "outputs": [
    {
     "data": {
      "text/plain": [
       "Golden Retriever      156\n",
       "Labrador Retriever    106\n",
       "Pembroke               94\n",
       "Chihuahua              90\n",
       "Pug                    62\n",
       "Toy Poodle             50\n",
       "Chow                   48\n",
       "Samoyed                42\n",
       "Pomeranian             41\n",
       "Malamute               33\n",
       "Name: breed, dtype: int64"
      ]
     },
     "execution_count": 282,
     "metadata": {},
     "output_type": "execute_result"
    }
   ],
   "source": [
    "df_clean.breed.value_counts().head(10)"
   ]
  },
  {
   "cell_type": "code",
   "execution_count": 283,
   "metadata": {},
   "outputs": [
    {
     "data": {
      "text/plain": [
       "Twitter for iPhone    1635\n",
       "Twitter Web Client      22\n",
       "TweetDeck                9\n",
       "Name: source, dtype: int64"
      ]
     },
     "execution_count": 283,
     "metadata": {},
     "output_type": "execute_result"
    }
   ],
   "source": [
    "df_clean.source.value_counts()"
   ]
  },
  {
   "cell_type": "code",
   "execution_count": 284,
   "metadata": {},
   "outputs": [
    {
     "data": {
      "image/png": "[encoded data removed]",
      "text/plain": [
       "<matplotlib.figure.Figure at 0x7fc75d212630>"
      ]
     },
     "metadata": {},
     "output_type": "display_data"
    }
   ],
   "source": [
    "df_clean[['breed', 'favourite_count']].groupby(['breed']).sum().sort_values('favourite_count', ascending=False).head(10).sort_values('favourite_count', ascending=True).plot(kind='barh', title='Total Favourite Count per Breed');"
   ]
  },
  {
   "cell_type": "code",
   "execution_count": 285,
   "metadata": {},
   "outputs": [
    {
     "data": {
      "image/png": "[encoded data removed]",
      "text/plain": [
       "<matplotlib.figure.Figure at 0x7fc75d204470>"
      ]
     },
     "metadata": {},
     "output_type": "display_data"
    }
   ],
   "source": [
    "# most popular (by retweet count)\n",
    "df_clean[['breed', 'retweet_count']].groupby(['breed']).sum().sort_values('retweet_count', ascending=False).head(10).sort_values('retweet_count', ascending=True).plot(kind='barh', title='Total Retweet Count per Breed');"
   ]
  },
  {
   "cell_type": "code",
   "execution_count": 286,
   "metadata": {},
   "outputs": [
    {
     "data": {
      "image/png": "[encoded data removed]",
      "text/plain": [
       "<matplotlib.figure.Figure at 0x7fc75d1105f8>"
      ]
     },
     "metadata": {},
     "output_type": "display_data"
    }
   ],
   "source": [
    "df_clean[['breed', 'favourite_count']].groupby(['breed']).mean().sort_values('favourite_count', ascending=False).head(10).sort_values('favourite_count', ascending=True).plot(kind='barh', title='Mean Favourite Count per Breed');"
   ]
  },
  {
   "cell_type": "code",
   "execution_count": 287,
   "metadata": {},
   "outputs": [
    {
     "data": {
      "image/png": "[encoded data removed]",
      "text/plain": [
       "<matplotlib.figure.Figure at 0x7fc75d09a908>"
      ]
     },
     "metadata": {},
     "output_type": "display_data"
    }
   ],
   "source": [
    "df_clean[['breed', 'retweet_count']].groupby(['breed']).mean().sort_values('retweet_count', ascending=False).head(10).sort_values('retweet_count', ascending=True).plot(kind='barh', title='Mean Retweet Count per Breed');"
   ]
  },
  {
   "cell_type": "code",
   "execution_count": 288,
   "metadata": {},
   "outputs": [
    {
     "data": {
      "image/png": "[encoded data removed]",
      "text/plain": [
       "<matplotlib.figure.Figure at 0x7fc75d003588>"
      ]
     },
     "metadata": {},
     "output_type": "display_data"
    }
   ],
   "source": [
    "plt.scatter(x=df_clean.rating_ratio, y=df_clean.favourite_count, alpha=.1, s=128)\n",
    "plt.axis([0.0,1.5, 0.0,100000])\n",
    "ax = plt.gca()\n",
    "ax.set_autoscale_on(False)\n",
    "ax.set(title = 'Rating Ratio vs. Favourite Count',\n",
    "       ylabel='Favourite Count',\n",
    "       xlabel='Rating Ratio');"
   ]
  },
  {
   "cell_type": "code",
   "execution_count": 289,
   "metadata": {},
   "outputs": [
    {
     "data": {
      "image/png": "[encoded data removed]",
      "text/plain": [
       "<matplotlib.figure.Figure at 0x7fc75cf3cdd8>"
      ]
     },
     "metadata": {},
     "output_type": "display_data"
    }
   ],
   "source": [
    "plt.scatter(x=df_clean.rating_ratio, y=df_clean.retweet_count, alpha=.1, s=128)\n",
    "plt.axis([0.0,1.5, 0.0,100000])\n",
    "ax = plt.gca()\n",
    "ax.set_autoscale_on(False)\n",
    "ax.set(title = 'Rating Ratio vs. Retweet Count',\n",
    "       ylabel='Retweet Count',\n",
    "       xlabel='Rating Ratio');"
   ]
  },
  {
   "cell_type": "code",
   "execution_count": 290,
   "metadata": {},
   "outputs": [
    {
     "data": {
      "image/png": "[encoded data removed]",
      "text/plain": [
       "<matplotlib.figure.Figure at 0x7fc75cf185f8>"
      ]
     },
     "metadata": {},
     "output_type": "display_data"
    }
   ],
   "source": [
    "plt.scatter(x=df_clean.favourite_count, y=df_clean.retweet_count, alpha=.1)\n",
    "plt.axis([0.0,40000, 0.0,30000])\n",
    "ax = plt.gca()\n",
    "ax.set_autoscale_on(False)\n",
    "ax.set(title = 'Favourite Count vs. Retweet Count',\n",
    "       ylabel='Retweet Count',\n",
    "       xlabel='Favourite Count');"
   ]
  },
  {
   "cell_type": "code",
   "execution_count": 291,
   "metadata": {},
   "outputs": [
    {
     "data": {
      "image/png": "[encoded data removed]",
      "text/plain": [
       "<matplotlib.figure.Figure at 0x7fc75ce762b0>"
      ]
     },
     "metadata": {},
     "output_type": "display_data"
    }
   ],
   "source": [
    "x = df_clean.query(\"rating_ratio < 3 & rating_ratio > 0\").favourite_count\n",
    "y = df_clean.query(\"rating_ratio < 3 & rating_ratio > 0\").retweet_count\n",
    "c = df_clean.query(\"rating_ratio < 3 & rating_ratio > 0\").rating_ratio\n",
    "s = 32\n",
    "\n",
    "fig = plt.figure()\n",
    "ax = fig.add_subplot(111)\n",
    "sctr = ax.scatter(x, y, c=c, s=s, alpha=.4, cmap=plt.cm.get_cmap('RdBu'))\n",
    "ax.set_yscale('log')\n",
    "ax.set_xscale('log')\n",
    "plt.colorbar(sctr, ax=ax)\n",
    "ax.set(title = 'Favourite Count vs. Retweet Count vs. Rating Ratio',\n",
    "       ylabel='Retweet Count',\n",
    "       xlabel='Favourite Count');"
   ]
  },
  {
   "cell_type": "code",
   "execution_count": 292,
   "metadata": {},
   "outputs": [
    {
     "data": {
      "text/html": [
       "<div>\n",
       "<style>\n",
       "    .dataframe thead tr:only-child th {\n",
       "        text-align: right;\n",
       "    }\n",
       "\n",
       "    .dataframe thead th {\n",
       "        text-align: left;\n",
       "    }\n",
       "\n",
       "    .dataframe tbody tr th {\n",
       "        vertical-align: top;\n",
       "    }\n",
       "</style>\n",
       "<table border=\"1\" class=\"dataframe\">\n",
       "  <thead>\n",
       "    <tr style=\"text-align: right;\">\n",
       "      <th></th>\n",
       "      <th>retweet_count</th>\n",
       "      <th>favourite_count</th>\n",
       "      <th>rating_ratio</th>\n",
       "    </tr>\n",
       "  </thead>\n",
       "  <tbody>\n",
       "    <tr>\n",
       "      <th>retweet_count</th>\n",
       "      <td>1.000000</td>\n",
       "      <td>0.913284</td>\n",
       "      <td>0.300868</td>\n",
       "    </tr>\n",
       "    <tr>\n",
       "      <th>favourite_count</th>\n",
       "      <td>0.913284</td>\n",
       "      <td>1.000000</td>\n",
       "      <td>0.406210</td>\n",
       "    </tr>\n",
       "    <tr>\n",
       "      <th>rating_ratio</th>\n",
       "      <td>0.300868</td>\n",
       "      <td>0.406210</td>\n",
       "      <td>1.000000</td>\n",
       "    </tr>\n",
       "  </tbody>\n",
       "</table>\n",
       "</div>"
      ],
      "text/plain": [
       "                 retweet_count  favourite_count  rating_ratio\n",
       "retweet_count         1.000000         0.913284      0.300868\n",
       "favourite_count       0.913284         1.000000      0.406210\n",
       "rating_ratio          0.300868         0.406210      1.000000"
      ]
     },
     "execution_count": 292,
     "metadata": {},
     "output_type": "execute_result"
    }
   ],
   "source": [
    "df_clean[['retweet_count', 'favourite_count', 'rating_ratio']].corr()"
   ]
  },
  {
   "cell_type": "code",
   "execution_count": 293,
   "metadata": {},
   "outputs": [
    {
     "data": {
      "text/html": [
       "<div>\n",
       "<style>\n",
       "    .dataframe thead tr:only-child th {\n",
       "        text-align: right;\n",
       "    }\n",
       "\n",
       "    .dataframe thead th {\n",
       "        text-align: left;\n",
       "    }\n",
       "\n",
       "    .dataframe tbody tr th {\n",
       "        vertical-align: top;\n",
       "    }\n",
       "</style>\n",
       "<table border=\"1\" class=\"dataframe\">\n",
       "  <thead>\n",
       "    <tr style=\"text-align: right;\">\n",
       "      <th></th>\n",
       "      <th>tweet_id</th>\n",
       "      <th>name</th>\n",
       "      <th>breed</th>\n",
       "      <th>stage</th>\n",
       "      <th>rating_numerator</th>\n",
       "      <th>rating_denominator</th>\n",
       "      <th>favourite_count</th>\n",
       "      <th>retweet_count</th>\n",
       "      <th>timestamp</th>\n",
       "      <th>source</th>\n",
       "      <th>text</th>\n",
       "      <th>expanded_urls</th>\n",
       "      <th>jpg_url</th>\n",
       "      <th>img_num</th>\n",
       "      <th>rating_ratio</th>\n",
       "    </tr>\n",
       "  </thead>\n",
       "  <tbody>\n",
       "    <tr>\n",
       "      <th>1039</th>\n",
       "      <td>744234799360020481</td>\n",
       "      <td>None</td>\n",
       "      <td>Labrador Retriever</td>\n",
       "      <td>Doggo</td>\n",
       "      <td>13.0</td>\n",
       "      <td>10.0</td>\n",
       "      <td>131075</td>\n",
       "      <td>79515</td>\n",
       "      <td>2016-06-18 18:26:18</td>\n",
       "      <td>Twitter for iPhone</td>\n",
       "      <td>Here's a doggo realizing you can stand in a po...</td>\n",
       "      <td>https://twitter.com/dog_rates/status/744234799...</td>\n",
       "      <td>https://pbs.twimg.com/ext_tw_video_thumb/74423...</td>\n",
       "      <td>1</td>\n",
       "      <td>1.3</td>\n",
       "    </tr>\n",
       "  </tbody>\n",
       "</table>\n",
       "</div>"
      ],
      "text/plain": [
       "                tweet_id  name               breed  stage  rating_numerator  \\\n",
       "1039  744234799360020481  None  Labrador Retriever  Doggo              13.0   \n",
       "\n",
       "      rating_denominator  favourite_count  retweet_count           timestamp  \\\n",
       "1039                10.0           131075          79515 2016-06-18 18:26:18   \n",
       "\n",
       "                  source                                               text  \\\n",
       "1039  Twitter for iPhone  Here's a doggo realizing you can stand in a po...   \n",
       "\n",
       "                                          expanded_urls  \\\n",
       "1039  https://twitter.com/dog_rates/status/744234799...   \n",
       "\n",
       "                                                jpg_url img_num  rating_ratio  \n",
       "1039  https://pbs.twimg.com/ext_tw_video_thumb/74423...       1           1.3  "
      ]
     },
     "execution_count": 293,
     "metadata": {},
     "output_type": "execute_result"
    }
   ],
   "source": [
    "df_clean.query('retweet_count == retweet_count.max()')"
   ]
  },
  {
   "cell_type": "code",
   "execution_count": 294,
   "metadata": {
    "scrolled": false
   },
   "outputs": [
    {
     "data": {
      "text/html": [
       "<div>\n",
       "<style>\n",
       "    .dataframe thead tr:only-child th {\n",
       "        text-align: right;\n",
       "    }\n",
       "\n",
       "    .dataframe thead th {\n",
       "        text-align: left;\n",
       "    }\n",
       "\n",
       "    .dataframe tbody tr th {\n",
       "        vertical-align: top;\n",
       "    }\n",
       "</style>\n",
       "<table border=\"1\" class=\"dataframe\">\n",
       "  <thead>\n",
       "    <tr style=\"text-align: right;\">\n",
       "      <th></th>\n",
       "      <th>tweet_id</th>\n",
       "      <th>name</th>\n",
       "      <th>breed</th>\n",
       "      <th>stage</th>\n",
       "      <th>rating_numerator</th>\n",
       "      <th>rating_denominator</th>\n",
       "      <th>favourite_count</th>\n",
       "      <th>retweet_count</th>\n",
       "      <th>timestamp</th>\n",
       "      <th>source</th>\n",
       "      <th>text</th>\n",
       "      <th>expanded_urls</th>\n",
       "      <th>jpg_url</th>\n",
       "      <th>img_num</th>\n",
       "      <th>rating_ratio</th>\n",
       "    </tr>\n",
       "  </thead>\n",
       "  <tbody>\n",
       "    <tr>\n",
       "      <th>413</th>\n",
       "      <td>822872901745569793</td>\n",
       "      <td>Tucker</td>\n",
       "      <td>Lakeland Terrier</td>\n",
       "      <td>Puppo</td>\n",
       "      <td>13.0</td>\n",
       "      <td>10.0</td>\n",
       "      <td>132810</td>\n",
       "      <td>48265</td>\n",
       "      <td>2017-01-21 18:26:02</td>\n",
       "      <td>Twitter for iPhone</td>\n",
       "      <td>Here's a super supportive puppo participating ...</td>\n",
       "      <td>https://twitter.com/dog_rates/status/822872901...</td>\n",
       "      <td>https://pbs.twimg.com/media/C2tugXLXgAArJO4.jpg</td>\n",
       "      <td>1</td>\n",
       "      <td>1.3</td>\n",
       "    </tr>\n",
       "  </tbody>\n",
       "</table>\n",
       "</div>"
      ],
      "text/plain": [
       "               tweet_id    name             breed  stage  rating_numerator  \\\n",
       "413  822872901745569793  Tucker  Lakeland Terrier  Puppo              13.0   \n",
       "\n",
       "     rating_denominator  favourite_count  retweet_count           timestamp  \\\n",
       "413                10.0           132810          48265 2017-01-21 18:26:02   \n",
       "\n",
       "                 source                                               text  \\\n",
       "413  Twitter for iPhone  Here's a super supportive puppo participating ...   \n",
       "\n",
       "                                         expanded_urls  \\\n",
       "413  https://twitter.com/dog_rates/status/822872901...   \n",
       "\n",
       "                                             jpg_url img_num  rating_ratio  \n",
       "413  https://pbs.twimg.com/media/C2tugXLXgAArJO4.jpg       1           1.3  "
      ]
     },
     "execution_count": 294,
     "metadata": {},
     "output_type": "execute_result"
    }
   ],
   "source": [
    "df_clean.query('favourite_count == favourite_count.max()')"
   ]
  },
  {
   "cell_type": "code",
   "execution_count": 295,
   "metadata": {},
   "outputs": [
    {
     "data": {
      "text/html": [
       "<div>\n",
       "<style>\n",
       "    .dataframe thead tr:only-child th {\n",
       "        text-align: right;\n",
       "    }\n",
       "\n",
       "    .dataframe thead th {\n",
       "        text-align: left;\n",
       "    }\n",
       "\n",
       "    .dataframe tbody tr th {\n",
       "        vertical-align: top;\n",
       "    }\n",
       "</style>\n",
       "<table border=\"1\" class=\"dataframe\">\n",
       "  <thead>\n",
       "    <tr style=\"text-align: right;\">\n",
       "      <th></th>\n",
       "      <th>tweet_id</th>\n",
       "      <th>name</th>\n",
       "      <th>breed</th>\n",
       "      <th>stage</th>\n",
       "      <th>rating_numerator</th>\n",
       "      <th>rating_denominator</th>\n",
       "      <th>favourite_count</th>\n",
       "      <th>retweet_count</th>\n",
       "      <th>timestamp</th>\n",
       "      <th>source</th>\n",
       "      <th>text</th>\n",
       "      <th>expanded_urls</th>\n",
       "      <th>jpg_url</th>\n",
       "      <th>img_num</th>\n",
       "      <th>rating_ratio</th>\n",
       "    </tr>\n",
       "  </thead>\n",
       "  <tbody>\n",
       "    <tr>\n",
       "      <th>516</th>\n",
       "      <td>810984652412424192</td>\n",
       "      <td>Bungalo</td>\n",
       "      <td>Golden Retriever</td>\n",
       "      <td>None</td>\n",
       "      <td>24.0</td>\n",
       "      <td>7.0</td>\n",
       "      <td>5927</td>\n",
       "      <td>1655</td>\n",
       "      <td>2016-12-19 23:06:23</td>\n",
       "      <td>Twitter for iPhone</td>\n",
       "      <td>Meet Sam. She smiles 24/7 &amp;amp; secretly aspir...</td>\n",
       "      <td>https://www.gofundme.com/sams-smile,https://tw...</td>\n",
       "      <td>https://pbs.twimg.com/media/C0EyPZbXAAAceSc.jpg</td>\n",
       "      <td>1</td>\n",
       "      <td>3.428571</td>\n",
       "    </tr>\n",
       "  </tbody>\n",
       "</table>\n",
       "</div>"
      ],
      "text/plain": [
       "               tweet_id     name             breed stage  rating_numerator  \\\n",
       "516  810984652412424192  Bungalo  Golden Retriever  None              24.0   \n",
       "\n",
       "     rating_denominator  favourite_count  retweet_count           timestamp  \\\n",
       "516                 7.0             5927           1655 2016-12-19 23:06:23   \n",
       "\n",
       "                 source                                               text  \\\n",
       "516  Twitter for iPhone  Meet Sam. She smiles 24/7 &amp; secretly aspir...   \n",
       "\n",
       "                                         expanded_urls  \\\n",
       "516  https://www.gofundme.com/sams-smile,https://tw...   \n",
       "\n",
       "                                             jpg_url img_num  rating_ratio  \n",
       "516  https://pbs.twimg.com/media/C0EyPZbXAAAceSc.jpg       1      3.428571  "
      ]
     },
     "execution_count": 295,
     "metadata": {},
     "output_type": "execute_result"
    }
   ],
   "source": [
    "df_clean.query('rating_ratio == rating_ratio.max()')"
   ]
  }
 ],
 "metadata": {
  "kernelspec": {
   "display_name": "Python 3",
   "language": "python",
   "name": "python3"
  }
 },
 "nbformat": 4,
 "nbformat_minor": 2
}
