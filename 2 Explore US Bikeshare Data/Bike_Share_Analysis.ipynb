{
 "cells": [
  {
   "cell_type": "markdown",
   "metadata": {},
   "source": [
    "# 2016 US Bike Share Activity Snapshot\n",
    "\n",
    "## Table of Contents\n",
    "- [Introduction](#intro)\n",
    "- [Posing Questions](#pose_questions)\n",
    "- [Data Collection and Wrangling](#wrangling)\n",
    "  - [Condensing the Trip Data](#condensing)\n",
    "- [Exploratory Data Analysis](#eda)\n",
    "  - [Statistics](#statistics)\n",
    "  - [Visualizations](#visualizations)\n",
    "- [Performing Your Own Analysis](#eda_continued)\n",
    "- [Conclusions](#conclusions)\n",
    "\n",
    "<a id='intro'></a>\n",
    "## Introduction\n",
    "\n",
    "> **Tip**: Quoted sections like this will provide helpful instructions on how to navigate and use a Jupyter notebook.\n",
    "\n",
    "Over the past decade, bicycle-sharing systems have been growing in number and popularity in cities across the world. Bicycle-sharing systems allow users to rent bicycles for short trips, typically 30 minutes or less. Thanks to the rise in information technologies, it is easy for a user of the system to access a dock within the system to unlock or return bicycles. These technologies also provide a wealth of data that can be used to explore how these bike-sharing systems are used.\n",
    "\n",
    "In this project, you will perform an exploratory analysis on data provided by [Motivate](https://www.motivateco.com/), a bike-share system provider for many major cities in the United States. You will compare the system usage between three large cities: New York City, Chicago, and Washington, DC. You will also see if there are any differences within each system for those users that are registered, regular users and those users that are short-term, casual users."
   ]
  },
  {
   "cell_type": "markdown",
   "metadata": {},
   "source": [
    "<a id='pose_questions'></a>\n",
    "## Posing Questions\n",
    "\n",
    "Before looking at the bike sharing data, you should start by asking questions you might want to understand about the bike share data. Consider, for example, if you were working for Motivate. What kinds of information would you want to know about in order to make smarter business decisions? If you were a user of the bike-share service, what factors might influence how you would want to use the service?\n",
    "\n",
    "**Question 1**: Write at least two questions related to bike sharing that you think could be answered by data.\n",
    "\n",
    "**Answer**: How long do my customers use my bikes on average? How far does a bike trip last on average? Can I make a heatmap which shows in which parts of the city are my bikes being used most frequently?\n",
    "\n",
    "> **Tip**: If you double click on this cell, you will see the text change so that all of the formatting is removed. This allows you to edit this block of text. This block of text is written using [Markdown](http://daringfireball.net/projects/markdown/syntax), which is a way to format text using headers, links, italics, and many other options using a plain-text syntax. You will also use Markdown later in the Nanodegree program. Use **Shift** + **Enter** or **Shift** + **Return** to run the cell and show its rendered form."
   ]
  },
  {
   "cell_type": "markdown",
   "metadata": {},
   "source": [
    "<a id='wrangling'></a>\n",
    "## Data Collection and Wrangling\n",
    "\n",
    "Now it's time to collect and explore our data. In this project, we will focus on the record of individual trips taken in 2016 from our selected cities: New York City, Chicago, and Washington, DC. Each of these cities has a page where we can freely download the trip data.:\n",
    "\n",
    "- New York City (Citi Bike): [Link](https://www.citibikenyc.com/system-data)\n",
    "- Chicago (Divvy): [Link](https://www.divvybikes.com/system-data)\n",
    "- Washington, DC (Capital Bikeshare): [Link](https://www.capitalbikeshare.com/system-data)\n",
    "\n",
    "If you visit these pages, you will notice that each city has a different way of delivering its data. Chicago updates with new data twice a year, Washington DC is quarterly, and New York City is monthly. **However, you do not need to download the data yourself.** The data has already been collected for you in the `/data/` folder of the project files. While the original data for 2016 is spread among multiple files for each city, the files in the `/data/` folder collect all of the trip data for the year into one file per city. Some data wrangling of inconsistencies in timestamp format within each city has already been performed for you. In addition, a random 2% sample of the original data is taken to make the exploration more manageable. \n",
    "\n",
    "**Question 2**: However, there is still a lot of data for us to investigate, so it's a good idea to start off by looking at one entry from each of the cities we're going to analyze. Run the first code cell below to load some packages and functions that you'll be using in your analysis. Then, complete the second code cell to print out the first trip recorded from each of the cities (the second line of each data file).\n",
    "\n",
    "> **Tip**: You can run a code cell like you formatted Markdown cells above by clicking on the cell and using the keyboard shortcut **Shift** + **Enter** or **Shift** + **Return**. Alternatively, a code cell can be executed using the **Play** button in the toolbar after selecting it. While the cell is running, you will see an asterisk in the message to the left of the cell, i.e. `In [*]:`. The asterisk will change into a number to show that execution has completed, e.g. `In [1]`. If there is output, it will show up as `Out [1]:`, with an appropriate number to match the \"In\" number."
   ]
  },
  {
   "cell_type": "code",
   "execution_count": 1,
   "metadata": {},
   "outputs": [],
   "source": [
    "## import all necessary packages and functions.\n",
    "import csv # read and write csv files\n",
    "from datetime import datetime # operations to parse dates\n",
    "from pprint import pprint # use to print data structures like dictionaries in\n",
    "                          # a nicer way than the base print function."
   ]
  },
  {
   "cell_type": "code",
   "execution_count": 2,
   "metadata": {},
   "outputs": [
    {
     "name": "stdout",
     "output_type": "stream",
     "text": [
      "\n",
      "City: NYC\n",
      "['tripduration',\n",
      " 'starttime',\n",
      " 'stoptime',\n",
      " 'start station id',\n",
      " 'start station name',\n",
      " 'start station latitude',\n",
      " 'start station longitude',\n",
      " 'end station id',\n",
      " 'end station name',\n",
      " 'end station latitude',\n",
      " 'end station longitude',\n",
      " 'bikeid',\n",
      " 'usertype',\n",
      " 'birth year',\n",
      " 'gender']\n",
      "['839',\n",
      " '1/1/2016 00:09:55',\n",
      " '1/1/2016 00:23:54',\n",
      " '532',\n",
      " 'S 5 Pl & S 4 St',\n",
      " '40.710451',\n",
      " '-73.960876',\n",
      " '401',\n",
      " 'Allen St & Rivington St',\n",
      " '40.72019576',\n",
      " '-73.98997825',\n",
      " '17109',\n",
      " 'Customer',\n",
      " '',\n",
      " '0']\n",
      "\n",
      "City: Chicago\n",
      "['trip_id',\n",
      " 'starttime',\n",
      " 'stoptime',\n",
      " 'bikeid',\n",
      " 'tripduration',\n",
      " 'from_station_id',\n",
      " 'from_station_name',\n",
      " 'to_station_id',\n",
      " 'to_station_name',\n",
      " 'usertype',\n",
      " 'gender',\n",
      " 'birthyear']\n",
      "['9080545',\n",
      " '3/31/2016 23:30',\n",
      " '3/31/2016 23:46',\n",
      " '2295',\n",
      " '926',\n",
      " '156',\n",
      " 'Clark St & Wellington Ave',\n",
      " '166',\n",
      " 'Ashland Ave & Wrightwood Ave',\n",
      " 'Subscriber',\n",
      " 'Male',\n",
      " '1990']\n",
      "\n",
      "City: Washington\n",
      "['Duration (ms)',\n",
      " 'Start date',\n",
      " 'End date',\n",
      " 'Start station number',\n",
      " 'Start station',\n",
      " 'End station number',\n",
      " 'End station',\n",
      " 'Bike number',\n",
      " 'Member Type']\n",
      "['427387',\n",
      " '3/31/2016 22:57',\n",
      " '3/31/2016 23:04',\n",
      " '31602',\n",
      " 'Park Rd & Holmead Pl NW',\n",
      " '31207',\n",
      " 'Georgia Ave and Fairmont St NW',\n",
      " 'W20842',\n",
      " 'Registered']\n"
     ]
    }
   ],
   "source": [
    "def print_first_point(filename):\n",
    "    \"\"\"\n",
    "    This function prints and returns the first data point (second row) from\n",
    "    a csv file that includes a header row.\n",
    "    \"\"\"\n",
    "    # print city name for reference\n",
    "    city = filename.split('-')[0].split('/')[-1]\n",
    "    print('\\nCity: {}'.format(city))\n",
    "    \n",
    "    with open(filename, 'r') as f_in:\n",
    "        ## TODO: Use the csv library to set up a DictReader object. ##\n",
    "        ## see https://docs.python.org/3/library/csv.html           ##\n",
    "        trip_reader = csv.reader(f_in)\n",
    "        \n",
    "        ## TODO: Use a function on the DictReader object to read the     ##\n",
    "        ## first trip from the data file and store it in a variable.     ##\n",
    "        ## see https://docs.python.org/3/library/csv.html#reader-objects ##\n",
    "        pprint(next(trip_reader))\n",
    "        first_trip = next(trip_reader)\n",
    "        \n",
    "        ## TODO: Use the pprint library to print the first trip. ##\n",
    "        ## see https://docs.python.org/3/library/pprint.html     ##\n",
    "        pprint(first_trip)\n",
    "        \n",
    "    # output city name and first trip for later testing\n",
    "    return (city, first_trip)\n",
    "\n",
    "# list of files for each city\n",
    "data_files = ['./data/NYC-CitiBike-2016.csv',\n",
    "              './data/Chicago-Divvy-2016.csv',\n",
    "              './data/Washington-CapitalBikeshare-2016.csv',]\n",
    "\n",
    "# print the first trip from each file, store in dictionary\n",
    "example_trips = {}\n",
    "for data_file in data_files:\n",
    "    city, first_trip = print_first_point(data_file)\n",
    "    example_trips[city] = first_trip"
   ]
  },
  {
   "cell_type": "markdown",
   "metadata": {},
   "source": [
    "If everything has been filled out correctly, you should see below the printout of each city name (which has been parsed from the data file name) that the first trip has been parsed in the form of a dictionary. When you set up a `DictReader` object, the first row of the data file is normally interpreted as column names. Every other row in the data file will use those column names as keys, as a dictionary is generated for each row.\n",
    "\n",
    "This will be useful since we can refer to quantities by an easily-understandable label instead of just a numeric index. For example, if we have a trip stored in the variable `row`, then we would rather get the trip duration from `row['duration']` instead of `row[0]`.\n",
    "\n",
    "<a id='condensing'></a>\n",
    "### Condensing the Trip Data\n",
    "\n",
    "It should also be observable from the above printout that each city provides different information. Even where the information is the same, the column names and formats are sometimes different. To make things as simple as possible when we get to the actual exploration, we should trim and clean the data. Cleaning the data makes sure that the data formats across the cities are consistent, while trimming focuses only on the parts of the data we are most interested in to make the exploration easier to work with.\n",
    "\n",
    "You will generate new data files with five values of interest for each trip: trip duration, starting month, starting hour, day of the week, and user type. Each of these may require additional wrangling depending on the city:\n",
    "\n",
    "- **Duration**: This has been given to us in seconds (New York, Chicago) or milliseconds (Washington). A more natural unit of analysis will be if all the trip durations are given in terms of minutes.\n",
    "- **Month**, **Hour**, **Day of Week**: Ridership volume is likely to change based on the season, time of day, and whether it is a weekday or weekend. Use the start time of the trip to obtain these values. The New York City data includes the seconds in their timestamps, while Washington and Chicago do not. The [`datetime`](https://docs.python.org/3/library/datetime.html) package will be very useful here to make the needed conversions.\n",
    "- **User Type**: It is possible that users who are subscribed to a bike-share system will have different patterns of use compared to users who only have temporary passes. Washington divides its users into two types: 'Registered' for users with annual, monthly, and other longer-term subscriptions, and 'Casual', for users with 24-hour, 3-day, and other short-term passes. The New York and Chicago data uses 'Subscriber' and 'Customer' for these groups, respectively. For consistency, you will convert the Washington labels to match the other two.\n",
    "\n",
    "\n",
    "**Question 3a**: Complete the helper functions in the code cells below to address each of the cleaning tasks described above."
   ]
  },
  {
   "cell_type": "code",
   "execution_count": 3,
   "metadata": {},
   "outputs": [],
   "source": [
    "def duration_in_mins(datum, city):\n",
    "    \"\"\"\n",
    "    Takes as input a dictionary containing info about a single trip (datum) and\n",
    "    its origin city (city) and returns the trip duration in units of minutes.\n",
    "    \n",
    "    Remember that Washington is in terms of milliseconds while Chicago and NYC\n",
    "    are in terms of seconds. \n",
    "    \n",
    "    HINT: The csv module reads in all of the data as strings, including numeric\n",
    "    values. You will need a function to convert the strings into an appropriate\n",
    "    numeric type when making your transformations.\n",
    "    see https://docs.python.org/3/library/functions.html\n",
    "    \"\"\"\n",
    "    \n",
    "    # YOUR CODE HERE\n",
    "    duration = None\n",
    "\n",
    "    if city == 'NYC':\n",
    "        duration = float(datum[0]) / 60\n",
    "        \n",
    "    elif city == 'Chicago':\n",
    "        duration = float(datum[4]) / 60\n",
    "        \n",
    "    elif city == 'Washington':\n",
    "        duration = float(datum[0]) / 60000\n",
    "    \n",
    "    return duration\n",
    "\n",
    "\n",
    "# Some tests to check that your code works. There should be no output if all of\n",
    "# the assertions pass. The `example_trips` dictionary was obtained from when\n",
    "# you printed the first trip from each of the original data files.\n",
    "tests = {'NYC': 13.9833,\n",
    "         'Chicago': 15.4333,\n",
    "         'Washington': 7.1231}\n",
    "\n",
    "for city in tests:\n",
    "    assert abs(duration_in_mins(example_trips[city], city) - tests[city]) < .001"
   ]
  },
  {
   "cell_type": "code",
   "execution_count": 4,
   "metadata": {},
   "outputs": [],
   "source": [
    "def time_of_trip(datum, city):\n",
    "    \"\"\"\n",
    "    Takes as input a dictionary containing info about a single trip (datum) and\n",
    "    its origin city (city) and returns the month, hour, and day of the week in\n",
    "    which the trip was made.\n",
    "    \n",
    "    Remember that NYC includes seconds, while Washington and Chicago do not.\n",
    "    \n",
    "    HINT: You should use the datetime module to parse the original date\n",
    "    strings into a format that is useful for extracting the desired information.\n",
    "    see https://docs.python.org/3/library/datetime.html#strftime-and-strptime-behavior\n",
    "    \"\"\"\n",
    "    \n",
    "    # YOUR CODE HERE\n",
    "    \n",
    "    import calendar\n",
    "    from datetime import datetime as dt\n",
    "    \n",
    "    month = None\n",
    "    hour = None\n",
    "    day_of_week = None\n",
    "    \n",
    "    if city == 'NYC':\n",
    "        trip_time = dt.strptime(datum[1], '%m/%d/%Y %H:%M:%S')\n",
    "    elif city == 'Chicago':\n",
    "        trip_time = dt.strptime(datum[1], '%m/%d/%Y %H:%M')\n",
    "    elif city == 'Washington':\n",
    "        trip_time = dt.strptime(datum[1], '%m/%d/%Y %H:%M')\n",
    "\n",
    "        \n",
    "    month = trip_time.month\n",
    "    hour = trip_time.hour\n",
    "    day_of_week = calendar.day_name[trip_time.weekday()]\n",
    "    \n",
    "    return (month, hour, day_of_week)\n",
    "\n",
    "\n",
    "# Some tests to check that your code works. There should be no output if all of\n",
    "# the assertions pass. The `example_trips` dictionary was obtained from when\n",
    "# you printed the first trip from each of the original data files.\n",
    "tests = {'NYC': (1, 0, 'Friday'),\n",
    "         'Chicago': (3, 23, 'Thursday'),\n",
    "         'Washington': (3, 22, 'Thursday')}\n",
    "\n",
    "for city in tests:\n",
    "    assert time_of_trip(example_trips[city], city) == tests[city]"
   ]
  },
  {
   "cell_type": "code",
   "execution_count": 5,
   "metadata": {},
   "outputs": [],
   "source": [
    "def type_of_user(datum, city):\n",
    "    \"\"\"\n",
    "    Takes as input a dictionary containing info about a single trip (datum) and\n",
    "    its origin city (city) and returns the type of system user that made the\n",
    "    trip.\n",
    "    \n",
    "    Remember that Washington has different category names compared to Chicago\n",
    "    and NYC. \n",
    "    \"\"\"\n",
    "    \n",
    "    # YOUR CODE HERE\n",
    "    user_type = None\n",
    "    \n",
    "    if city == 'NYC':\n",
    "        user_type = datum[12]\n",
    "    elif city == 'Chicago':\n",
    "        user_type = datum[9]\n",
    "    elif city == 'Washington':\n",
    "        user_type = 'Subscriber' if datum[8] == 'Registered' else 'Customer'\n",
    "\n",
    "    return user_type\n",
    "\n",
    "#         if datum[8] == 'Registered':\n",
    "#             user_type = 'Subscriber'\n",
    "#         elif datum[8] == 'Casual':\n",
    "#             user_type = 'Customer'\n",
    "\n",
    "\n",
    "\n",
    "\n",
    "# Some tests to check that your code works. There should be no output if all of\n",
    "# the assertions pass. The `example_trips` dictionary was obtained from when\n",
    "# you printed the first trip from each of the original data files.\n",
    "tests = {'NYC': 'Customer',\n",
    "         'Chicago': 'Subscriber',\n",
    "         'Washington': 'Subscriber'}\n",
    "\n",
    "for city in tests:\n",
    "    assert type_of_user(example_trips[city], city) == tests[city]"
   ]
  },
  {
   "cell_type": "markdown",
   "metadata": {},
   "source": [
    "**Question 3b**: Now, use the helper functions you wrote above to create a condensed data file for each city consisting only of the data fields indicated above. In the `/examples/` folder, you will see an example datafile from the [Bay Area Bike Share](http://www.bayareabikeshare.com/open-data) before and after conversion. Make sure that your output is formatted to be consistent with the example file."
   ]
  },
  {
   "cell_type": "code",
   "execution_count": 6,
   "metadata": {},
   "outputs": [],
   "source": [
    "def condense_data(in_file, out_file, city):\n",
    "    \"\"\"\n",
    "    This function takes full data from the specified input file\n",
    "    and writes the condensed data to a specified output file. The city\n",
    "    argument determines how the input file will be parsed.\n",
    "    \n",
    "    HINT: See the cell below to see how the arguments are structured!\n",
    "    \"\"\"\n",
    "    \n",
    "    with open(out_file, 'w') as f_out, open(in_file, 'r') as f_in:\n",
    "        # set up csv DictWriter object - writer requires column names for the\n",
    "        # first row as the \"fieldnames\" argument\n",
    "        out_colnames = ['duration', 'month', 'hour', 'day_of_week', 'user_type']        \n",
    "        trip_writer = csv.DictWriter(f_out, fieldnames = out_colnames)\n",
    "        trip_writer.writeheader()\n",
    "        \n",
    "        ## TODO: set up csv DictReader object ##\n",
    "        trip_reader = csv.reader(f_in)\n",
    "        next(f_in)\n",
    "\n",
    "        # collect data from and process each row\n",
    "        for row in trip_reader:\n",
    "            # set up a dictionary to hold the values for the cleaned and trimmed\n",
    "            # data point\n",
    "            new_point = {}\n",
    "\n",
    "            ## TODO: use the helper functions to get the cleaned data from  ##\n",
    "            ## the original data dictionaries.                              ##\n",
    "            ## Note that the keys for the new_point dictionary should match ##\n",
    "            ## the column names set in the DictWriter object above.         ##\n",
    "            new_point['duration'] = duration_in_mins(row, city)\n",
    "            (new_point['month'], new_point['hour'], new_point['day_of_week']) = time_of_trip(row, city)\n",
    "            new_point['user_type'] = type_of_user(row, city)\n",
    "            \n",
    "            ## TODO: write the processed information to the output file.     ##\n",
    "            ## see https://docs.python.org/3/library/csv.html#writer-objects ##\n",
    "            trip_writer.writerow(new_point)\n",
    "            \n",
    "            "
   ]
  },
  {
   "cell_type": "code",
   "execution_count": 7,
   "metadata": {},
   "outputs": [
    {
     "name": "stdout",
     "output_type": "stream",
     "text": [
      "\n",
      "City: Washington\n",
      "['duration', 'month', 'hour', 'day_of_week', 'user_type']\n",
      "['7.123116666666666', '3', '22', 'Thursday', 'Subscriber']\n",
      "\n",
      "City: Chicago\n",
      "['duration', 'month', 'hour', 'day_of_week', 'user_type']\n",
      "['15.433333333333334', '3', '23', 'Thursday', 'Subscriber']\n",
      "\n",
      "City: NYC\n",
      "['duration', 'month', 'hour', 'day_of_week', 'user_type']\n",
      "['13.983333333333333', '1', '0', 'Friday', 'Customer']\n"
     ]
    }
   ],
   "source": [
    "# Run this cell to check your work\n",
    "city_info = {'Washington': {'in_file': './data/Washington-CapitalBikeshare-2016.csv',\n",
    "                            'out_file': './data/Washington-2016-Summary.csv'},\n",
    "             'Chicago': {'in_file': './data/Chicago-Divvy-2016.csv',\n",
    "                         'out_file': './data/Chicago-2016-Summary.csv'},\n",
    "             'NYC': {'in_file': './data/NYC-CitiBike-2016.csv',\n",
    "                     'out_file': './data/NYC-2016-Summary.csv'}}\n",
    "\n",
    "for city, filenames in city_info.items():\n",
    "    condense_data(filenames['in_file'], filenames['out_file'], city)\n",
    "    print_first_point(filenames['out_file'])"
   ]
  },
  {
   "cell_type": "markdown",
   "metadata": {},
   "source": [
    "> **Tip**: If you save a jupyter Notebook, the output from running code blocks will also be saved. However, the state of your workspace will be reset once a new session is started. Make sure that you run all of the necessary code blocks from your previous session to reestablish variables and functions before picking up where you last left off.\n",
    "\n",
    "<a id='eda'></a>\n",
    "## Exploratory Data Analysis\n",
    "\n",
    "Now that you have the data collected and wrangled, you're ready to start exploring the data. In this section you will write some code to compute descriptive statistics from the data. You will also be introduced to the `matplotlib` library to create some basic histograms of the data.\n",
    "\n",
    "<a id='statistics'></a>\n",
    "### Statistics\n",
    "\n",
    "First, let's compute some basic counts. The first cell below contains a function that uses the csv module to iterate through a provided data file, returning the number of trips made by subscribers and customers. The second cell runs this function on the example Bay Area data in the `/examples/` folder. Modify the cells to answer the question below.\n",
    "\n",
    "**Question 4a**:\n",
    "Which city has the highest number of trips?\n",
    "Which city has the highest proportion of trips made by subscribers?\n",
    "Which city has the highest proportion of trips made by short-term customers?\n",
    "\n",
    "**Answer**:  \n",
    "Which city has the highest number of trips?\n",
    "> NYC (276798 Trips)\n",
    "\n",
    "Which city has the highest proportion of trips made by subscribers?\n",
    "> NYC (Proportion of 0.89)\n",
    "\n",
    "Which city has the highest proportion of trips made by short-term customers?\n",
    "> Chicago (Proportion of 0.24)\n"
   ]
  },
  {
   "cell_type": "code",
   "execution_count": 8,
   "metadata": {},
   "outputs": [],
   "source": [
    "def number_of_trips(filename):\n",
    "    \"\"\"\n",
    "    This function reads in a file with trip data and reports the number of\n",
    "    trips made by subscribers, customers, and total overall.\n",
    "    \"\"\"\n",
    "    with open(filename, 'r') as f_in:\n",
    "        # set up csv reader object\n",
    "        reader = csv.DictReader(f_in)\n",
    "        \n",
    "        # initialize count variables\n",
    "        n_subscribers = 0\n",
    "        n_customers = 0\n",
    "        \n",
    "        # tally up ride types\n",
    "        for row in reader:\n",
    "            if row['user_type'] == 'Subscriber':\n",
    "                n_subscribers += 1\n",
    "            else:\n",
    "                n_customers += 1\n",
    "        \n",
    "        # compute total number of rides\n",
    "        n_total = n_subscribers + n_customers\n",
    "        \n",
    "        # return tallies as a tuple\n",
    "        return(n_subscribers, n_customers, n_total)"
   ]
  },
  {
   "cell_type": "code",
   "execution_count": 9,
   "metadata": {},
   "outputs": [],
   "source": [
    "# Define data_files for easy access\n",
    "data_files = {'Washington': './data/Washington-2016-Summary.csv',\n",
    "'Chicago': './data/Chicago-2016-Summary.csv',\n",
    "'NYC': './data/NYC-2016-Summary.csv'}"
   ]
  },
  {
   "cell_type": "code",
   "execution_count": 10,
   "metadata": {},
   "outputs": [
    {
     "name": "stdout",
     "output_type": "stream",
     "text": [
      "city n_subscribers n_customers n_total\n",
      "Washington (51753, 14573, 66326)\n",
      "Chicago (54982, 17149, 72131)\n",
      "NYC (245896, 30902, 276798)\n"
     ]
    }
   ],
   "source": [
    "## Modify this and the previous cell to answer Question 4a. Remember to run ##\n",
    "## the function on the cleaned data files you created from Question 3.      ##\n",
    "\n",
    "#data_file = './examples/BayArea-Y3-Summary.csv'\n",
    "#print(number_of_trips(data_file))\n",
    "\n",
    "freqs = {}\n",
    "print('city', 'n_subscribers', 'n_customers', 'n_total')\n",
    "for city, data_file in data_files.items():\n",
    "    freqs[city] = number_of_trips(data_file)\n",
    "    print(city, freqs[city])\n"
   ]
  },
  {
   "cell_type": "code",
   "execution_count": 11,
   "metadata": {},
   "outputs": [
    {
     "name": "stdout",
     "output_type": "stream",
     "text": [
      "{'Washington': 66326, 'Chicago': 72131, 'NYC': 276798}\n",
      "Highest number of trips: ('NYC', 276798)\n"
     ]
    }
   ],
   "source": [
    "# highest number of trips\n",
    "import operator\n",
    "\n",
    "trips = dict([(k, v[2]) for k, v in freqs.items()])\n",
    "print(trips)\n",
    "max_trips = max(trips.items(), key=operator.itemgetter(1))\n",
    "print(\"Highest number of trips:\", max_trips)"
   ]
  },
  {
   "cell_type": "code",
   "execution_count": 12,
   "metadata": {},
   "outputs": [
    {
     "name": "stdout",
     "output_type": "stream",
     "text": [
      "{'Washington': 0.7802822422579381, 'Chicago': 0.7622520136973008, 'NYC': 0.8883590199351151}\n",
      "Highest proportion of trips made by subscribers:  ('NYC', 0.8883590199351151)\n"
     ]
    }
   ],
   "source": [
    "# highest proportion of trips made by subscribers\n",
    "\n",
    "props_subscribers = dict([(k, v[0]/v[2]) for k, v in freqs.items()])\n",
    "print(props_subscribers)\n",
    "max_props_subscribers = max(props_subscribers.items(), key=operator.itemgetter(1))\n",
    "print(\"Highest proportion of trips made by subscribers: \", max_props_subscribers)\n"
   ]
  },
  {
   "cell_type": "code",
   "execution_count": 13,
   "metadata": {},
   "outputs": [
    {
     "name": "stdout",
     "output_type": "stream",
     "text": [
      "{'Washington': 0.21971775774206193, 'Chicago': 0.23774798630269925, 'NYC': 0.11164098006488486}\n",
      "Highest proportion of trips made by short-term customers:  ('Chicago', 0.23774798630269925)\n"
     ]
    }
   ],
   "source": [
    "# highest proportion of trips made by short-term customers\n",
    "\n",
    "props_shortterm = dict([(k, v[1]/v[2]) for k, v in freqs.items()])\n",
    "print(props_shortterm)\n",
    "max_props_shortterm = max(props_shortterm.items(), key=operator.itemgetter(1))\n",
    "print(\"Highest proportion of trips made by short-term customers: \", max_props_shortterm)"
   ]
  },
  {
   "cell_type": "markdown",
   "metadata": {},
   "source": [
    "> **Tip**: In order to add additional cells to a notebook, you can use the \"Insert Cell Above\" and \"Insert Cell Below\" options from the menu bar above. There is also an icon in the toolbar for adding new cells, with additional icons for moving the cells up and down the document. By default, new cells are of the code type; you can also specify the cell type (e.g. Code or Markdown) of selected cells from the Cell menu or the dropdown in the toolbar.\n",
    "\n",
    "Now, you will write your own code to continue investigating properties of the data.\n",
    "\n",
    "**Question 4b**: Bike-share systems are designed for riders to take short trips. Most of the time, users are allowed to take trips of 30 minutes or less with no additional charges, with overage charges made for trips of longer than that duration. What is the average trip length for each city? What proportion of rides made in each city are longer than 30 minutes?\n",
    "\n",
    "**Answer**:  \n",
    "_Average trip length:_  \n",
    "Washington: 19 minutes  \n",
    "Chicago: 17 minutes  \n",
    "NYC: 16 minutes  \n",
    "\n",
    "_Rides longer than 30 minutes:_  \n",
    "Washington: 10.8%  \n",
    "Chicago: 8.3%  \n",
    "NYC: 7.3%"
   ]
  },
  {
   "cell_type": "code",
   "execution_count": 14,
   "metadata": {
    "scrolled": true
   },
   "outputs": [],
   "source": [
    "## Use this and additional cells to answer Question 4b.                 ##\n",
    "##                                                                      ##\n",
    "## HINT: The csv module reads in all of the data as strings, including  ##\n",
    "## numeric values. You will need a function to convert the strings      ##\n",
    "## into an appropriate numeric type before you aggregate data.          ##\n",
    "## TIP: For the Bay Area example, the average trip length is 14 minutes ##\n",
    "## and 3.5% of trips are longer than 30 minutes.                        ##\n",
    "\n",
    "def mean(n):\n",
    "    \"\"\"\n",
    "    Return mean of list n\n",
    "    \"\"\"\n",
    "    return float(sum(n)) / max(1, len(n))\n",
    "\n",
    "def avg_trip_length(filename):\n",
    "    \"\"\"\n",
    "    This function reads in a file with trip data and reports the average\n",
    "    length of trips.\n",
    "    \"\"\"\n",
    "    with open(filename, 'r') as f_in:\n",
    "        # set up csv reader object\n",
    "        reader = csv.DictReader(f_in)\n",
    "        \n",
    "        # init list with trip lengths\n",
    "        trip_lengths = []\n",
    "        \n",
    "        # create list of trip lengths\n",
    "        for row in reader:\n",
    "            trip_lengths.append(float(row['duration']))\n",
    "        \n",
    "        # return arithmetic mean of trip lengths\n",
    "        return mean(trip_lengths)"
   ]
  },
  {
   "cell_type": "code",
   "execution_count": 15,
   "metadata": {},
   "outputs": [
    {
     "name": "stdout",
     "output_type": "stream",
     "text": [
      "Washington 18.93287355913721\n",
      "Chicago 16.563629368787335\n",
      "NYC 15.81259299802294\n"
     ]
    }
   ],
   "source": [
    "trip_length = {}\n",
    "for city, data_file in data_files.items():\n",
    "    trip_length[city] = avg_trip_length(data_file)\n",
    "    print(city, trip_length[city])"
   ]
  },
  {
   "cell_type": "code",
   "execution_count": 16,
   "metadata": {},
   "outputs": [],
   "source": [
    "def trips_longer_30(filename):\n",
    "    \"\"\"\n",
    "    This function reads in a file with trip data and reports the propotion\n",
    "    of trips longer than 30 minutes.\n",
    "    \"\"\"\n",
    "    with open(filename, 'r') as f_in:\n",
    "        # set up csv reader object\n",
    "        reader = csv.DictReader(f_in)\n",
    "        \n",
    "        # initialize count variables\n",
    "        n = 0\n",
    "        n_30 = 0\n",
    "        \n",
    "        # tally up all trips and trips longer than 30 mins separately\n",
    "        for row in reader:\n",
    "            if float(row['duration']) > 30:\n",
    "                n_30 += 1\n",
    "            n += 1\n",
    "\n",
    "        # return proportion of trips longer than 30 minutes\n",
    "        return n_30 / n"
   ]
  },
  {
   "cell_type": "code",
   "execution_count": 17,
   "metadata": {},
   "outputs": [
    {
     "name": "stdout",
     "output_type": "stream",
     "text": [
      "Washington 0.10838886711093688\n",
      "Chicago 0.08332062497400562\n",
      "NYC 0.07302437156337835\n"
     ]
    }
   ],
   "source": [
    "prop_trips_long = {}\n",
    "for city, data_file in data_files.items():\n",
    "    prop_trips_long[city] = trips_longer_30(data_file)\n",
    "    print(city, prop_trips_long[city])"
   ]
  },
  {
   "cell_type": "markdown",
   "metadata": {},
   "source": [
    "**Question 4c**: Dig deeper into the question of trip duration based on ridership. Choose one city. Within that city, which type of user takes longer rides on average: Subscribers or Customers?\n",
    "\n",
    "**Answer**: For NYC (and the other two cities), customers take longer rides on average than subscribers."
   ]
  },
  {
   "cell_type": "code",
   "execution_count": 18,
   "metadata": {},
   "outputs": [],
   "source": [
    "## Use this and additional cells to answer Question 4c. If you have    ##\n",
    "## not done so yet, consider revising some of your previous code to    ##\n",
    "## make use of functions for reusability.                              ##\n",
    "##                                                                     ##\n",
    "## TIP: For the Bay Area example data, you should find the average     ##\n",
    "## Subscriber trip duration to be 9.5 minutes and the average Customer ##\n",
    "## trip duration to be 54.6 minutes. Do the other cities have this     ##\n",
    "## level of difference?                                                ##\n",
    "\n",
    "def longer_trips(filename):\n",
    "    \"\"\"\n",
    "    This function reads in a file with trip data and reports the mean of trip durations \n",
    "    for each subscribers and customers.\n",
    "    \"\"\"\n",
    "    with open(filename, 'r') as f_in:\n",
    "        # set up csv reader object\n",
    "        reader = csv.DictReader(f_in)\n",
    "        \n",
    "        # initialize trip arrays\n",
    "        trips_subscribers = []\n",
    "        trips_customers = []\n",
    "        \n",
    "        # append trip durations to corresponding array\n",
    "        for row in reader:\n",
    "            if row['user_type'] == 'Subscriber':\n",
    "                trips_subscribers.append(float(row['duration']))\n",
    "            else:\n",
    "                trips_customers.append(float(row['duration']))\n",
    "        \n",
    "        # return mean of trip durations for each customer type\n",
    "        return (mean(trips_subscribers), mean(trips_customers))"
   ]
  },
  {
   "cell_type": "code",
   "execution_count": 19,
   "metadata": {},
   "outputs": [
    {
     "name": "stdout",
     "output_type": "stream",
     "text": [
      "Washington (12.528120499294745, 41.67803139252976)\n",
      "Chicago (12.067201690250076, 30.979781133982506)\n",
      "NYC (13.680790523907177, 32.77595139473187)\n"
     ]
    }
   ],
   "source": [
    "trips_comp = {}\n",
    "for city, data_file in data_files.items():\n",
    "    trips_comp[city] = longer_trips(data_file)\n",
    "    print(city, trips_comp[city])"
   ]
  },
  {
   "cell_type": "markdown",
   "metadata": {},
   "source": [
    "<a id='visualizations'></a>\n",
    "### Visualizations\n",
    "\n",
    "The last set of values that you computed should have pulled up an interesting result. While the mean trip time for Subscribers is well under 30 minutes, the mean trip time for Customers is actually _above_ 30 minutes! It will be interesting for us to look at how the trip times are distributed. In order to do this, a new library will be introduced here, `matplotlib`. Run the cell below to load the library and to generate an example plot."
   ]
  },
  {
   "cell_type": "code",
   "execution_count": 20,
   "metadata": {},
   "outputs": [
    {
     "data": {
      "image/png": "[encoded data removed]",
      "text/plain": [
       "<matplotlib.figure.Figure at 0x7f9c303fc320>"
      ]
     },
     "metadata": {},
     "output_type": "display_data"
    }
   ],
   "source": [
    "# load library\n",
    "import matplotlib.pyplot as plt\n",
    "\n",
    "# this is a 'magic word' that allows for plots to be displayed\n",
    "# inline with the notebook. If you want to know more, see:\n",
    "# http://ipython.readthedocs.io/en/stable/interactive/magics.html\n",
    "%matplotlib inline \n",
    "\n",
    "# example histogram, data taken from bay area sample\n",
    "data = [ 7.65,  8.92,  7.42,  5.50, 16.17,  4.20,  8.98,  9.62, 11.48, 14.33,\n",
    "        19.02, 21.53,  3.90,  7.97,  2.62,  2.67,  3.08, 14.40, 12.90,  7.83,\n",
    "        25.12,  8.30,  4.93, 12.43, 10.60,  6.17, 10.88,  4.78, 15.15,  3.53,\n",
    "         9.43, 13.32, 11.72,  9.85,  5.22, 15.10,  3.95,  3.17,  8.78,  1.88,\n",
    "         4.55, 12.68, 12.38,  9.78,  7.63,  6.45, 17.38, 11.90, 11.52,  8.63,]\n",
    "plt.hist(data)\n",
    "plt.title('Distribution of Trip Durations')\n",
    "plt.xlabel('Duration (m)')\n",
    "plt.show()"
   ]
  },
  {
   "cell_type": "markdown",
   "metadata": {},
   "source": [
    "In the above cell, we collected fifty trip times in a list, and passed this list as the first argument to the `.hist()` function. This function performs the computations and creates plotting objects for generating a histogram, but the plot is actually not rendered until the `.show()` function is executed. The `.title()` and `.xlabel()` functions provide some labeling for plot context.\n",
    "\n",
    "You will now use these functions to create a histogram of the trip times for the city you selected in question 4c. Don't separate the Subscribers and Customers for now: just collect all of the trip times and plot them."
   ]
  },
  {
   "cell_type": "code",
   "execution_count": 21,
   "metadata": {},
   "outputs": [],
   "source": [
    "## Use this and additional cells to collect all of the trip times as a list ##\n",
    "## and then use pyplot functions to generate a histogram of trip times.     ##\n",
    "\n",
    "def get_trips(filename):\n",
    "    \"\"\"\n",
    "    This function reads in a file with trip data and returns three arrays \n",
    "    including duration of trips made by each subscribers, customers and all users.\n",
    "    \"\"\"\n",
    "    with open(filename, 'r') as f_in:\n",
    "        # set up csv reader object\n",
    "        reader = csv.DictReader(f_in)\n",
    "        \n",
    "        # initialize arrays which include trip durations\n",
    "        trips_subscribers = []\n",
    "        trips_customers = []\n",
    "        \n",
    "        # append durations to respective array\n",
    "        for row in reader:\n",
    "            if row['user_type'] == 'Subscriber':\n",
    "                trips_subscribers.append(float(row['duration']))\n",
    "            else:\n",
    "                trips_customers.append(float(row['duration']))\n",
    "                \n",
    "        # create totals array\n",
    "        trips_total = trips_subscribers + trips_customers\n",
    "        \n",
    "        # return trip duration arrays as tuples\n",
    "        return(trips_subscribers, trips_customers, trips_total)"
   ]
  },
  {
   "cell_type": "code",
   "execution_count": 22,
   "metadata": {},
   "outputs": [],
   "source": [
    "trips_subscribers, trips_customers, trips_total = get_trips(data_files['NYC'])"
   ]
  },
  {
   "cell_type": "code",
   "execution_count": 23,
   "metadata": {},
   "outputs": [
    {
     "data": {
      "image/png": "[encoded data removed]",
      "text/plain": [
       "<matplotlib.figure.Figure at 0x7f9c0c6ef2b0>"
      ]
     },
     "metadata": {},
     "output_type": "display_data"
    }
   ],
   "source": [
    "%matplotlib inline \n",
    "\n",
    "data = trips_total\n",
    "plt.hist(data)\n",
    "plt.title('Distribution of Trip Durations (NYC)')\n",
    "plt.xlabel('Duration (m)')\n",
    "plt.show()"
   ]
  },
  {
   "cell_type": "markdown",
   "metadata": {},
   "source": [
    "If you followed the use of the `.hist()` and `.show()` functions exactly like in the example, you're probably looking at a plot that's completely unexpected. The plot consists of one extremely tall bar on the left, maybe a very short second bar, and a whole lot of empty space in the center and right. Take a look at the duration values on the x-axis. This suggests that there are some highly infrequent outliers in the data. Instead of reprocessing the data, you will use additional parameters with the `.hist()` function to limit the range of data that is plotted. Documentation for the function can be found [[here]](https://matplotlib.org/devdocs/api/_as_gen/matplotlib.pyplot.hist.html#matplotlib.pyplot.hist).\n",
    "\n",
    "**Question 5**: Use the parameters of the `.hist()` function to plot the distribution of trip times for the Subscribers in your selected city. Do the same thing for only the Customers. Add limits to the plots so that only trips of duration less than 75 minutes are plotted. As a bonus, set the plots up so that bars are in five-minute wide intervals. For each group, where is the peak of each distribution? How would you describe the shape of each distribution?\n",
    "\n",
    "**Answer**:  \n",
    "For subscribers, the peak lies between 5 and 10 minutes. For customers, the peak lies between 20 and 25 minutes. Both distributions are positively skewed (right skewed)."
   ]
  },
  {
   "cell_type": "code",
   "execution_count": 24,
   "metadata": {},
   "outputs": [
    {
     "data": {
      "image/png": "[encoded data removed]",
      "text/plain": [
       "<matplotlib.figure.Figure at 0x7f9c303fc358>"
      ]
     },
     "metadata": {},
     "output_type": "display_data"
    }
   ],
   "source": [
    "## Use this and additional cells to answer Question 5. ##\n",
    "\n",
    "%matplotlib inline \n",
    "\n",
    "data = trips_subscribers\n",
    "plt.hist(data, range=(min(data), 75), bins=range(0, 75 + 5, 5))\n",
    "plt.title('Distribution of Trip Durations for Subscribers (NYC)')\n",
    "plt.xlabel('Duration (m)')\n",
    "plt.show()"
   ]
  },
  {
   "cell_type": "code",
   "execution_count": 25,
   "metadata": {},
   "outputs": [
    {
     "data": {
      "image/png": "[encoded data removed]",
      "text/plain": [
       "<matplotlib.figure.Figure at 0x7f9c0bf9bcf8>"
      ]
     },
     "metadata": {},
     "output_type": "display_data"
    }
   ],
   "source": [
    "%matplotlib inline \n",
    "\n",
    "data = trips_customers\n",
    "plt.hist(data, range=(min(data), 75),  bins=range(0, 75 + 5, 5))\n",
    "plt.title('Distribution of Trip Durations for Customers (NYC)')\n",
    "plt.xlabel('Duration (m)')\n",
    "plt.show()"
   ]
  },
  {
   "cell_type": "markdown",
   "metadata": {
    "collapsed": true
   },
   "source": [
    "<a id='eda_continued'></a>\n",
    "## Performing Your Own Analysis\n",
    "\n",
    "So far, you've performed an initial exploration into the data available. You have compared the relative volume of trips made between three U.S. cities and the ratio of trips made by Subscribers and Customers. For one of these cities, you have investigated differences between Subscribers and Customers in terms of how long a typical trip lasts. Now it is your turn to continue the exploration in a direction that you choose. Here are a few suggestions for questions to explore:\n",
    "\n",
    "- How does ridership differ by month or season? Which month / season has the highest ridership? Does the ratio of Subscriber trips to Customer trips change depending on the month or season?\n",
    "- Is the pattern of ridership different on the weekends versus weekdays? On what days are Subscribers most likely to use the system? What about Customers? Does the average duration of rides change depending on the day of the week?\n",
    "- During what time of day is the system used the most? Is there a difference in usage patterns for Subscribers and Customers?\n",
    "\n",
    "If any of the questions you posed in your answer to question 1 align with the bullet points above, this is a good opportunity to investigate one of them. As part of your investigation, you will need to create a visualization. If you want to create something other than a histogram, then you might want to consult the [Pyplot documentation](https://matplotlib.org/devdocs/api/pyplot_summary.html). In particular, if you are plotting values across a categorical variable (e.g. city, user type), a bar chart will be useful. The [documentation page for `.bar()`](https://matplotlib.org/devdocs/api/_as_gen/matplotlib.pyplot.bar.html#matplotlib.pyplot.bar) includes links at the bottom of the page with examples for you to build off of for your own use.\n",
    "\n",
    "**Question 6**: Continue the investigation by exploring another question that could be answered by the data available. Document the question you want to explore below. Your investigation should involve at least two variables and should compare at least two groups. You should also use at least one visualization as part of your explorations.\n",
    "\n",
    "**Answer**:  \n",
    "1. Ridership increases in the course of the year until it reaches its peak in September. It then decreases steadily until the end of the year. The ratio of Subscriber trips to Customer trips is highest in the beginning and end of the year (winter). It is highest in January, decreases towards the middle of the year and again increases towards the end of the year. There is a minor increase in the ratio during June, though.\n",
    "\n",
    "2. The patterns of ridership differ on weekends versus weekdays. Subscribers tend to use the service mostly mid-week, i.e. on Wednesdays (and Thursdays). Customers tend to use the service mostly on weekends, i.e. Saturdays (and Sundays). Longest trip durations tend to take place during weekends (across all users). While this is also true for subscribers, customers don't have longer trips during weekdays, however shorter trips on Thusdays.\n",
    "\n",
    "3. The system is used most frequently during commute (8am and 5-6pm). While this is also true for subscribers, customers do not share these peak times. Frequencies for customers are approximately normally distributed with a peak during 3pm."
   ]
  },
  {
   "cell_type": "code",
   "execution_count": 26,
   "metadata": {},
   "outputs": [],
   "source": [
    "## Use this and additional cells to continue to explore the dataset. ##\n",
    "## Once you have performed your exploration, document your findings  ##\n",
    "## in the Markdown cell above.                                       ##\n",
    "\n",
    "def get_monthly(filename):\n",
    "    \"\"\"\n",
    "    This function reads in a file with trip data and returns arrays\n",
    "    which store the month of each event.\n",
    "    \"\"\"\n",
    "    with open(filename, 'r') as f_in:\n",
    "        # set up csv reader object\n",
    "        reader = csv.DictReader(f_in)\n",
    "        \n",
    "        # initialize lists\n",
    "        monthly_subscribers = []\n",
    "        monthly_customers = []\n",
    "        \n",
    "        # append month for each event to respective array\n",
    "        for row in reader:\n",
    "            if row['user_type'] == 'Subscriber':\n",
    "                monthly_subscribers.append(int(row['month']))\n",
    "            else:\n",
    "                monthly_customers.append(int(row['month']))\n",
    "\n",
    "        # create list for all users\n",
    "        monthly_total = monthly_subscribers + monthly_customers\n",
    "        \n",
    "        # return lists\n",
    "        return(monthly_subscribers, monthly_customers, monthly_total)"
   ]
  },
  {
   "cell_type": "code",
   "execution_count": 27,
   "metadata": {},
   "outputs": [],
   "source": [
    "monthly_subscribers, monthly_customers, monthly_total = get_monthly(data_files['NYC'])"
   ]
  },
  {
   "cell_type": "code",
   "execution_count": 28,
   "metadata": {},
   "outputs": [
    {
     "data": {
      "image/png": "[encoded data removed]",
      "text/plain": [
       "<matplotlib.figure.Figure at 0x7f9c0bee3470>"
      ]
     },
     "metadata": {},
     "output_type": "display_data"
    }
   ],
   "source": [
    "%matplotlib inline \n",
    "\n",
    "data = monthly_total\n",
    "plt.hist(data, bins=range(1, 14))\n",
    "plt.title('Distribution of total Trips across months (NYC)')\n",
    "plt.xticks(range(1,13))\n",
    "plt.xlabel('Month')\n",
    "plt.show()\n",
    "\n"
   ]
  },
  {
   "cell_type": "code",
   "execution_count": 29,
   "metadata": {},
   "outputs": [
    {
     "name": "stdout",
     "output_type": "stream",
     "text": [
      "{1: 19.860655737704917,\n",
      " 2: 18.63093145869947,\n",
      " 3: 8.80457933972311,\n",
      " 4: 6.659574468085107,\n",
      " 5: 6.620754129012154,\n",
      " 6: 8.324617346938776,\n",
      " 7: 5.920291677143576,\n",
      " 8: 6.049864007252946,\n",
      " 9: 6.4434327338948325,\n",
      " 10: 8.325147928994083,\n",
      " 11: 10.843060323688082,\n",
      " 12: 19.514575411913814}\n"
     ]
    }
   ],
   "source": [
    "# Calculate subscriber/customer trip ratios for each month\n",
    "import collections\n",
    "\n",
    "# ratios = {x: float(monthly_subscribers.count(x) / monthly_customers.count(x)) for x in [i for i in range(1,13)]}\n",
    "ratios = {k: v / collections.Counter(monthly_customers)[k] for k, v in collections.Counter(monthly_subscribers).items()}\n",
    "\n",
    "pprint(ratios)"
   ]
  },
  {
   "cell_type": "code",
   "execution_count": 30,
   "metadata": {},
   "outputs": [
    {
     "data": {
      "image/png": "[encoded data removed]",
      "text/plain": [
       "<matplotlib.figure.Figure at 0x7f9c0be35e48>"
      ]
     },
     "metadata": {},
     "output_type": "display_data"
    }
   ],
   "source": [
    "%matplotlib inline \n",
    "\n",
    "d = ratios\n",
    "plt.bar(range(len(d)), d.values(), align=\"center\")\n",
    "plt.xticks(range(len(d)), list(d.keys()))\n",
    "plt.title('Subscriber/Customer trip ratio for each month (NYC)')\n",
    "plt.xlabel('Month')\n",
    "plt.show()"
   ]
  },
  {
   "cell_type": "code",
   "execution_count": 31,
   "metadata": {},
   "outputs": [],
   "source": [
    "def get_weekdays(filename):\n",
    "    \"\"\"\n",
    "    This function reads in a file with trip data and returns arrays with\n",
    "    a number of trips for each day of the week.\n",
    "    \"\"\"\n",
    "    with open(filename, 'r') as f_in:\n",
    "        # set up csv reader object\n",
    "        reader = csv.DictReader(f_in)\n",
    "        \n",
    "        # initialize dicts for subscribers and customers\n",
    "        weekdays_subs = {\n",
    "            'Monday': 0,\n",
    "            'Tuesday': 0,\n",
    "            'Wednesday': 0,\n",
    "            'Thursday': 0,\n",
    "            'Friday': 0,\n",
    "            'Saturday': 0,\n",
    "            'Sunday': 0\n",
    "        }\n",
    "        weekdays_cust = {\n",
    "            'Monday': 0,\n",
    "            'Tuesday': 0,\n",
    "            'Wednesday': 0,\n",
    "            'Thursday': 0,\n",
    "            'Friday': 0,\n",
    "            'Saturday': 0,\n",
    "            'Sunday': 0\n",
    "        }\n",
    "        \n",
    "        # tally up trips for each user type\n",
    "        for row in reader:\n",
    "            if row['user_type'] == 'Subscriber':\n",
    "                weekdays_subs[row['day_of_week']] += 1\n",
    "            else:\n",
    "                weekdays_cust[row['day_of_week']] += 1\n",
    "\n",
    "        # calculate totals for both user types\n",
    "        weekdays_total = {k: v + weekdays_cust[k] for k, v in weekdays_subs.items()}\n",
    "        \n",
    "        # return tallies as a tuple\n",
    "        return (weekdays_subs, weekdays_cust, weekdays_total)"
   ]
  },
  {
   "cell_type": "code",
   "execution_count": 32,
   "metadata": {},
   "outputs": [],
   "source": [
    "weekdays_subs, weekdays_cust, weekdays_total = get_weekdays(data_files['NYC'])"
   ]
  },
  {
   "cell_type": "code",
   "execution_count": 33,
   "metadata": {},
   "outputs": [
    {
     "data": {
      "text/plain": [
       "{'Friday': 41389,\n",
       " 'Monday': 39340,\n",
       " 'Saturday': 33353,\n",
       " 'Sunday': 31352,\n",
       " 'Thursday': 44330,\n",
       " 'Tuesday': 42405,\n",
       " 'Wednesday': 44629}"
      ]
     },
     "execution_count": 33,
     "metadata": {},
     "output_type": "execute_result"
    }
   ],
   "source": [
    "weekdays_total"
   ]
  },
  {
   "cell_type": "code",
   "execution_count": 34,
   "metadata": {},
   "outputs": [
    {
     "data": {
      "image/png": "[encoded data removed]",
      "text/plain": [
       "<matplotlib.figure.Figure at 0x7f9c0bd80080>"
      ]
     },
     "metadata": {},
     "output_type": "display_data"
    }
   ],
   "source": [
    "%matplotlib inline \n",
    "\n",
    "d = weekdays_total\n",
    "plt.bar(range(len(d)), d.values(), align=\"center\")\n",
    "plt.xticks(range(len(d)), list(d.keys()))\n",
    "plt.title('Distribution of total Trips across weekdays (NYC)')\n",
    "plt.xlabel('Weekday')\n",
    "plt.show()"
   ]
  },
  {
   "cell_type": "code",
   "execution_count": 35,
   "metadata": {},
   "outputs": [
    {
     "data": {
      "image/png": "[encoded data removed]",
      "text/plain": [
       "<matplotlib.figure.Figure at 0x7f9c0be61860>"
      ]
     },
     "metadata": {},
     "output_type": "display_data"
    }
   ],
   "source": [
    "%matplotlib inline \n",
    "\n",
    "d = weekdays_subs\n",
    "plt.bar(range(len(d)), d.values(), align=\"center\")\n",
    "plt.xticks(range(len(d)), list(d.keys()))\n",
    "plt.title('Distribution of subscribers\\' Trips across weekdays (NYC)')\n",
    "plt.xlabel('Weekday')\n",
    "plt.show()"
   ]
  },
  {
   "cell_type": "code",
   "execution_count": 36,
   "metadata": {},
   "outputs": [
    {
     "data": {
      "image/png": "[encoded data removed]",
      "text/plain": [
       "<matplotlib.figure.Figure at 0x7f9c0bdb90b8>"
      ]
     },
     "metadata": {},
     "output_type": "display_data"
    }
   ],
   "source": [
    "%matplotlib inline \n",
    "\n",
    "d = weekdays_cust\n",
    "plt.bar(range(len(d)), d.values(), align=\"center\")\n",
    "plt.xticks(range(len(d)), list(d.keys()))\n",
    "plt.title('Distribution of customers\\' Trips across weekdays (NYC)')\n",
    "plt.xlabel('Weekday')\n",
    "plt.show()"
   ]
  },
  {
   "cell_type": "code",
   "execution_count": 37,
   "metadata": {},
   "outputs": [],
   "source": [
    "def get_duration_for_weekdays(filename):\n",
    "    \"\"\"\n",
    "    This function reads in a file with trip data and returns dicts\n",
    "    of weekdays and their respective average trip durations for\n",
    "    each subscribers, customers and all users.\n",
    "    \"\"\"\n",
    "    with open(filename, 'r') as f_in:\n",
    "        # set up csv reader object\n",
    "        reader = csv.DictReader(f_in)\n",
    "        \n",
    "        # initialize dicts for each user type\n",
    "        duration_wd_subs = {\n",
    "            'Monday': [],\n",
    "            'Tuesday': [],\n",
    "            'Wednesday': [],\n",
    "            'Thursday': [],\n",
    "            'Friday': [],\n",
    "            'Saturday': [],\n",
    "            'Sunday': []\n",
    "        }\n",
    "        duration_wd_cust = {\n",
    "            'Monday': [],\n",
    "            'Tuesday': [],\n",
    "            'Wednesday': [],\n",
    "            'Thursday': [],\n",
    "            'Friday': [],\n",
    "            'Saturday': [],\n",
    "            'Sunday': []\n",
    "        }\n",
    "        \n",
    "        # append durations to respective user type\n",
    "        for row in reader:\n",
    "            if row['user_type'] == 'Subscriber':\n",
    "                duration_wd_subs[row['day_of_week']].append(float(row['duration']))\n",
    "            else:\n",
    "                duration_wd_cust[row['day_of_week']].append(float(row['duration']))\n",
    "\n",
    "        # create data structure for totals\n",
    "        duration_wd_total = {k: v + duration_wd_cust[k] for k, v in duration_wd_subs.items()}\n",
    "        \n",
    "        # aggregate lists for each weekday using mean\n",
    "        duration_wd_subs = {k: mean(v) for k, v in duration_wd_subs.items()}\n",
    "        duration_wd_cust = {k: mean(v) for k, v in duration_wd_cust.items()}\n",
    "        duration_wd_total = {k: mean(v) for k, v in duration_wd_total.items()}\n",
    "        \n",
    "        # return aggregates as tuple\n",
    "        return (duration_wd_subs, duration_wd_cust, duration_wd_total)"
   ]
  },
  {
   "cell_type": "code",
   "execution_count": 38,
   "metadata": {},
   "outputs": [],
   "source": [
    "duration_wd_subs, duration_wd_cust, duration_wd_total = get_duration_for_weekdays(data_files['NYC'])"
   ]
  },
  {
   "cell_type": "code",
   "execution_count": 39,
   "metadata": {},
   "outputs": [
    {
     "data": {
      "image/png": "[encoded data removed]",
      "text/plain": [
       "<matplotlib.figure.Figure at 0x7f9c0be783c8>"
      ]
     },
     "metadata": {},
     "output_type": "display_data"
    }
   ],
   "source": [
    "%matplotlib inline \n",
    "\n",
    "d = duration_wd_subs\n",
    "plt.bar(range(len(d)), d.values(), align=\"center\")\n",
    "plt.xticks(range(len(d)), list(d.keys()))\n",
    "plt.title('Distribution of subscribers\\' Trip Durations across weekdays (NYC)')\n",
    "plt.xlabel('Duration (m)')\n",
    "plt.show()"
   ]
  },
  {
   "cell_type": "code",
   "execution_count": 40,
   "metadata": {},
   "outputs": [
    {
     "data": {
      "image/png": "[encoded data removed]",
      "text/plain": [
       "<matplotlib.figure.Figure at 0x7f9c0bd6f4e0>"
      ]
     },
     "metadata": {},
     "output_type": "display_data"
    }
   ],
   "source": [
    "%matplotlib inline \n",
    "\n",
    "d = duration_wd_cust\n",
    "plt.bar(range(len(d)), d.values(), align=\"center\")\n",
    "plt.xticks(range(len(d)), list(d.keys()))\n",
    "plt.title('Distribution of customers\\' Trip Durations across weekdays (NYC)')\n",
    "plt.xlabel('Duration (m)')\n",
    "plt.show()"
   ]
  },
  {
   "cell_type": "code",
   "execution_count": 41,
   "metadata": {},
   "outputs": [
    {
     "data": {
      "image/png": "[encoded data removed]",
      "text/plain": [
       "<matplotlib.figure.Figure at 0x7f9c0bf93828>"
      ]
     },
     "metadata": {},
     "output_type": "display_data"
    }
   ],
   "source": [
    "%matplotlib inline \n",
    "\n",
    "d = duration_wd_total\n",
    "plt.bar(range(len(d)), d.values(), align=\"center\")\n",
    "plt.xticks(range(len(d)), list(d.keys()))\n",
    "plt.title('Distribution of total Trip Durations across weekdays (NYC)')\n",
    "plt.xlabel('Duration (m)')\n",
    "plt.show()"
   ]
  },
  {
   "cell_type": "code",
   "execution_count": 42,
   "metadata": {},
   "outputs": [],
   "source": [
    "def get_hrs_per_day(filename):\n",
    "    \"\"\"\n",
    "    This function reads in a file with trip data and returns two arrays \n",
    "    including duration of trips made by each subscribers and customers.\n",
    "    \"\"\"\n",
    "    with open(filename, 'r') as f_in:\n",
    "        # set up csv reader object\n",
    "        reader = csv.DictReader(f_in)\n",
    "        \n",
    "        # initialize dicts with zeros\n",
    "        hours_subs = {k: 0 for k in [i for i in range(0,24)]}\n",
    "        hours_cust = {k: 0 for k in [i for i in range(0,24)]}\n",
    "        \n",
    "        # tally up ride types\n",
    "        for row in reader:\n",
    "            if row['user_type'] == 'Subscriber':\n",
    "                hours_subs[int(row['hour'])] += 1\n",
    "            else:\n",
    "                hours_cust[int(row['hour'])] += 1\n",
    "                \n",
    "        hours_total = {k: v + hours_cust[k] for k, v in hours_subs.items()}\n",
    "        \n",
    "        # return tallies as a tuple\n",
    "        return (hours_subs, hours_cust, hours_total)"
   ]
  },
  {
   "cell_type": "code",
   "execution_count": 43,
   "metadata": {},
   "outputs": [],
   "source": [
    "hours_subs, hours_cust, hours_total = get_hrs_per_day(data_files['NYC'])"
   ]
  },
  {
   "cell_type": "code",
   "execution_count": 44,
   "metadata": {},
   "outputs": [
    {
     "data": {
      "text/plain": [
       "{0: 2159,\n",
       " 1: 1179,\n",
       " 2: 634,\n",
       " 3: 442,\n",
       " 4: 460,\n",
       " 5: 1531,\n",
       " 6: 5907,\n",
       " 7: 12771,\n",
       " 8: 21935,\n",
       " 9: 16655,\n",
       " 10: 10518,\n",
       " 11: 10451,\n",
       " 12: 11991,\n",
       " 13: 12765,\n",
       " 14: 13109,\n",
       " 15: 13673,\n",
       " 16: 16781,\n",
       " 17: 24472,\n",
       " 18: 23859,\n",
       " 19: 16178,\n",
       " 20: 11150,\n",
       " 21: 7771,\n",
       " 22: 5631,\n",
       " 23: 3874}"
      ]
     },
     "execution_count": 44,
     "metadata": {},
     "output_type": "execute_result"
    }
   ],
   "source": [
    "hours_subs"
   ]
  },
  {
   "cell_type": "code",
   "execution_count": 45,
   "metadata": {},
   "outputs": [
    {
     "data": {
      "image/png": "[encoded data removed]",
      "text/plain": [
       "<matplotlib.figure.Figure at 0x7f9c0be94240>"
      ]
     },
     "metadata": {},
     "output_type": "display_data"
    }
   ],
   "source": [
    "%matplotlib inline \n",
    "\n",
    "d = hours_total\n",
    "plt.bar(range(len(d)), d.values(), align=\"center\")\n",
    "plt.xticks(range(len(d)), list(d.keys()))\n",
    "plt.title('Distribution of total Trips across time of the day (NYC)')\n",
    "plt.xlabel('Time of the day')\n",
    "plt.show()"
   ]
  },
  {
   "cell_type": "code",
   "execution_count": 46,
   "metadata": {},
   "outputs": [
    {
     "data": {
      "image/png": "[encoded data removed]",
      "text/plain": [
       "<matplotlib.figure.Figure at 0x7f9c32b63128>"
      ]
     },
     "metadata": {},
     "output_type": "display_data"
    }
   ],
   "source": [
    "%matplotlib inline \n",
    "\n",
    "d = hours_subs\n",
    "plt.bar(range(len(d)), d.values(), align=\"center\")\n",
    "plt.xticks(range(len(d)), list(d.keys()))\n",
    "plt.title('Distribution of subscriber Trips across time of the day (NYC)')\n",
    "plt.xlabel('Time of the day')\n",
    "plt.show()"
   ]
  },
  {
   "cell_type": "code",
   "execution_count": 47,
   "metadata": {},
   "outputs": [
    {
     "data": {
      "image/png": "[encoded data removed]",
      "text/plain": [
       "<matplotlib.figure.Figure at 0x7f9c0b909198>"
      ]
     },
     "metadata": {},
     "output_type": "display_data"
    }
   ],
   "source": [
    "%matplotlib inline \n",
    "\n",
    "d = hours_cust\n",
    "plt.bar(range(len(d)), d.values(), align=\"center\")\n",
    "plt.xticks(range(len(d)), list(d.keys()))\n",
    "plt.title('Distribution of customer Trips across time of the day (NYC)')\n",
    "plt.xlabel('Time of the day')\n",
    "plt.show()"
   ]
  },
  {
   "cell_type": "markdown",
   "metadata": {},
   "source": [
    "<a id='conclusions'></a>\n",
    "## Conclusions\n",
    "\n",
    "Congratulations on completing the project! This is only a sampling of the data analysis process: from generating questions, wrangling the data, and to exploring the data. Normally, at this point in the data analysis process, you might want to draw conclusions about the data by performing a statistical test or fitting the data to a model for making predictions. There are also a lot of potential analyses that could be performed on the data which are not possible with only the data provided. For example, detailed location data has not been investigated. Where are the most commonly used docks? What are the most common routes? As another example, weather has potential to have a large impact on daily ridership. How much is ridership impacted when there is rain or snow? Are subscribers or customers affected more by changes in weather?\n",
    "\n",
    "**Question 7**: Putting the bike share data aside, think of a topic or field of interest where you would like to be able to apply the techniques of data science. What would you like to be able to learn from your chosen subject?\n",
    "\n",
    "**Answer**: I would be interested in applying data science techniques on patients' data in order to find patterns that can explain certain diseases and, in the best case, develop better therapeutic methods and treatments in a data-driven way.\n",
    "\n",
    "> **Tip**: If we want to share the results of our analysis with others, we aren't limited to giving them a copy of the jupyter Notebook (.ipynb) file. We can also export the Notebook output in a form that can be opened even for those without Python installed. From the **File** menu in the upper left, go to the **Download as** submenu. You can then choose a different format that can be viewed more generally, such as HTML (.html) or\n",
    "PDF (.pdf). You may need additional packages or software to perform these exports.\n",
    "\n",
    "> If you are working on this project via the Project Notebook page in the classroom, you can also submit this project directly from the workspace. **Before you do that**, you should save an HTML copy of the completed project to the workspace by running the code cell below. If it worked correctly, the output code should be a 0, and if you click on the jupyter icon in the upper left, you should see your .html document in the workspace directory. Alternatively, you can download the .html copy of your report following the steps in the previous paragraph, then _upload_ the report to the directory (by clicking the jupyter icon).\n",
    "\n",
    "> Either way, once you've gotten the .html report in your workspace, you can complete your submission by clicking on the \"Submit Project\" button to the lower-right hand side of the workspace."
   ]
  },
  {
   "cell_type": "code",
   "execution_count": 48,
   "metadata": {},
   "outputs": [
    {
     "data": {
      "text/plain": [
       "0"
      ]
     },
     "execution_count": 48,
     "metadata": {},
     "output_type": "execute_result"
    }
   ],
   "source": [
    "from subprocess import call\n",
    "call(['python', '-m', 'nbconvert', 'Bike_Share_Analysis.ipynb'])"
   ]
  }
 ],
 "metadata": {
  "anaconda-cloud": {},
  "kernelspec": {
   "display_name": "Python 3",
   "language": "python",
   "name": "python3"
  },
  "language_info": {
   "codemirror_mode": {
    "name": "ipython",
    "version": 3
   },
   "file_extension": ".py",
   "mimetype": "text/x-python",
   "name": "python",
   "nbconvert_exporter": "python",
   "pygments_lexer": "ipython3",
   "version": "3.6.3"
  }
 },
 "nbformat": 4,
 "nbformat_minor": 1
}
